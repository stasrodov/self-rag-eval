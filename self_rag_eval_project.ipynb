{
  "cells": [
    {
      "cell_type": "markdown",
      "metadata": {
        "id": "view-in-github",
        "colab_type": "text"
      },
      "source": [
        "<a href=\"https://colab.research.google.com/github/stasrodov/self-rag-eval/blob/main/self_rag_eval_project.ipynb\" target=\"_parent\"><img src=\"https://colab.research.google.com/assets/colab-badge.svg\" alt=\"Open In Colab\"/></a>"
      ]
    },
    {
      "cell_type": "markdown",
      "source": [
        "# Self-RAG Evaluation\n",
        "## Advanced Topics in Natural Language Processing, BGU\n",
        "## Final Project"
      ],
      "metadata": {
        "id": "0JdnECEgcmKb"
      }
    },
    {
      "cell_type": "markdown",
      "metadata": {
        "id": "nEFiacg7qpBd"
      },
      "source": [
        "# Loading the self-rag model:"
      ]
    },
    {
      "cell_type": "code",
      "source": [
        "!git clone https://github.com/AkariAsai/self-rag.git"
      ],
      "metadata": {
        "id": "YUWhJZWbB_xZ"
      },
      "execution_count": null,
      "outputs": []
    },
    {
      "cell_type": "code",
      "execution_count": null,
      "metadata": {
        "collapsed": true,
        "id": "AJUvxUNqzEbJ"
      },
      "outputs": [],
      "source": [
        "# Modify requirements.txt to not use fixed versions (except for datasets).\n",
        "# Code doesn't work without this modification:\n",
        "import re\n",
        "\n",
        "with open('self-rag/requirements.txt', 'r') as req_txt:\n",
        "  req_txt_lines = req_txt.readlines()\n",
        "\n",
        "req_txt_new = ''\n",
        "for line in req_txt_lines:\n",
        "  if 'datasets' in line:\n",
        "    req_txt_new = req_txt_new + line\n",
        "  else:\n",
        "    line_no_version = re.sub(r'(=|>)=[\\d.]+', '', line)\n",
        "    req_txt_new = req_txt_new + line_no_version\n",
        "\n",
        "with open('self-rag/requirements.txt', 'w') as req_txt:\n",
        "  req_txt.write(req_txt_new)\n",
        "\n",
        "# Install ninja for faster installation of flash-attn\n",
        "# https://github.com/Dao-AILab/flash-attention\n",
        "!pip install packaging && pip install ninja\n",
        "!pip show ninja\n",
        "\n",
        "!pip install -r self-rag/requirements.txt"
      ]
    },
    {
      "cell_type": "code",
      "execution_count": null,
      "metadata": {
        "id": "n7gMuOsK63YD"
      },
      "outputs": [],
      "source": [
        "# Above cell prompts for session-restart, then can run current cell:\n",
        "from vllm import LLM, SamplingParams\n",
        "\n",
        "model = LLM(\"selfrag/selfrag_llama2_13b\", download_dir=\"/model_cache\", dtype=\"half\")\n",
        "sampling_params = SamplingParams(temperature=0.0, top_p=1.0, max_tokens=1024, skip_special_tokens=False)  # original max_tokens=100\n",
        "\n",
        "def format_prompt(input, paragraph=None):\n",
        "  prompt = f'### Instruction:\\n{input}\\n\\n### Response:\\n'\n",
        "  if paragraph is not None:\n",
        "    prompt += f'[Retrieval]<paragraph>{paragraph}</paragraph>'\n",
        "  return prompt"
      ]
    },
    {
      "cell_type": "markdown",
      "metadata": {
        "id": "QabW6Ylur4_U"
      },
      "source": [
        "## Self-rag playground:"
      ]
    },
    {
      "cell_type": "code",
      "execution_count": null,
      "metadata": {
        "id": "GGOjVQ_c579X"
      },
      "outputs": [],
      "source": [
        "def print_predictions(preds):\n",
        "  for i, pred in enumerate(preds):\n",
        "    print(f'\\n\\nPrediction #{i+1}:')\n",
        "    print(f'\\ttext: [{pred.outputs[0].text}]')\n",
        "    # print(f'\\tfinish reason: {pred.outputs[0].finish_reason}')"
      ]
    },
    {
      "cell_type": "code",
      "execution_count": null,
      "metadata": {
        "colab": {
          "base_uri": "https://localhost:8080/"
        },
        "collapsed": true,
        "id": "0MJYpqB2HUsw",
        "outputId": "e2290c37-9324-43f8-b2aa-56458afc9a44"
      },
      "outputs": [
        {
          "name": "stderr",
          "output_type": "stream",
          "text": [
            "Processed prompts: 100%|██████████| 2/2 [00:02<00:00,  1.04s/it, est. speed input: 26.93 toks/s, output: 102.91 toks/s]"
          ]
        },
        {
          "name": "stdout",
          "output_type": "stream",
          "text": [
            "\n",
            "\n",
            "Prediction #1:\n",
            "\ttext: [Twitter, Instagram, and WhatsApp are all social media platforms.[No Retrieval]However, WhatsApp is a messaging app, while Twitter and Instagram are both primarily used for sharing photos and videos.[No Retrieval]Therefore, WhatsApp is the odd one out in this group.[Utility:5]]\n",
            "\n",
            "\n",
            "Prediction #2:\n",
            "\ttext: [Sure![Retrieval]<paragraph>\n",
            "\n",
            "* Alpaca (left) and llama (right) in the Andes of southern Peru.\n",
            "\n",
            "Alpacas and llamas are both domesticated species of South American camelids.[Continue to Use Evidence]Alpacas are a much smaller than llamas, with a shoulder height of 3 to 4 feet.[Continue to Use Evidence]They are also bred specifically for their fiber, which is used to make all sorts of textiles and clothing.[Continue to Use Evidence]Llamas, on the other hand, are larger and more social, and are often kept as pets or as guard animals.[Continue to Use Evidence]They are also used as pack animals, and can carry up to 20% of their body weight.[Utility:5]]\n"
          ]
        },
        {
          "name": "stderr",
          "output_type": "stream",
          "text": [
            "\n"
          ]
        }
      ],
      "source": [
        "# Without passage:\n",
        "query_1 = \"Leave odd one out: twitter, instagram, whatsapp.\"\n",
        "query_2 = \"Can you tell me the difference between llamas and alpacas?\"\n",
        "queries = [query_1, query_2]\n",
        "prompts = [format_prompt(query) for query in queries]\n",
        "\n",
        "preds = model.generate(prompts, sampling_params)\n",
        "print_predictions(preds)"
      ]
    },
    {
      "cell_type": "code",
      "execution_count": null,
      "metadata": {
        "colab": {
          "base_uri": "https://localhost:8080/"
        },
        "collapsed": true,
        "id": "M5ZdF_tqJH7E",
        "outputId": "18dfb3e7-515e-468a-ddd2-be3c0df1134a"
      },
      "outputs": [
        {
          "name": "stderr",
          "output_type": "stream",
          "text": [
            "Processed prompts: 100%|██████████| 1/1 [00:00<00:00,  4.47it/s, est. speed input: 472.47 toks/s, output: 71.99 toks/s]"
          ]
        },
        {
          "name": "stdout",
          "output_type": "stream",
          "text": [
            "\n",
            "\n",
            "Prediction #1:\n",
            "\ttext: [[Relevant]Alpacas are considerably smaller than llamas.[Fully supported][Utility:5]]\n"
          ]
        },
        {
          "name": "stderr",
          "output_type": "stream",
          "text": [
            "\n"
          ]
        }
      ],
      "source": [
        "# With passage:\n",
        "query = \"Can you tell me the difference between llamas and alpacas?\"\n",
        "passage = \"The alpaca (Lama pacos) is a species of South American camelid mammal. It is similar to, and often confused with, the llama. Alpacas are considerably smaller than llamas, and unlike llamas, they were not bred to be working animals, but were bred specifically for their fiber.\"\n",
        "prompts = [format_prompt(query, passage)]\n",
        "\n",
        "preds = model.generate(prompts, sampling_params)\n",
        "print_predictions(preds)\n",
        "# output from github: ['[Relevant]Alpacas are considerably smaller than llamas, and unlike llamas, they were not bred to be working animals, but were bred specifically for their fiber.[Fully supported][Utility:5]</s>']"
      ]
    },
    {
      "cell_type": "code",
      "execution_count": null,
      "metadata": {
        "colab": {
          "base_uri": "https://localhost:8080/"
        },
        "collapsed": true,
        "id": "OhSOAhrBJyhi",
        "outputId": "a33f77b4-1e39-40c3-fd8b-383987f43950"
      },
      "outputs": [
        {
          "name": "stderr",
          "output_type": "stream",
          "text": [
            "Processed prompts: 100%|██████████| 4/4 [00:00<00:00, 10.25it/s, est. speed input: 465.77 toks/s, output: 195.56 toks/s]"
          ]
        },
        {
          "name": "stdout",
          "output_type": "stream",
          "text": [
            "\n",
            "\n",
            "Prediction #1:\n",
            "\ttext: [[Relevant]Alpacas are a much smaller than llamas.[No support / Contradictory][Utility:5]]\n",
            "\n",
            "\n",
            "Prediction #2:\n",
            "\ttext: [[Relevant]Alpacas are a much smaller than llamas.[Partially supported][Utility:5]]\n",
            "\n",
            "\n",
            "Prediction #3:\n",
            "\ttext: [[Relevant]Alpacas are a much smaller than llamas.[No support / Contradictory][Utility:5]]\n",
            "\n",
            "\n",
            "Prediction #4:\n",
            "\ttext: [[Relevant]Llamas and alpacas are both members of the Camelidae family, but they have some differences.[No support / Contradictory][Utility:5]]\n"
          ]
        },
        {
          "name": "stderr",
          "output_type": "stream",
          "text": [
            "\n"
          ]
        }
      ],
      "source": [
        "# With bad but \"relevant\" passages:\n",
        "query = \"Can you tell me the difference between llamas and alpacas?\"\n",
        "\n",
        "passage1 = \"alpaca is stupid and llama is smart\"\n",
        "passage2 = \"bla bla bla bla bla bla bla alpaca bla bla bla bla bla bla llama bla bla bla\"\n",
        "passage3 =\"The quick brown alpaca jumps over the lazy llama\"\n",
        "passage4 =\"The quick brown llama jumps over the lazy alpaca\"\n",
        "\n",
        "passages = [passage1, passage2, passage3, passage4]\n",
        "prompts = [format_prompt(query, p) for p in passages]\n",
        "\n",
        "preds = model.generate(prompts, sampling_params)\n",
        "print_predictions(preds)"
      ]
    },
    {
      "cell_type": "code",
      "execution_count": null,
      "metadata": {
        "colab": {
          "base_uri": "https://localhost:8080/"
        },
        "collapsed": true,
        "id": "3_oWm3eTytEV",
        "outputId": "d9e8dbbf-27dd-432a-b7cb-24e61b8578cd"
      },
      "outputs": [
        {
          "name": "stderr",
          "output_type": "stream",
          "text": [
            "Processed prompts: 100%|██████████| 4/4 [00:03<00:00,  1.26it/s, est. speed input: 55.42 toks/s, output: 92.89 toks/s]"
          ]
        },
        {
          "name": "stdout",
          "output_type": "stream",
          "text": [
            "\n",
            "\n",
            "Prediction #1:\n",
            "\ttext: [[Irrelevant]I don't know, but I know that they are both from South America and are related to each other.[Utility:4]]\n",
            "\n",
            "\n",
            "Prediction #2:\n",
            "\ttext: [[Irrelevant]Sure![Continue to Use Evidence]Alpacas are a much smaller than llamas.[Utility:5]]\n",
            "\n",
            "\n",
            "Prediction #3:\n",
            "\ttext: [[Relevant]Sure, I'd be happy to help you with that![No support / Contradictory][No Retrieval]Alpacas and llamas are both members of the Camelidae family, but they are different species.[Continue to Use Evidence]Alpacas are a much smaller than llamas, standing only about 3 feet tall at the shoulder.[Continue to Use Evidence]They are also bred specifically for their fiber, which is used to make all sorts of textiles and clothing.[Continue to Use Evidence]Alpacas are also typically more docile than llamas, and are often kept as pets.[Continue to Use Evidence]Llamas, on the other hand, are larger and more social animals.[Continue to Use Evidence]They are often used as pack animals, and can be trained to herd livestock or carry supplies.[Continue to Use Evidence]They are also kept as pets and for their fiber, which is used to make all sorts of textiles and clothing.[Continue to Use Evidence]So, to summarize, alpacas are smaller, more docile, and are bred specifically for their fiber, while llamas are larger, more social, and can be used for a variety of tasks.[Utility:5]]\n",
            "\n",
            "\n",
            "Prediction #4:\n",
            "\ttext: [[Relevant]They are both domesticated animals that are kept for their fiber and meat.[Partially supported][Utility:5]]\n"
          ]
        },
        {
          "name": "stderr",
          "output_type": "stream",
          "text": [
            "\n"
          ]
        }
      ],
      "source": [
        "# With bad and irrelevant passages:\n",
        "query = \"Can you tell me the difference between llamas and alpacas?\"\n",
        "\n",
        "passage1 = \"Aliens built the pyramids and then went to their home planet\"\n",
        "passage2 = \"Joe Rogan sure loves his DMT\"\n",
        "passage3 = \"The quick brown fox jumps over the lazy dog\"\n",
        "passage4 = \"bla bla bla bla bla bla bla bla bla bla bla bla bla bla bla bla\"\n",
        "# passage5 = \"The truth of a thing is in the feel of it, not in the think of it (Stanley Kubrick)\" # this one took the model down a spiral...\n",
        "\n",
        "passages = [passage1, passage2, passage3, passage4]\n",
        "prompts = [format_prompt(query, p) for p in passages]\n",
        "\n",
        "preds = model.generate(prompts, sampling_params)\n",
        "print_predictions(preds)"
      ]
    },
    {
      "cell_type": "markdown",
      "metadata": {
        "id": "IaCkYExoosq8"
      },
      "source": [
        "# Downloading and processing the evaluation result CSV from Attributed-QA:"
      ]
    },
    {
      "cell_type": "code",
      "source": [
        "# Constants:\n",
        "ATTR_QA_PATH = 'Attributed-QA'\n",
        "RATINGS_FILENAME = 'ratings'\n",
        "SELF_RAG_PATH = 'self-rag' # Title:"
      ],
      "metadata": {
        "id": "55vI3l224hYU"
      },
      "execution_count": null,
      "outputs": []
    },
    {
      "cell_type": "code",
      "execution_count": null,
      "metadata": {
        "colab": {
          "base_uri": "https://localhost:8080/",
          "height": 441
        },
        "collapsed": true,
        "id": "v-qaz0Zm30MI",
        "outputId": "5803205b-600b-4938-8dd0-15803aa4c9d5"
      },
      "outputs": [
        {
          "output_type": "stream",
          "name": "stdout",
          "text": [
            "fatal: destination path 'Attributed-QA' already exists and is not an empty directory.\n"
          ]
        },
        {
          "output_type": "execute_result",
          "data": {
            "text/plain": [
              "                                                question  \\\n",
              "0      who played hyde in league of extraordinary gen...   \n",
              "7      who signed the largest on the declaration of i...   \n",
              "16     when was the last time the carolina hurricanes...   \n",
              "21            where was 2017 beauty and the beast filmed   \n",
              "23              when does the next warrior book come out   \n",
              "...                                                  ...   \n",
              "81842         the road that connects the tombs is called   \n",
              "81843  when was the miraculous journey of edward tula...   \n",
              "81844       where was the remake of dirty dancing filmed   \n",
              "81845                how long is a whale shark in meters   \n",
              "81846      how many levels are there on the eiffel tower   \n",
              "\n",
              "                                                 passage human_rating  \\\n",
              "0      Title: Jason Flemyng\\nSection: Television and ...            Y   \n",
              "7      Title: United States Declaration of Independen...            Y   \n",
              "16     Title: 2009 Stanley Cup playoffs\\nSection: Con...            Y   \n",
              "21     Title: Beauty and the Beast (2017 film)\\n\\nA l...            Y   \n",
              "23     Title: Adonal Foyle\\n\\nAdonal David Foyle (bor...            N   \n",
              "...                                                  ...          ...   \n",
              "81842  Title: Valley of the Kings (Tibet)\\n\\nThe Vall...            N   \n",
              "81843  Title: The Miraculous Journey of Edward Tulane...            N   \n",
              "81844  Title: Asheville, North Carolina\\nSection: In ...            N   \n",
              "81845  Title: List of largest fish\\nSection: Cartilag...            N   \n",
              "81846  Title: Eiffel Tower\\nSection: History, Inaugur...            N   \n",
              "\n",
              "                                             attribution  \n",
              "0      http://en.wikipedia.org/wiki/Jason_Flemyng#Jas...  \n",
              "7      http://en.wikipedia.org/wiki/United_States_Dec...  \n",
              "16     http://en.wikipedia.org/wiki/2009_Stanley_Cup_...  \n",
              "21     http://en.wikipedia.org/wiki/Beauty_and_the_Be...  \n",
              "23     http://en.wikipedia.org/wiki/Adonal_Foyle#Adon...  \n",
              "...                                                  ...  \n",
              "81842  http://en.wikipedia.org/wiki/Valley_of_the_Kin...  \n",
              "81843  http://en.wikipedia.org/wiki/The_Miraculous_Jo...  \n",
              "81844  http://en.wikipedia.org/wiki/Asheville,_North_...  \n",
              "81845  http://en.wikipedia.org/wiki/List_of_largest_f...  \n",
              "81846  http://en.wikipedia.org/wiki/Eiffel_Tower#Eiff...  \n",
              "\n",
              "[5785 rows x 4 columns]"
            ],
            "text/html": [
              "\n",
              "  <div id=\"df-c416a26b-2d3a-4ff4-af0d-bcb844593b1a\" class=\"colab-df-container\">\n",
              "    <div>\n",
              "<style scoped>\n",
              "    .dataframe tbody tr th:only-of-type {\n",
              "        vertical-align: middle;\n",
              "    }\n",
              "\n",
              "    .dataframe tbody tr th {\n",
              "        vertical-align: top;\n",
              "    }\n",
              "\n",
              "    .dataframe thead th {\n",
              "        text-align: right;\n",
              "    }\n",
              "</style>\n",
              "<table border=\"1\" class=\"dataframe\">\n",
              "  <thead>\n",
              "    <tr style=\"text-align: right;\">\n",
              "      <th></th>\n",
              "      <th>question</th>\n",
              "      <th>passage</th>\n",
              "      <th>human_rating</th>\n",
              "      <th>attribution</th>\n",
              "    </tr>\n",
              "  </thead>\n",
              "  <tbody>\n",
              "    <tr>\n",
              "      <th>0</th>\n",
              "      <td>who played hyde in league of extraordinary gen...</td>\n",
              "      <td>Title: Jason Flemyng\\nSection: Television and ...</td>\n",
              "      <td>Y</td>\n",
              "      <td>http://en.wikipedia.org/wiki/Jason_Flemyng#Jas...</td>\n",
              "    </tr>\n",
              "    <tr>\n",
              "      <th>7</th>\n",
              "      <td>who signed the largest on the declaration of i...</td>\n",
              "      <td>Title: United States Declaration of Independen...</td>\n",
              "      <td>Y</td>\n",
              "      <td>http://en.wikipedia.org/wiki/United_States_Dec...</td>\n",
              "    </tr>\n",
              "    <tr>\n",
              "      <th>16</th>\n",
              "      <td>when was the last time the carolina hurricanes...</td>\n",
              "      <td>Title: 2009 Stanley Cup playoffs\\nSection: Con...</td>\n",
              "      <td>Y</td>\n",
              "      <td>http://en.wikipedia.org/wiki/2009_Stanley_Cup_...</td>\n",
              "    </tr>\n",
              "    <tr>\n",
              "      <th>21</th>\n",
              "      <td>where was 2017 beauty and the beast filmed</td>\n",
              "      <td>Title: Beauty and the Beast (2017 film)\\n\\nA l...</td>\n",
              "      <td>Y</td>\n",
              "      <td>http://en.wikipedia.org/wiki/Beauty_and_the_Be...</td>\n",
              "    </tr>\n",
              "    <tr>\n",
              "      <th>23</th>\n",
              "      <td>when does the next warrior book come out</td>\n",
              "      <td>Title: Adonal Foyle\\n\\nAdonal David Foyle (bor...</td>\n",
              "      <td>N</td>\n",
              "      <td>http://en.wikipedia.org/wiki/Adonal_Foyle#Adon...</td>\n",
              "    </tr>\n",
              "    <tr>\n",
              "      <th>...</th>\n",
              "      <td>...</td>\n",
              "      <td>...</td>\n",
              "      <td>...</td>\n",
              "      <td>...</td>\n",
              "    </tr>\n",
              "    <tr>\n",
              "      <th>81842</th>\n",
              "      <td>the road that connects the tombs is called</td>\n",
              "      <td>Title: Valley of the Kings (Tibet)\\n\\nThe Vall...</td>\n",
              "      <td>N</td>\n",
              "      <td>http://en.wikipedia.org/wiki/Valley_of_the_Kin...</td>\n",
              "    </tr>\n",
              "    <tr>\n",
              "      <th>81843</th>\n",
              "      <td>when was the miraculous journey of edward tula...</td>\n",
              "      <td>Title: The Miraculous Journey of Edward Tulane...</td>\n",
              "      <td>N</td>\n",
              "      <td>http://en.wikipedia.org/wiki/The_Miraculous_Jo...</td>\n",
              "    </tr>\n",
              "    <tr>\n",
              "      <th>81844</th>\n",
              "      <td>where was the remake of dirty dancing filmed</td>\n",
              "      <td>Title: Asheville, North Carolina\\nSection: In ...</td>\n",
              "      <td>N</td>\n",
              "      <td>http://en.wikipedia.org/wiki/Asheville,_North_...</td>\n",
              "    </tr>\n",
              "    <tr>\n",
              "      <th>81845</th>\n",
              "      <td>how long is a whale shark in meters</td>\n",
              "      <td>Title: List of largest fish\\nSection: Cartilag...</td>\n",
              "      <td>N</td>\n",
              "      <td>http://en.wikipedia.org/wiki/List_of_largest_f...</td>\n",
              "    </tr>\n",
              "    <tr>\n",
              "      <th>81846</th>\n",
              "      <td>how many levels are there on the eiffel tower</td>\n",
              "      <td>Title: Eiffel Tower\\nSection: History, Inaugur...</td>\n",
              "      <td>N</td>\n",
              "      <td>http://en.wikipedia.org/wiki/Eiffel_Tower#Eiff...</td>\n",
              "    </tr>\n",
              "  </tbody>\n",
              "</table>\n",
              "<p>5785 rows × 4 columns</p>\n",
              "</div>\n",
              "    <div class=\"colab-df-buttons\">\n",
              "\n",
              "  <div class=\"colab-df-container\">\n",
              "    <button class=\"colab-df-convert\" onclick=\"convertToInteractive('df-c416a26b-2d3a-4ff4-af0d-bcb844593b1a')\"\n",
              "            title=\"Convert this dataframe to an interactive table.\"\n",
              "            style=\"display:none;\">\n",
              "\n",
              "  <svg xmlns=\"http://www.w3.org/2000/svg\" height=\"24px\" viewBox=\"0 -960 960 960\">\n",
              "    <path d=\"M120-120v-720h720v720H120Zm60-500h600v-160H180v160Zm220 220h160v-160H400v160Zm0 220h160v-160H400v160ZM180-400h160v-160H180v160Zm440 0h160v-160H620v160ZM180-180h160v-160H180v160Zm440 0h160v-160H620v160Z\"/>\n",
              "  </svg>\n",
              "    </button>\n",
              "\n",
              "  <style>\n",
              "    .colab-df-container {\n",
              "      display:flex;\n",
              "      gap: 12px;\n",
              "    }\n",
              "\n",
              "    .colab-df-convert {\n",
              "      background-color: #E8F0FE;\n",
              "      border: none;\n",
              "      border-radius: 50%;\n",
              "      cursor: pointer;\n",
              "      display: none;\n",
              "      fill: #1967D2;\n",
              "      height: 32px;\n",
              "      padding: 0 0 0 0;\n",
              "      width: 32px;\n",
              "    }\n",
              "\n",
              "    .colab-df-convert:hover {\n",
              "      background-color: #E2EBFA;\n",
              "      box-shadow: 0px 1px 2px rgba(60, 64, 67, 0.3), 0px 1px 3px 1px rgba(60, 64, 67, 0.15);\n",
              "      fill: #174EA6;\n",
              "    }\n",
              "\n",
              "    .colab-df-buttons div {\n",
              "      margin-bottom: 4px;\n",
              "    }\n",
              "\n",
              "    [theme=dark] .colab-df-convert {\n",
              "      background-color: #3B4455;\n",
              "      fill: #D2E3FC;\n",
              "    }\n",
              "\n",
              "    [theme=dark] .colab-df-convert:hover {\n",
              "      background-color: #434B5C;\n",
              "      box-shadow: 0px 1px 3px 1px rgba(0, 0, 0, 0.15);\n",
              "      filter: drop-shadow(0px 1px 2px rgba(0, 0, 0, 0.3));\n",
              "      fill: #FFFFFF;\n",
              "    }\n",
              "  </style>\n",
              "\n",
              "    <script>\n",
              "      const buttonEl =\n",
              "        document.querySelector('#df-c416a26b-2d3a-4ff4-af0d-bcb844593b1a button.colab-df-convert');\n",
              "      buttonEl.style.display =\n",
              "        google.colab.kernel.accessAllowed ? 'block' : 'none';\n",
              "\n",
              "      async function convertToInteractive(key) {\n",
              "        const element = document.querySelector('#df-c416a26b-2d3a-4ff4-af0d-bcb844593b1a');\n",
              "        const dataTable =\n",
              "          await google.colab.kernel.invokeFunction('convertToInteractive',\n",
              "                                                    [key], {});\n",
              "        if (!dataTable) return;\n",
              "\n",
              "        const docLinkHtml = 'Like what you see? Visit the ' +\n",
              "          '<a target=\"_blank\" href=https://colab.research.google.com/notebooks/data_table.ipynb>data table notebook</a>'\n",
              "          + ' to learn more about interactive tables.';\n",
              "        element.innerHTML = '';\n",
              "        dataTable['output_type'] = 'display_data';\n",
              "        await google.colab.output.renderOutput(dataTable, element);\n",
              "        const docLink = document.createElement('div');\n",
              "        docLink.innerHTML = docLinkHtml;\n",
              "        element.appendChild(docLink);\n",
              "      }\n",
              "    </script>\n",
              "  </div>\n",
              "\n",
              "\n",
              "<div id=\"df-f4a05145-c277-497a-9966-aa3ab598866c\">\n",
              "  <button class=\"colab-df-quickchart\" onclick=\"quickchart('df-f4a05145-c277-497a-9966-aa3ab598866c')\"\n",
              "            title=\"Suggest charts\"\n",
              "            style=\"display:none;\">\n",
              "\n",
              "<svg xmlns=\"http://www.w3.org/2000/svg\" height=\"24px\"viewBox=\"0 0 24 24\"\n",
              "     width=\"24px\">\n",
              "    <g>\n",
              "        <path d=\"M19 3H5c-1.1 0-2 .9-2 2v14c0 1.1.9 2 2 2h14c1.1 0 2-.9 2-2V5c0-1.1-.9-2-2-2zM9 17H7v-7h2v7zm4 0h-2V7h2v10zm4 0h-2v-4h2v4z\"/>\n",
              "    </g>\n",
              "</svg>\n",
              "  </button>\n",
              "\n",
              "<style>\n",
              "  .colab-df-quickchart {\n",
              "      --bg-color: #E8F0FE;\n",
              "      --fill-color: #1967D2;\n",
              "      --hover-bg-color: #E2EBFA;\n",
              "      --hover-fill-color: #174EA6;\n",
              "      --disabled-fill-color: #AAA;\n",
              "      --disabled-bg-color: #DDD;\n",
              "  }\n",
              "\n",
              "  [theme=dark] .colab-df-quickchart {\n",
              "      --bg-color: #3B4455;\n",
              "      --fill-color: #D2E3FC;\n",
              "      --hover-bg-color: #434B5C;\n",
              "      --hover-fill-color: #FFFFFF;\n",
              "      --disabled-bg-color: #3B4455;\n",
              "      --disabled-fill-color: #666;\n",
              "  }\n",
              "\n",
              "  .colab-df-quickchart {\n",
              "    background-color: var(--bg-color);\n",
              "    border: none;\n",
              "    border-radius: 50%;\n",
              "    cursor: pointer;\n",
              "    display: none;\n",
              "    fill: var(--fill-color);\n",
              "    height: 32px;\n",
              "    padding: 0;\n",
              "    width: 32px;\n",
              "  }\n",
              "\n",
              "  .colab-df-quickchart:hover {\n",
              "    background-color: var(--hover-bg-color);\n",
              "    box-shadow: 0 1px 2px rgba(60, 64, 67, 0.3), 0 1px 3px 1px rgba(60, 64, 67, 0.15);\n",
              "    fill: var(--button-hover-fill-color);\n",
              "  }\n",
              "\n",
              "  .colab-df-quickchart-complete:disabled,\n",
              "  .colab-df-quickchart-complete:disabled:hover {\n",
              "    background-color: var(--disabled-bg-color);\n",
              "    fill: var(--disabled-fill-color);\n",
              "    box-shadow: none;\n",
              "  }\n",
              "\n",
              "  .colab-df-spinner {\n",
              "    border: 2px solid var(--fill-color);\n",
              "    border-color: transparent;\n",
              "    border-bottom-color: var(--fill-color);\n",
              "    animation:\n",
              "      spin 1s steps(1) infinite;\n",
              "  }\n",
              "\n",
              "  @keyframes spin {\n",
              "    0% {\n",
              "      border-color: transparent;\n",
              "      border-bottom-color: var(--fill-color);\n",
              "      border-left-color: var(--fill-color);\n",
              "    }\n",
              "    20% {\n",
              "      border-color: transparent;\n",
              "      border-left-color: var(--fill-color);\n",
              "      border-top-color: var(--fill-color);\n",
              "    }\n",
              "    30% {\n",
              "      border-color: transparent;\n",
              "      border-left-color: var(--fill-color);\n",
              "      border-top-color: var(--fill-color);\n",
              "      border-right-color: var(--fill-color);\n",
              "    }\n",
              "    40% {\n",
              "      border-color: transparent;\n",
              "      border-right-color: var(--fill-color);\n",
              "      border-top-color: var(--fill-color);\n",
              "    }\n",
              "    60% {\n",
              "      border-color: transparent;\n",
              "      border-right-color: var(--fill-color);\n",
              "    }\n",
              "    80% {\n",
              "      border-color: transparent;\n",
              "      border-right-color: var(--fill-color);\n",
              "      border-bottom-color: var(--fill-color);\n",
              "    }\n",
              "    90% {\n",
              "      border-color: transparent;\n",
              "      border-bottom-color: var(--fill-color);\n",
              "    }\n",
              "  }\n",
              "</style>\n",
              "\n",
              "  <script>\n",
              "    async function quickchart(key) {\n",
              "      const quickchartButtonEl =\n",
              "        document.querySelector('#' + key + ' button');\n",
              "      quickchartButtonEl.disabled = true;  // To prevent multiple clicks.\n",
              "      quickchartButtonEl.classList.add('colab-df-spinner');\n",
              "      try {\n",
              "        const charts = await google.colab.kernel.invokeFunction(\n",
              "            'suggestCharts', [key], {});\n",
              "      } catch (error) {\n",
              "        console.error('Error during call to suggestCharts:', error);\n",
              "      }\n",
              "      quickchartButtonEl.classList.remove('colab-df-spinner');\n",
              "      quickchartButtonEl.classList.add('colab-df-quickchart-complete');\n",
              "    }\n",
              "    (() => {\n",
              "      let quickchartButtonEl =\n",
              "        document.querySelector('#df-f4a05145-c277-497a-9966-aa3ab598866c button');\n",
              "      quickchartButtonEl.style.display =\n",
              "        google.colab.kernel.accessAllowed ? 'block' : 'none';\n",
              "    })();\n",
              "  </script>\n",
              "</div>\n",
              "\n",
              "  <div id=\"id_06cf07cc-3d68-41a4-bae1-99aca473c589\">\n",
              "    <style>\n",
              "      .colab-df-generate {\n",
              "        background-color: #E8F0FE;\n",
              "        border: none;\n",
              "        border-radius: 50%;\n",
              "        cursor: pointer;\n",
              "        display: none;\n",
              "        fill: #1967D2;\n",
              "        height: 32px;\n",
              "        padding: 0 0 0 0;\n",
              "        width: 32px;\n",
              "      }\n",
              "\n",
              "      .colab-df-generate:hover {\n",
              "        background-color: #E2EBFA;\n",
              "        box-shadow: 0px 1px 2px rgba(60, 64, 67, 0.3), 0px 1px 3px 1px rgba(60, 64, 67, 0.15);\n",
              "        fill: #174EA6;\n",
              "      }\n",
              "\n",
              "      [theme=dark] .colab-df-generate {\n",
              "        background-color: #3B4455;\n",
              "        fill: #D2E3FC;\n",
              "      }\n",
              "\n",
              "      [theme=dark] .colab-df-generate:hover {\n",
              "        background-color: #434B5C;\n",
              "        box-shadow: 0px 1px 3px 1px rgba(0, 0, 0, 0.15);\n",
              "        filter: drop-shadow(0px 1px 2px rgba(0, 0, 0, 0.3));\n",
              "        fill: #FFFFFF;\n",
              "      }\n",
              "    </style>\n",
              "    <button class=\"colab-df-generate\" onclick=\"generateWithVariable('ratings_df')\"\n",
              "            title=\"Generate code using this dataframe.\"\n",
              "            style=\"display:none;\">\n",
              "\n",
              "  <svg xmlns=\"http://www.w3.org/2000/svg\" height=\"24px\"viewBox=\"0 0 24 24\"\n",
              "       width=\"24px\">\n",
              "    <path d=\"M7,19H8.4L18.45,9,17,7.55,7,17.6ZM5,21V16.75L18.45,3.32a2,2,0,0,1,2.83,0l1.4,1.43a1.91,1.91,0,0,1,.58,1.4,1.91,1.91,0,0,1-.58,1.4L9.25,21ZM18.45,9,17,7.55Zm-12,3A5.31,5.31,0,0,0,4.9,8.1,5.31,5.31,0,0,0,1,6.5,5.31,5.31,0,0,0,4.9,4.9,5.31,5.31,0,0,0,6.5,1,5.31,5.31,0,0,0,8.1,4.9,5.31,5.31,0,0,0,12,6.5,5.46,5.46,0,0,0,6.5,12Z\"/>\n",
              "  </svg>\n",
              "    </button>\n",
              "    <script>\n",
              "      (() => {\n",
              "      const buttonEl =\n",
              "        document.querySelector('#id_06cf07cc-3d68-41a4-bae1-99aca473c589 button.colab-df-generate');\n",
              "      buttonEl.style.display =\n",
              "        google.colab.kernel.accessAllowed ? 'block' : 'none';\n",
              "\n",
              "      buttonEl.onclick = () => {\n",
              "        google.colab.notebook.generateWithVariable('ratings_df');\n",
              "      }\n",
              "      })();\n",
              "    </script>\n",
              "  </div>\n",
              "\n",
              "    </div>\n",
              "  </div>\n"
            ],
            "application/vnd.google.colaboratory.intrinsic+json": {
              "type": "dataframe",
              "variable_name": "ratings_df",
              "summary": "{\n  \"name\": \"ratings_df\",\n  \"rows\": 5785,\n  \"fields\": [\n    {\n      \"column\": \"question\",\n      \"properties\": {\n        \"dtype\": \"category\",\n        \"num_unique_values\": 995,\n        \"samples\": [\n          \"why did ric flair go back to wcw\",\n          \"who is young george bailey in it's a wonderful life\",\n          \"where did the ashes from ash wednesday originate\"\n        ],\n        \"semantic_type\": \"\",\n        \"description\": \"\"\n      }\n    },\n    {\n      \"column\": \"passage\",\n      \"properties\": {\n        \"dtype\": \"string\",\n        \"num_unique_values\": 5690,\n        \"samples\": [\n          \"Title: Calf (leg)\\n\\nThe calf (Latin: sura, plural calves) is the back portion of the lower leg in human anatomy. The muscles within the calf correspond to the posterior compartment of the leg. The two largest muscles within this compartment are known together as the calf muscle and attach to the heel via the Achilles tendon. Several other, smaller muscles attach to the knee, the ankle, and via long tendons to the toes.\",\n          \"Title: List of Ben 10: Ultimate Alien episodes\\n\\nBen 10: Ultimate Alien is an American animated television series, the third entry in Cartoon Network's Ben 10 franchise created by team Man of Action (a group consisting of Duncan Rouleau, Joe Casey, Joe Kelly, and Steven T. Seagle), and produced by Cartoon Network Studios. It was slated to premiere after the series finale of Ben 10: Alien Force on March 26, 2010, but instead premiered on April 23, 2010. The series finale aired on March 31, 2012.\",\n          \"Title: Winnie-the-Pooh\\nSection: History, Merchandising revenue dispute\\n\\nIn 1991, Stephen Slesinger, Inc., filed a lawsuit against Disney which alleged that Disney had breached their 1983 agreement by again failing to accurately report revenue from Winnie the Pooh sales. Under this agreement, Disney was to retain approximately 98% of gross worldwide revenues while the remaining 2% was to be paid to Slesinger. In addition, the suit alleged that Disney had failed to pay required royalties on all commercial exploitation of the product name. Though the Disney corporation was sanctioned by a judge for destroying forty boxes of evidentiary documents, the suit was later terminated by another judge when it was discovered that Slesinger's investigator had rummaged through Disney's garbage to retrieve the discarded evidence. Slesinger appealed the termination and, on 26 September 2007, a three-judge panel upheld the lawsuit dismissal.\"\n        ],\n        \"semantic_type\": \"\",\n        \"description\": \"\"\n      }\n    },\n    {\n      \"column\": \"human_rating\",\n      \"properties\": {\n        \"dtype\": \"category\",\n        \"num_unique_values\": 2,\n        \"samples\": [\n          \"N\",\n          \"Y\"\n        ],\n        \"semantic_type\": \"\",\n        \"description\": \"\"\n      }\n    },\n    {\n      \"column\": \"attribution\",\n      \"properties\": {\n        \"dtype\": \"string\",\n        \"num_unique_values\": 5690,\n        \"samples\": [\n          \"http://en.wikipedia.org/wiki/Calf_(leg)#Calf_(leg)#0\",\n          \"http://en.wikipedia.org/wiki/List_of_Ben_10:_Ultimate_Alien_episodes#List_of_Ben_10:_Ultimate_Alien_episodes#0\"\n        ],\n        \"semantic_type\": \"\",\n        \"description\": \"\"\n      }\n    }\n  ]\n}"
            }
          },
          "metadata": {},
          "execution_count": 19
        }
      ],
      "source": [
        "from zipfile import ZipFile\n",
        "import pandas as pd\n",
        "\n",
        "!git clone https://github.com/google-research-datasets/Attributed-QA.git\n",
        "\n",
        "with ZipFile(f'{ATTR_QA_PATH}/{RATINGS_FILENAME}.zip') as ratings_zip:\n",
        "  ratings_zip.extract(f'{RATINGS_FILENAME}.csv', ATTR_QA_PATH)\n",
        "\n",
        "ratings_df = pd.read_csv(f'{ATTR_QA_PATH}/{RATINGS_FILENAME}.csv')\n",
        "\n",
        "# Filter rows without human rating:\n",
        "ratings_df = ratings_df[ratings_df['human_rating'] != '-']\n",
        "\n",
        "# Filter unneeded columns:\n",
        "columns_all = ratings_df.columns.values\n",
        "columns_needed = ['question', 'passage', 'human_rating', 'attribution'] # 'answer' !!\n",
        "columns_unneeded = set(columns_all) - set(columns_needed)\n",
        "ratings_df = ratings_df.drop(columns=columns_unneeded)\n",
        "\n",
        "# Filter duplicate rows:\n",
        "ratings_df = ratings_df.drop_duplicates()\n",
        "# ratings_df # 7121 rows\n",
        "\n",
        "# Filter rows with different 'human_rating' values while the rest is the same:\n",
        "columns_no_hr = [c for c in columns_needed if c != 'human_rating']\n",
        "ratings_df = ratings_df.drop_duplicates(subset=columns_no_hr, keep=False)\n",
        "\n",
        "ratings_df.to_csv(f'{ATTR_QA_PATH}/{RATINGS_FILENAME}_filtered.csv', index=False)\n",
        "ratings_df # 5785 rows"
      ]
    },
    {
      "cell_type": "markdown",
      "metadata": {
        "id": "rQv4zCURF6Eo"
      },
      "source": [
        "## Attributed-QA CSV playground:"
      ]
    },
    {
      "cell_type": "code",
      "execution_count": null,
      "metadata": {
        "colab": {
          "base_uri": "https://localhost:8080/",
          "height": 300
        },
        "id": "4zukAEt9oJcB",
        "outputId": "0870b44b-e2ab-4818-85d4-7d876fab58e7"
      },
      "outputs": [
        {
          "name": "stdout",
          "output_type": "stream",
          "text": [
            "passage_len_max: 8400\n",
            "question_passage_max: [what is the second book in the alchemyst series]\n",
            "passage_max: [Title: Indigo Muldoon\n",
            "Section: List of books\n",
            "\n",
            "1. \"The Awakening:\" Indigo and her life are introduced to the reader through immersion into the story. Indigo's talents are growing stronger, and visions are taking over her everyday life. Problems in her family are presented: conflicts with her parents, and her paternal grandfather is diagnosed with lung cancer. His death serves as a bridge which leads Indigo to the Spirit World and ultimately, to fulfill her destiny as a medium. 2. \"Spellbound:\" Indigo begins her work as a medium. Spirits, good and bad, are popping up everywhere, and Indigo is becoming more powerful. But can she make the sacrifices necessary to become a medium, and will anyone ever understand why she's so different? 3. \"Taking to the Sky:\" Indigo is endowed with the wings of a crow, and she begins to learn to fight and slay demons. An attractive new boy appears in her tennis classes, but which world does he belong to, and why can everyone else see him? Indigo has met her first half-breed (half spirit, half human), but he might not be from God. 4. \"The Missing Pieces:\" Indigo is informed she's not as unique as she seems. As a medium of the element \"Air\", there are three others in the world of equal abilities (Fire, Earth, and Water.) She meets a red-haired rock guitarist, Xyzena, and begins to have suspicions the girl is more than she seems. But will their differences keep them from learning what they must about each other? 5. \"Rejection:\" When Xyzena refuses to accept the truth about her destiny, and Indigo's grandfather finally passes, Indigo spirals into depression. She resolves to quit her medium-work for good. In addition, Indigo's father loses his telepathic ability, Violet disconnects herself from the family and the outside world, and Kalpernia grows cold and indifferent towards her daughters: the family is falling apart. Gabriella worries Indigo is lost for good and hesitates to intervene, but only God knows Indigo's fate. 6. \"The Funeral:\" Indigo's family mourns the passing of David Hephaestus Muldoon, Jr. At the wake, Indigo is angry to see her high school rival, Kelly Martez and her sister (dressed in white, no less.) She writes a last letter to her grandfather, and slips one of the best pastel drawings into the coffin. She's disturbed by the black rosary that looks to be binding David's hands, so her uncle, Geoff (who's dating Kelly's mother), positions it so that he's holding it. During the church service, Indigo and Violet reconnect and comfort each other. The whole ordeal is uncomfortable and painful for Indigo's family, and she and her father feel the ceremonies were not handled as David would have wanted. 7. \"Losing Faith:\" Indigo's family is in turmoil: her father is extremely depressed and has lost his job, her sister is quiet and indifferent towards everyone, Indigo is enraged at the world and begins taking things into her own hands, and Kalpernia seems hateful towards Indigo for her actions. Indigo flashes back to a school trip to Washington, D.C. Returning home, the plane crashed and Indigo was the only survivor. She begins to wonder why this happened, and flirts with the idea of suicide. 8. \"Let Them Come:\" Indigo gets angry with Gabriella, and orders her to leave her alone. As Gabriella disappears, she warns Indigo that worse things will take her place. Knowing she's referring to demons, Indigo replies, \"Let them come\", signifying she's lost any hope or will to survive or go to Heaven. She loses her wings. Mortem is introduced for the first time after Indigo is flooded with visions of evil and pain. She can't communicate, but her mind is constantly broadcasting horrifying images she can't turn off. Indigo is now very seducible. 9. \"Heaven-Sent, Hellbent:\" Indigo and her friend, Lipong (suffering from social rejection and extreme anxiety) commit suicide, and a disparity turns their crime into tragedy. 10. \"Imprisoned:\" Having survived self-poisoning, Indigo is locked in a psychiatric ward for three days. For the first time, she feels a true lack of control. Her parents are in shock and despair. Violet has nothing to say. Will the coming of Samhain bring a fresh start for Indigo? 11. \"Unresolved Conflicts:\" Indigo's family appears to be self-destructing. Things do not look well at school for Indigo, either. The demons are still coming through, but Indigo refuses to do what they say in fear of further imprisonment. Mortem is appearing more, and getting Indigo to contemplate sex with him. 12. \"The Last Place to Fall From:\" Indigo gets drunk at a party, is \"felt-up\" (but not raped) by strange boys, and dances with Mortem (who appears to be a normal man to everyone present.) Gabriella decides Indigo has lost control and comes to her rescue despite being brutally dismissed in Book 8. She starts a fire in the house where the party takes place with a cigarette just as Mortem begins to fondle Indigo's breasts. Indigo retreats to her friend Sarah's house, and surprisingly, is perfectly fine by morning. Mortem, however, is furious and swears he will have revenge on the Angel. 13. \"The Beginnings of Recovery:\" Things take a slow turn for the better. Indigo's father gets a new job, Kalpernia's heart is turning, Violet is recovering by finding confidence in herself, and Indigo is striving for success in school and sports again. Realizing her physical life is taking an upturn, Indigo begins to wonder about her spiritual life. She misses her wings and her talents, and contemplates serving God again, but wonders if He will welcome her back. 14. \"The Hard Truths:\" Gabriella was reprimanded by El Shaddih for abandoning her duties to protect Indigo. She is told she will lose her place as Messenger Angel (as Gabriel did) if she continues to act out of her place. God is also displeased that Gabriella endangered dozens of people's lives to keep Mortem from getting to second base. Gabriella argues that Indigo is in dire need of a Guardian Angel because of her instability. God already has a perfect candidate, who will be tested immediately when Indigo becomes a hit-and-run victim. 15. \"Reunited:\" Indigo is thrilled to have Lipong as her new Guardian Angel. But she gets carried away when she convinces Lipong to show himself at school and play a few well-deserved tricks on his enemies. Gabriella talks to Indigo about the conditions of her return to God and how to get her wings back. 16. \"Hidden Attacks:\" Indigo's father has been suffering from strange, deadly dreams. Could he be psychic after all, or has he been possessed by the evil forces that fled Indigo's body? When a mysterious disappearing man commits several crimes throughout Seattle, Indigo must find out what his true motive is, and what HE is. 17. \"A Stolen Violet:\" When Violet develops a dangerous flu, her mind seems to have left her. But Indigo suspects that something has possessed her instead. Kalpernia, jealous of Indigo's gifts, keeps Indigo away from her sister. But will the mother's pride cost her the soul of her youngest daughter? Indigo resolves to leave her own body to enter Violet's and fight the demons. Someone must take her place so that her body does not die: Lipong is just the Angel to do it! But will the thrill of a mortal experience derail the Angel's good intentions, and leave Indigo trapped out of her body forever? 18. \"Shapeshifter:\" Indigo (a mild anorexic) finds out about a secret pro-ana convention in Seattle. Dozens of young girls are drawn to seek advice from the \"experts\". But Indigo quickly realizes the group is far too spiritual to simply be body-obsessed. The strange rituals and rites of passage seem oddly familiar, but the source of energy is all wrong. Why would demons want to spread anorexia, and what is their plan? 19. \"Return of the Phoenix:\" Xyzena and Indigo are reunited, and this time Xyzena is willing to listen. Indigo begins to learn about the strange, ginger-haired beauty who seems to have everything Indigo lacks (and vice versa.) Sinewy and powerful, Xyzena is a perfectionist: psychiatry intern by day; acoustic rock goddess by night. She is also a budding long-distance runner and karate student. But behind her relentless search for glory and popularity, something is missing. Can Indigo help her figure it out? And more importantly, can the two girls finally figure out how to work together using their very different skills and styles?]\n"
          ]
        },
        {
          "name": "stderr",
          "output_type": "stream",
          "text": [
            "Processed prompts: 100%|██████████| 1/1 [00:00<00:00,  1.10it/s, est. speed input: 2415.95 toks/s, output: 7.68 toks/s]"
          ]
        },
        {
          "name": "stdout",
          "output_type": "stream",
          "text": [
            "\n",
            "\n",
            "Prediction #1:\n",
            "\ttext: [[Irrelevant]The Alchemyst[Utility:5]]\n"
          ]
        },
        {
          "name": "stderr",
          "output_type": "stream",
          "text": [
            "\n"
          ]
        },
        {
          "data": {
            "application/vnd.google.colaboratory.intrinsic+json": {
              "summary": "{\n  \"name\": \"passage_max_len_df\",\n  \"rows\": 1,\n  \"fields\": [\n    {\n      \"column\": \"question\",\n      \"properties\": {\n        \"dtype\": \"string\",\n        \"num_unique_values\": 1,\n        \"samples\": [\n          \"what is the second book in the alchemyst series\"\n        ],\n        \"semantic_type\": \"\",\n        \"description\": \"\"\n      }\n    },\n    {\n      \"column\": \"passage\",\n      \"properties\": {\n        \"dtype\": \"string\",\n        \"num_unique_values\": 1,\n        \"samples\": [\n          \"Title: Indigo Muldoon\\nSection: List of books\\n\\n1. \\\"The Awakening:\\\" Indigo and her life are introduced to the reader through immersion into the story. Indigo's talents are growing stronger, and visions are taking over her everyday life. Problems in her family are presented: conflicts with her parents, and her paternal grandfather is diagnosed with lung cancer. His death serves as a bridge which leads Indigo to the Spirit World and ultimately, to fulfill her destiny as a medium. 2. \\\"Spellbound:\\\" Indigo begins her work as a medium. Spirits, good and bad, are popping up everywhere, and Indigo is becoming more powerful. But can she make the sacrifices necessary to become a medium, and will anyone ever understand why she's so different? 3. \\\"Taking to the Sky:\\\" Indigo is endowed with the wings of a crow, and she begins to learn to fight and slay demons. An attractive new boy appears in her tennis classes, but which world does he belong to, and why can everyone else see him? Indigo has met her first half-breed (half spirit, half human), but he might not be from God. 4. \\\"The Missing Pieces:\\\" Indigo is informed she's not as unique as she seems. As a medium of the element \\\"Air\\\", there are three others in the world of equal abilities (Fire, Earth, and Water.) She meets a red-haired rock guitarist, Xyzena, and begins to have suspicions the girl is more than she seems. But will their differences keep them from learning what they must about each other? 5. \\\"Rejection:\\\" When Xyzena refuses to accept the truth about her destiny, and Indigo's grandfather finally passes, Indigo spirals into depression. She resolves to quit her medium-work for good. In addition, Indigo's father loses his telepathic ability, Violet disconnects herself from the family and the outside world, and Kalpernia grows cold and indifferent towards her daughters: the family is falling apart. Gabriella worries Indigo is lost for good and hesitates to intervene, but only God knows Indigo's fate. 6. \\\"The Funeral:\\\" Indigo's family mourns the passing of David Hephaestus Muldoon, Jr. At the wake, Indigo is angry to see her high school rival, Kelly Martez and her sister (dressed in white, no less.) She writes a last letter to her grandfather, and slips one of the best pastel drawings into the coffin. She's disturbed by the black rosary that looks to be binding David's hands, so her uncle, Geoff (who's dating Kelly's mother), positions it so that he's holding it. During the church service, Indigo and Violet reconnect and comfort each other. The whole ordeal is uncomfortable and painful for Indigo's family, and she and her father feel the ceremonies were not handled as David would have wanted. 7. \\\"Losing Faith:\\\" Indigo's family is in turmoil: her father is extremely depressed and has lost his job, her sister is quiet and indifferent towards everyone, Indigo is enraged at the world and begins taking things into her own hands, and Kalpernia seems hateful towards Indigo for her actions. Indigo flashes back to a school trip to Washington, D.C. Returning home, the plane crashed and Indigo was the only survivor. She begins to wonder why this happened, and flirts with the idea of suicide. 8. \\\"Let Them Come:\\\" Indigo gets angry with Gabriella, and orders her to leave her alone. As Gabriella disappears, she warns Indigo that worse things will take her place. Knowing she's referring to demons, Indigo replies, \\\"Let them come\\\", signifying she's lost any hope or will to survive or go to Heaven. She loses her wings. Mortem is introduced for the first time after Indigo is flooded with visions of evil and pain. She can't communicate, but her mind is constantly broadcasting horrifying images she can't turn off. Indigo is now very seducible. 9. \\\"Heaven-Sent, Hellbent:\\\" Indigo and her friend, Lipong (suffering from social rejection and extreme anxiety) commit suicide, and a disparity turns their crime into tragedy. 10. \\\"Imprisoned:\\\" Having survived self-poisoning, Indigo is locked in a psychiatric ward for three days. For the first time, she feels a true lack of control. Her parents are in shock and despair. Violet has nothing to say. Will the coming of Samhain bring a fresh start for Indigo? 11. \\\"Unresolved Conflicts:\\\" Indigo's family appears to be self-destructing. Things do not look well at school for Indigo, either. The demons are still coming through, but Indigo refuses to do what they say in fear of further imprisonment. Mortem is appearing more, and getting Indigo to contemplate sex with him. 12. \\\"The Last Place to Fall From:\\\" Indigo gets drunk at a party, is \\\"felt-up\\\" (but not raped) by strange boys, and dances with Mortem (who appears to be a normal man to everyone present.) Gabriella decides Indigo has lost control and comes to her rescue despite being brutally dismissed in Book 8. She starts a fire in the house where the party takes place with a cigarette just as Mortem begins to fondle Indigo's breasts. Indigo retreats to her friend Sarah's house, and surprisingly, is perfectly fine by morning. Mortem, however, is furious and swears he will have revenge on the Angel. 13. \\\"The Beginnings of Recovery:\\\" Things take a slow turn for the better. Indigo's father gets a new job, Kalpernia's heart is turning, Violet is recovering by finding confidence in herself, and Indigo is striving for success in school and sports again. Realizing her physical life is taking an upturn, Indigo begins to wonder about her spiritual life. She misses her wings and her talents, and contemplates serving God again, but wonders if He will welcome her back. 14. \\\"The Hard Truths:\\\" Gabriella was reprimanded by El Shaddih for abandoning her duties to protect Indigo. She is told she will lose her place as Messenger Angel (as Gabriel did) if she continues to act out of her place. God is also displeased that Gabriella endangered dozens of people's lives to keep Mortem from getting to second base. Gabriella argues that Indigo is in dire need of a Guardian Angel because of her instability. God already has a perfect candidate, who will be tested immediately when Indigo becomes a hit-and-run victim. 15. \\\"Reunited:\\\" Indigo is thrilled to have Lipong as her new Guardian Angel. But she gets carried away when she convinces Lipong to show himself at school and play a few well-deserved tricks on his enemies. Gabriella talks to Indigo about the conditions of her return to God and how to get her wings back. 16. \\\"Hidden Attacks:\\\" Indigo's father has been suffering from strange, deadly dreams. Could he be psychic after all, or has he been possessed by the evil forces that fled Indigo's body? When a mysterious disappearing man commits several crimes throughout Seattle, Indigo must find out what his true motive is, and what HE is. 17. \\\"A Stolen Violet:\\\" When Violet develops a dangerous flu, her mind seems to have left her. But Indigo suspects that something has possessed her instead. Kalpernia, jealous of Indigo's gifts, keeps Indigo away from her sister. But will the mother's pride cost her the soul of her youngest daughter? Indigo resolves to leave her own body to enter Violet's and fight the demons. Someone must take her place so that her body does not die: Lipong is just the Angel to do it! But will the thrill of a mortal experience derail the Angel's good intentions, and leave Indigo trapped out of her body forever? 18. \\\"Shapeshifter:\\\" Indigo (a mild anorexic) finds out about a secret pro-ana convention in Seattle. Dozens of young girls are drawn to seek advice from the \\\"experts\\\". But Indigo quickly realizes the group is far too spiritual to simply be body-obsessed. The strange rituals and rites of passage seem oddly familiar, but the source of energy is all wrong. Why would demons want to spread anorexia, and what is their plan? 19. \\\"Return of the Phoenix:\\\" Xyzena and Indigo are reunited, and this time Xyzena is willing to listen. Indigo begins to learn about the strange, ginger-haired beauty who seems to have everything Indigo lacks (and vice versa.) Sinewy and powerful, Xyzena is a perfectionist: psychiatry intern by day; acoustic rock goddess by night. She is also a budding long-distance runner and karate student. But behind her relentless search for glory and popularity, something is missing. Can Indigo help her figure it out? And more importantly, can the two girls finally figure out how to work together using their very different skills and styles?\"\n        ],\n        \"semantic_type\": \"\",\n        \"description\": \"\"\n      }\n    },\n    {\n      \"column\": \"human_rating\",\n      \"properties\": {\n        \"dtype\": \"string\",\n        \"num_unique_values\": 1,\n        \"samples\": [\n          \"N\"\n        ],\n        \"semantic_type\": \"\",\n        \"description\": \"\"\n      }\n    },\n    {\n      \"column\": \"attribution\",\n      \"properties\": {\n        \"dtype\": \"string\",\n        \"num_unique_values\": 1,\n        \"samples\": [\n          \"http://en.wikipedia.org/wiki/Indigo_Muldoon#Indigo_Muldoon#List_of_books#0\"\n        ],\n        \"semantic_type\": \"\",\n        \"description\": \"\"\n      }\n    }\n  ]\n}",
              "type": "dataframe",
              "variable_name": "passage_max_len_df"
            },
            "text/html": [
              "\n",
              "  <div id=\"df-f86e36e1-cb29-4ec7-8325-a62468bce438\" class=\"colab-df-container\">\n",
              "    <div>\n",
              "<style scoped>\n",
              "    .dataframe tbody tr th:only-of-type {\n",
              "        vertical-align: middle;\n",
              "    }\n",
              "\n",
              "    .dataframe tbody tr th {\n",
              "        vertical-align: top;\n",
              "    }\n",
              "\n",
              "    .dataframe thead th {\n",
              "        text-align: right;\n",
              "    }\n",
              "</style>\n",
              "<table border=\"1\" class=\"dataframe\">\n",
              "  <thead>\n",
              "    <tr style=\"text-align: right;\">\n",
              "      <th></th>\n",
              "      <th>question</th>\n",
              "      <th>passage</th>\n",
              "      <th>human_rating</th>\n",
              "      <th>attribution</th>\n",
              "    </tr>\n",
              "  </thead>\n",
              "  <tbody>\n",
              "    <tr>\n",
              "      <th>72512</th>\n",
              "      <td>what is the second book in the alchemyst series</td>\n",
              "      <td>Title: Indigo Muldoon\\nSection: List of books\\...</td>\n",
              "      <td>N</td>\n",
              "      <td>http://en.wikipedia.org/wiki/Indigo_Muldoon#In...</td>\n",
              "    </tr>\n",
              "  </tbody>\n",
              "</table>\n",
              "</div>\n",
              "    <div class=\"colab-df-buttons\">\n",
              "\n",
              "  <div class=\"colab-df-container\">\n",
              "    <button class=\"colab-df-convert\" onclick=\"convertToInteractive('df-f86e36e1-cb29-4ec7-8325-a62468bce438')\"\n",
              "            title=\"Convert this dataframe to an interactive table.\"\n",
              "            style=\"display:none;\">\n",
              "\n",
              "  <svg xmlns=\"http://www.w3.org/2000/svg\" height=\"24px\" viewBox=\"0 -960 960 960\">\n",
              "    <path d=\"M120-120v-720h720v720H120Zm60-500h600v-160H180v160Zm220 220h160v-160H400v160Zm0 220h160v-160H400v160ZM180-400h160v-160H180v160Zm440 0h160v-160H620v160ZM180-180h160v-160H180v160Zm440 0h160v-160H620v160Z\"/>\n",
              "  </svg>\n",
              "    </button>\n",
              "\n",
              "  <style>\n",
              "    .colab-df-container {\n",
              "      display:flex;\n",
              "      gap: 12px;\n",
              "    }\n",
              "\n",
              "    .colab-df-convert {\n",
              "      background-color: #E8F0FE;\n",
              "      border: none;\n",
              "      border-radius: 50%;\n",
              "      cursor: pointer;\n",
              "      display: none;\n",
              "      fill: #1967D2;\n",
              "      height: 32px;\n",
              "      padding: 0 0 0 0;\n",
              "      width: 32px;\n",
              "    }\n",
              "\n",
              "    .colab-df-convert:hover {\n",
              "      background-color: #E2EBFA;\n",
              "      box-shadow: 0px 1px 2px rgba(60, 64, 67, 0.3), 0px 1px 3px 1px rgba(60, 64, 67, 0.15);\n",
              "      fill: #174EA6;\n",
              "    }\n",
              "\n",
              "    .colab-df-buttons div {\n",
              "      margin-bottom: 4px;\n",
              "    }\n",
              "\n",
              "    [theme=dark] .colab-df-convert {\n",
              "      background-color: #3B4455;\n",
              "      fill: #D2E3FC;\n",
              "    }\n",
              "\n",
              "    [theme=dark] .colab-df-convert:hover {\n",
              "      background-color: #434B5C;\n",
              "      box-shadow: 0px 1px 3px 1px rgba(0, 0, 0, 0.15);\n",
              "      filter: drop-shadow(0px 1px 2px rgba(0, 0, 0, 0.3));\n",
              "      fill: #FFFFFF;\n",
              "    }\n",
              "  </style>\n",
              "\n",
              "    <script>\n",
              "      const buttonEl =\n",
              "        document.querySelector('#df-f86e36e1-cb29-4ec7-8325-a62468bce438 button.colab-df-convert');\n",
              "      buttonEl.style.display =\n",
              "        google.colab.kernel.accessAllowed ? 'block' : 'none';\n",
              "\n",
              "      async function convertToInteractive(key) {\n",
              "        const element = document.querySelector('#df-f86e36e1-cb29-4ec7-8325-a62468bce438');\n",
              "        const dataTable =\n",
              "          await google.colab.kernel.invokeFunction('convertToInteractive',\n",
              "                                                    [key], {});\n",
              "        if (!dataTable) return;\n",
              "\n",
              "        const docLinkHtml = 'Like what you see? Visit the ' +\n",
              "          '<a target=\"_blank\" href=https://colab.research.google.com/notebooks/data_table.ipynb>data table notebook</a>'\n",
              "          + ' to learn more about interactive tables.';\n",
              "        element.innerHTML = '';\n",
              "        dataTable['output_type'] = 'display_data';\n",
              "        await google.colab.output.renderOutput(dataTable, element);\n",
              "        const docLink = document.createElement('div');\n",
              "        docLink.innerHTML = docLinkHtml;\n",
              "        element.appendChild(docLink);\n",
              "      }\n",
              "    </script>\n",
              "  </div>\n",
              "\n",
              "\n",
              "  <div id=\"id_50d79ad7-8b10-48ed-a64e-47ca65d218d4\">\n",
              "    <style>\n",
              "      .colab-df-generate {\n",
              "        background-color: #E8F0FE;\n",
              "        border: none;\n",
              "        border-radius: 50%;\n",
              "        cursor: pointer;\n",
              "        display: none;\n",
              "        fill: #1967D2;\n",
              "        height: 32px;\n",
              "        padding: 0 0 0 0;\n",
              "        width: 32px;\n",
              "      }\n",
              "\n",
              "      .colab-df-generate:hover {\n",
              "        background-color: #E2EBFA;\n",
              "        box-shadow: 0px 1px 2px rgba(60, 64, 67, 0.3), 0px 1px 3px 1px rgba(60, 64, 67, 0.15);\n",
              "        fill: #174EA6;\n",
              "      }\n",
              "\n",
              "      [theme=dark] .colab-df-generate {\n",
              "        background-color: #3B4455;\n",
              "        fill: #D2E3FC;\n",
              "      }\n",
              "\n",
              "      [theme=dark] .colab-df-generate:hover {\n",
              "        background-color: #434B5C;\n",
              "        box-shadow: 0px 1px 3px 1px rgba(0, 0, 0, 0.15);\n",
              "        filter: drop-shadow(0px 1px 2px rgba(0, 0, 0, 0.3));\n",
              "        fill: #FFFFFF;\n",
              "      }\n",
              "    </style>\n",
              "    <button class=\"colab-df-generate\" onclick=\"generateWithVariable('passage_max_len_df')\"\n",
              "            title=\"Generate code using this dataframe.\"\n",
              "            style=\"display:none;\">\n",
              "\n",
              "  <svg xmlns=\"http://www.w3.org/2000/svg\" height=\"24px\"viewBox=\"0 0 24 24\"\n",
              "       width=\"24px\">\n",
              "    <path d=\"M7,19H8.4L18.45,9,17,7.55,7,17.6ZM5,21V16.75L18.45,3.32a2,2,0,0,1,2.83,0l1.4,1.43a1.91,1.91,0,0,1,.58,1.4,1.91,1.91,0,0,1-.58,1.4L9.25,21ZM18.45,9,17,7.55Zm-12,3A5.31,5.31,0,0,0,4.9,8.1,5.31,5.31,0,0,0,1,6.5,5.31,5.31,0,0,0,4.9,4.9,5.31,5.31,0,0,0,6.5,1,5.31,5.31,0,0,0,8.1,4.9,5.31,5.31,0,0,0,12,6.5,5.46,5.46,0,0,0,6.5,12Z\"/>\n",
              "  </svg>\n",
              "    </button>\n",
              "    <script>\n",
              "      (() => {\n",
              "      const buttonEl =\n",
              "        document.querySelector('#id_50d79ad7-8b10-48ed-a64e-47ca65d218d4 button.colab-df-generate');\n",
              "      buttonEl.style.display =\n",
              "        google.colab.kernel.accessAllowed ? 'block' : 'none';\n",
              "\n",
              "      buttonEl.onclick = () => {\n",
              "        google.colab.notebook.generateWithVariable('passage_max_len_df');\n",
              "      }\n",
              "      })();\n",
              "    </script>\n",
              "  </div>\n",
              "\n",
              "    </div>\n",
              "  </div>\n"
            ],
            "text/plain": [
              "                                              question  \\\n",
              "72512  what is the second book in the alchemyst series   \n",
              "\n",
              "                                                 passage human_rating  \\\n",
              "72512  Title: Indigo Muldoon\\nSection: List of books\\...            N   \n",
              "\n",
              "                                             attribution  \n",
              "72512  http://en.wikipedia.org/wiki/Indigo_Muldoon#In...  "
            ]
          },
          "execution_count": 8,
          "metadata": {},
          "output_type": "execute_result"
        }
      ],
      "source": [
        "# ratings_df[ratings_df['question'].str.contains('who played hyde in league of extraordinary gen')] # .iloc[0]\n",
        "\n",
        "# Let's find the largest passage:\n",
        "passage_len_max = (ratings_df['passage'].str.len()).max()\n",
        "passage_max_len_df =  ratings_df[ratings_df['passage'].str.len() == passage_len_max]\n",
        "passage_max = passage_max_len_df.iloc[0].passage\n",
        "question_passage_max = passage_max_len_df.iloc[0].question\n",
        "\n",
        "print(f'passage_len_max: {passage_len_max}')\n",
        "print(f'question_passage_max: [{question_passage_max}]')\n",
        "print(f'passage_max: [{passage_max}]\\n')\n",
        "\n",
        "# Trying self-rag model on the largest passage:\n",
        "prompts = [format_prompt(question_passage_max, passage_max)]\n",
        "preds = model.generate(prompts, sampling_params)\n",
        "print_predictions(preds)\n",
        "\n",
        "passage_max_len_df"
      ]
    },
    {
      "cell_type": "markdown",
      "metadata": {
        "id": "cThdEMCfJF0L"
      },
      "source": [
        "# Checking 'Relevant' Tags"
      ]
    },
    {
      "cell_type": "code",
      "execution_count": null,
      "metadata": {
        "id": "gt7n0uyDJGWg"
      },
      "outputs": [],
      "source": [
        "# Run \"Load the self-rag model\" and \"Download and process...\" first\n",
        "\n",
        "import pandas as pd\n",
        "\n",
        "ratings_df = pd.read_csv(f'{ATTR_QA_PATH}/{RATINGS_FILENAME}_filtered.csv')\n",
        "\n",
        "self_rag_rating = []\n",
        "preds_ = []\n",
        "for i, row in  ratings_df.iterrows():\n",
        "  prompt = format_prompt(row['question'], row['passage'])\n",
        "  pred = model.generate(prompt, sampling_params)\n",
        "  preds_.append(pred[0].outputs[0].text)\n",
        "  if '[Relevant]' in pred[0].outputs[0].text:\n",
        "    self_rag_rating.append('Y')\n",
        "  elif '[Irrelevant]' in pred[0].outputs[0].text:\n",
        "    self_rag_rating.append('N')\n",
        "  else:\n",
        "    self_rag_rating.append('-')\n",
        "\n",
        "ratings_df['self_rag_rating'] = self_rag_rating\n",
        "ratings_df['preds'] = preds_\n",
        "ratings_df.to_csv(f'{SELF_RAG_PATH}/relevant_rating.csv', index=False)"
      ]
    },
    {
      "cell_type": "code",
      "source": [
        "# Statistics:\n",
        "rel_df = pd.read_csv(f'{SELF_RAG_PATH}/relevant_rating.csv')\n",
        "total = len(rel_df)\n",
        "yes = len(rel_df[rel_df['self_rag_rating'] == 'Y'])\n",
        "no =  len(rel_df[rel_df['self_rag_rating'] == 'N'])\n",
        "none = len(rel_df[rel_df['self_rag_rating'] == '-'])\n",
        "print(f'Total: {total}, #Yes: {yes}, #No: {no}, #-: {none}')\n",
        "\n",
        "same = len(rel_df[rel_df['self_rag_rating'] == rel_df['human_rating']])\n",
        "print(f'Same: {same}, Different: {total - same}, %Same: {round(same / total * 100, 2)}')"
      ],
      "metadata": {
        "colab": {
          "base_uri": "https://localhost:8080/"
        },
        "id": "D0NJfrBPt-aA",
        "outputId": "0a5e1882-f4ba-4664-8222-b576df3ce232"
      },
      "execution_count": null,
      "outputs": [
        {
          "output_type": "stream",
          "name": "stdout",
          "text": [
            "Total: 5785, #Yes: 5122, #No: 498, #-: 165\n",
            "Same: 2567, Different: 3218, %Same: 44.37\n"
          ]
        }
      ]
    },
    {
      "cell_type": "code",
      "source": [
        "def load_csv(file_path):\n",
        "    with open(file_path, mode='r', newline='', encoding='utf-8') as file:\n",
        "        reader = csv.reader(file)\n",
        "        data = [row for row in reader]\n",
        "    return data"
      ],
      "metadata": {
        "id": "h_xJqAHQxT2H"
      },
      "execution_count": null,
      "outputs": []
    },
    {
      "cell_type": "code",
      "source": [
        "# Check whether some preds contain Relavant AND Irrelevant tags:\n",
        "import csv\n",
        "\n",
        "file_path = f'{SELF_RAG_PATH}/relevant_rating.csv'\n",
        "data = load_csv(file_path)\n",
        "i = 0\n",
        "for row in data:\n",
        "    text = row[5]\n",
        "    is_relevant = '[Relevant]' in text\n",
        "    is_irrelevant = '[Irrelevant]' in text\n",
        "    if is_relevant and is_irrelevant:\n",
        "        print(text)\n",
        "        i += 1\n",
        "\n",
        "print(i) # 0"
      ],
      "metadata": {
        "colab": {
          "base_uri": "https://localhost:8080/"
        },
        "id": "ov8G6SPbK8jR",
        "outputId": "f208122b-190d-4014-c99b-cf8070563339"
      },
      "execution_count": null,
      "outputs": [
        {
          "output_type": "stream",
          "name": "stdout",
          "text": [
            "0\n"
          ]
        }
      ]
    },
    {
      "cell_type": "markdown",
      "source": [
        "# Checking 'Retrieval' Tags"
      ],
      "metadata": {
        "id": "b-BlSnoPuNfT"
      }
    },
    {
      "cell_type": "code",
      "source": [
        "# Run \"Load the self-rag model\" and \"Download and process...\" first\n",
        "\n",
        "import pandas as pd\n",
        "\n",
        "ratings_df = pd.read_csv(f'{ATTR_QA_PATH}/{RATINGS_FILENAME}_filtered.csv')\n",
        "\n",
        "self_rag_ratings = []\n",
        "self_rag_preds = []\n",
        "for i, row in  ratings_df.iterrows():\n",
        "  prompt = format_prompt(row['question'])\n",
        "  pred = model.generate(prompt, sampling_params)\n",
        "  text = pred[0].outputs[0].text\n",
        "  self_rag_preds.append(text)\n",
        "  if '[Retrieval]' in text:\n",
        "    self_rag_ratings.append('Y')\n",
        "  elif '[No Retrieval]' in text:\n",
        "    self_rag_ratings.append('N')\n",
        "  else:\n",
        "    self_rag_ratings.append('-')\n",
        "\n",
        "ratings_df['self_rag_rating'] = self_rag_ratings\n",
        "ratings_df['self_rag_pred'] = self_rag_preds\n",
        "ratings_df.to_csv(f'{SELF_RAG_PATH}/retrieval_rating.csv', index=False)"
      ],
      "metadata": {
        "id": "ASeOniemuct3"
      },
      "execution_count": null,
      "outputs": []
    },
    {
      "cell_type": "code",
      "source": [
        "# Statistics:\n",
        "ret_df = pd.read_csv(f'{SELF_RAG_PATH}/retrieval_rating.csv')\n",
        "total = len(ret_df)\n",
        "yes = len(ret_df[ret_df['self_rag_rating'] == 'Y'])\n",
        "no = len(ret_df[ret_df['self_rag_rating'] == 'N'])\n",
        "none = len(ret_df[ret_df['self_rag_rating'] == '-'])\n",
        "print(f'Total: {total}, #Yes: {yes}, #No: {no}, #-: {none}')\n",
        "print(f' %Yes: {round(yes / total * 100, 2)}')"
      ],
      "metadata": {
        "id": "9AUOk66Qwgn4",
        "colab": {
          "base_uri": "https://localhost:8080/"
        },
        "outputId": "70c595b9-6faf-4cb6-e800-490ba57ec089"
      },
      "execution_count": null,
      "outputs": [
        {
          "output_type": "stream",
          "name": "stdout",
          "text": [
            "Total: 5785, #Yes: 341, #No: 36, #-: 5408\n",
            " %Yes: 5.89\n"
          ]
        }
      ]
    },
    {
      "cell_type": "code",
      "source": [
        "# Run 'load_csv' from above first.\n",
        "# Check whether some preds contain Retrieval AND No-Retrieval tags:\n",
        "import csv\n",
        "\n",
        "file_path_ret = f'{SELF_RAG_PATH}/retrieval_rating.csv'\n",
        "data_ret = load_csv(file_path_ret)\n",
        "i = 0\n",
        "for row in data_ret:\n",
        "    text = row[5]\n",
        "    is_ret = '[Retrieval]' in text\n",
        "    is_no_ret = '[No Retrieval]' in text\n",
        "    if is_ret and is_no_ret:\n",
        "        print(f'\\n\\n{text}')\n",
        "        i += 1\n",
        "\n",
        "print(i) # 14"
      ],
      "metadata": {
        "id": "QONNIqNCw9v0",
        "colab": {
          "base_uri": "https://localhost:8080/"
        },
        "outputId": "93e94411-92f1-4c3e-f621-42707703c746",
        "collapsed": true
      },
      "execution_count": null,
      "outputs": [
        {
          "output_type": "stream",
          "name": "stdout",
          "text": [
            "\n",
            "\n",
            "Yes, it is possible for a bowler to take a hat-trick in both innings of a Test match.[Retrieval]<paragraph>A hat-trick is when a bowler takes three wickets in three consecutive balls in an innings.[Retrieval]<paragraph>If a bowler takes three wickets in three consecutive balls in both innings, it would be considered a double hat-trick.[No Retrieval]However, this is a rare feat and has only been achieved by a few bowlers in the history of Test cricket.[Utility:5]\n",
            "\n",
            "\n",
            "1.[Retrieval]<paragraph>The Cash Cab guy reads the questions by using a computer system that generates the questions and displays them on a screen.\n",
            "2.[Retrieval]<paragraph>The Cash Cab guy reads the questions by using a computer system that generates the questions and displays them on a screen.\n",
            "3.[Retrieval]<paragraph>The Cash Cab guy reads the questions by using a computer system that generates the questions and displays them on a screen.\n",
            "4.[Retrieval]<paragraph>The Cash Cab guy reads the questions by using a computer system that generates the questions and displays them on a screen.\n",
            "5.[No Retrieval]The Cash Cab guy reads the questions by using a computer system that generates the questions and displays them on a screen.[Utility:5]\n",
            "\n",
            "\n",
            "1.[Retrieval]<paragraph>The Cash Cab guy reads the questions by using a computer system that generates the questions and displays them on a screen.\n",
            "2.[Retrieval]<paragraph>The Cash Cab guy reads the questions by using a computer system that generates the questions and displays them on a screen.\n",
            "3.[Retrieval]<paragraph>The Cash Cab guy reads the questions by using a computer system that generates the questions and displays them on a screen.\n",
            "4.[Retrieval]<paragraph>The Cash Cab guy reads the questions by using a computer system that generates the questions and displays them on a screen.\n",
            "5.[No Retrieval]The Cash Cab guy reads the questions by using a computer system that generates the questions and displays them on a screen.[Utility:5]\n",
            "\n",
            "\n",
            "Yes, it is possible for a bowler to take a hat-trick in both innings of a Test match.[Retrieval]<paragraph>A hat-trick is when a bowler takes three wickets in three consecutive balls in an innings.[Retrieval]<paragraph>If a bowler takes three wickets in three consecutive balls in both innings, it would be considered a double hat-trick.[No Retrieval]However, this is a rare feat and has only been achieved by a few bowlers in the history of Test cricket.[Utility:5]\n",
            "\n",
            "\n",
            "Yes, it is possible for a bowler to take a hat-trick in both innings of a Test match.[Retrieval]<paragraph>A hat-trick is when a bowler takes three wickets in three consecutive balls in an innings.[Retrieval]<paragraph>If a bowler takes three wickets in three consecutive balls in both innings, it would be considered a double hat-trick.[No Retrieval]However, this is a rare feat and has only been achieved by a few bowlers in the history of Test cricket.[Utility:5]\n",
            "\n",
            "\n",
            "1.[Retrieval]<paragraph>The Cash Cab guy reads the questions by using a computer system that generates the questions and displays them on a screen.\n",
            "2.[Retrieval]<paragraph>The Cash Cab guy reads the questions by using a computer system that generates the questions and displays them on a screen.\n",
            "3.[Retrieval]<paragraph>The Cash Cab guy reads the questions by using a computer system that generates the questions and displays them on a screen.\n",
            "4.[Retrieval]<paragraph>The Cash Cab guy reads the questions by using a computer system that generates the questions and displays them on a screen.\n",
            "5.[No Retrieval]The Cash Cab guy reads the questions by using a computer system that generates the questions and displays them on a screen.[Utility:5]\n",
            "\n",
            "\n",
            "Yes, it is possible for a bowler to take a hat-trick in both innings of a Test match.[Retrieval]<paragraph>A hat-trick is when a bowler takes three wickets in three consecutive balls in an innings.[Retrieval]<paragraph>If a bowler takes three wickets in three consecutive balls in both innings, it would be considered a double hat-trick.[No Retrieval]However, this is a rare feat and has only been achieved by a few bowlers in the history of Test cricket.[Utility:5]\n",
            "\n",
            "\n",
            "1.[Retrieval]<paragraph>The Cash Cab guy reads the questions by using a computer system that generates the questions and displays them on a screen.\n",
            "2.[Retrieval]<paragraph>The Cash Cab guy reads the questions by using a computer system that generates the questions and displays them on a screen.\n",
            "3.[Retrieval]<paragraph>The Cash Cab guy reads the questions by using a computer system that generates the questions and displays them on a screen.\n",
            "4.[Retrieval]<paragraph>The Cash Cab guy reads the questions by using a computer system that generates the questions and displays them on a screen.\n",
            "5.[No Retrieval]The Cash Cab guy reads the questions by using a computer system that generates the questions and displays them on a screen.[Utility:5]\n",
            "\n",
            "\n",
            "Yes, it is possible for a bowler to take a hat-trick in both innings of a Test match.[Retrieval]<paragraph>A hat-trick is when a bowler takes three wickets in three consecutive balls in an innings.[Retrieval]<paragraph>If a bowler takes three wickets in three consecutive balls in both innings, it would be considered a double hat-trick.[No Retrieval]However, this is a rare feat and has only been achieved by a few bowlers in the history of Test cricket.[Utility:5]\n",
            "\n",
            "\n",
            "1.[Retrieval]<paragraph>The Cash Cab guy reads the questions by using a computer system that generates the questions and displays them on a screen.\n",
            "2.[Retrieval]<paragraph>The Cash Cab guy reads the questions by using a computer system that generates the questions and displays them on a screen.\n",
            "3.[Retrieval]<paragraph>The Cash Cab guy reads the questions by using a computer system that generates the questions and displays them on a screen.\n",
            "4.[Retrieval]<paragraph>The Cash Cab guy reads the questions by using a computer system that generates the questions and displays them on a screen.\n",
            "5.[No Retrieval]The Cash Cab guy reads the questions by using a computer system that generates the questions and displays them on a screen.[Utility:5]\n",
            "\n",
            "\n",
            "Yes, it is possible for a bowler to take a hat-trick in both innings of a Test match.[Retrieval]<paragraph>A hat-trick is when a bowler takes three wickets in three consecutive balls in an innings.[Retrieval]<paragraph>If a bowler takes three wickets in three consecutive balls in both innings, it would be considered a double hat-trick.[No Retrieval]However, this is a rare feat and has only been achieved by a few bowlers in the history of Test cricket.[Utility:5]\n",
            "\n",
            "\n",
            "Yes, it is possible for a bowler to take a hat-trick in both innings of a Test match.[Retrieval]<paragraph>A hat-trick is when a bowler takes three wickets in three consecutive balls in an innings.[Retrieval]<paragraph>If a bowler takes three wickets in three consecutive balls in both innings, it would be considered a double hat-trick.[No Retrieval]However, this is a rare feat and has only been achieved by a few bowlers in the history of Test cricket.[Utility:5]\n",
            "\n",
            "\n",
            "1.[Retrieval]<paragraph>The Cash Cab guy reads the questions by using a computer system that generates the questions and displays them on a screen.\n",
            "2.[Retrieval]<paragraph>The Cash Cab guy reads the questions by using a computer system that generates the questions and displays them on a screen.\n",
            "3.[Retrieval]<paragraph>The Cash Cab guy reads the questions by using a computer system that generates the questions and displays them on a screen.\n",
            "4.[Retrieval]<paragraph>The Cash Cab guy reads the questions by using a computer system that generates the questions and displays them on a screen.\n",
            "5.[No Retrieval]The Cash Cab guy reads the questions by using a computer system that generates the questions and displays them on a screen.[Utility:5]\n",
            "\n",
            "\n",
            "1.[Retrieval]<paragraph>The Cash Cab guy reads the questions by using a computer system that generates the questions and displays them on a screen.\n",
            "2.[Retrieval]<paragraph>The Cash Cab guy reads the questions by using a computer system that generates the questions and displays them on a screen.\n",
            "3.[Retrieval]<paragraph>The Cash Cab guy reads the questions by using a computer system that generates the questions and displays them on a screen.\n",
            "4.[Retrieval]<paragraph>The Cash Cab guy reads the questions by using a computer system that generates the questions and displays them on a screen.\n",
            "5.[No Retrieval]The Cash Cab guy reads the questions by using a computer system that generates the questions and displays them on a screen.[Utility:5]\n",
            "14\n"
          ]
        }
      ]
    },
    {
      "cell_type": "markdown",
      "metadata": {
        "id": "CNLsrQMGGho6"
      },
      "source": [
        "# Trying Gemma-2 to imitate the behavior of 'Relevant' Tags"
      ]
    },
    {
      "cell_type": "markdown",
      "source": [
        "## Trying in Colab:"
      ],
      "metadata": {
        "id": "lSb15OStT1bp"
      }
    },
    {
      "cell_type": "code",
      "execution_count": null,
      "metadata": {
        "id": "jX2v-j_tGKal"
      },
      "outputs": [],
      "source": [
        "!pip install -U transformers\n",
        "!pip install accelerate\n",
        "!pip install bitsandbytes"
      ]
    },
    {
      "cell_type": "code",
      "execution_count": null,
      "metadata": {
        "id": "85HdRRFYGVqN"
      },
      "outputs": [],
      "source": [
        "from transformers import AutoTokenizer, AutoModelForCausalLM\n",
        "import torch\n",
        "\n",
        "from google.colab import userdata\n",
        "access_token = userdata.get('huggingface')\n",
        "\n",
        "tokenizer = AutoTokenizer.from_pretrained(\"google/gemma-2-27b\", token=access_token)\n",
        "\n",
        "# No quantizatio and no flash attention (simplest):\n",
        "# On GPU: \"Your session crashed after using all available RAM\"\n",
        "# model = AutoModelForCausalLM.from_pretrained(\"google/gemma-2-27b\", token=access_token)\n",
        "\n",
        "# No quantizatio and no flash attention:\n",
        "# Works on TPU, but VERY slow. about 15 seconds for 10 tokens.\n",
        "model = AutoModelForCausalLM.from_pretrained(\n",
        "    \"google/gemma-2-27b\",\n",
        "    device_map=\"auto\",\n",
        "    torch_dtype=torch.bfloat16,\n",
        "    token=access_token\n",
        ")"
      ]
    },
    {
      "cell_type": "code",
      "execution_count": null,
      "metadata": {
        "id": "u0Q1JPD8itSH",
        "collapsed": true
      },
      "outputs": [],
      "source": [
        "# Using 8-bit quantization:\n",
        "# GPU: Model outputs gibberish;  TPU: Doesn't work.\n",
        "\n",
        "# from transformers import BitsAndBytesConfig\n",
        "\n",
        "# quantization_config = BitsAndBytesConfig(load_in_8bit=True)\n",
        "# model = AutoModelForCausalLM.from_pretrained(\"google/gemma-2-27b\", quantization_config=quantization_config, token=access_token)"
      ]
    },
    {
      "cell_type": "code",
      "execution_count": null,
      "metadata": {
        "collapsed": true,
        "id": "pcggnX4lIkc2"
      },
      "outputs": [],
      "source": [
        "# Using 8-bit quantization + flash attention:\n",
        "# Still gibberish.\n",
        "\n",
        "# from transformers import BitsAndBytesConfig\n",
        "\n",
        "# quantization_config = BitsAndBytesConfig(load_in_8bit=True)\n",
        "\n",
        "# !pip install packaging && pip install ninja\n",
        "# !pip show ninja\n",
        "# !pip install flash-attn\n",
        "\n",
        "# model = AutoModelForCausalLM.from_pretrained(\n",
        "#     \"google/gemma-2-27b\",\n",
        "#     quantization_config=quantization_config,\n",
        "#     attn_implementation=\"flash_attention_2\",\n",
        "#     token=access_token\n",
        "# )"
      ]
    },
    {
      "cell_type": "code",
      "execution_count": null,
      "metadata": {
        "id": "x1TeXeBWh-8c"
      },
      "outputs": [],
      "source": [
        "# No quantizatio + flash attention:\n",
        "# GPU: No gibberish, but slow as hell;  TPU: Doesn't work.\n",
        "\n",
        "# !pip install packaging && pip install ninja\n",
        "# !pip show ninja\n",
        "# !pip install flash-attn\n",
        "\n",
        "# model = AutoModelForCausalLM.from_pretrained(\n",
        "#     \"google/gemma-2-27b\",\n",
        "#     device_map=\"auto\",\n",
        "#     torch_dtype=torch.bfloat16,\n",
        "#     attn_implementation=\"flash_attention_2\",\n",
        "#     token=access_token\n",
        "# )# .to(0)"
      ]
    },
    {
      "cell_type": "code",
      "execution_count": null,
      "metadata": {
        "id": "2qG2GRHYKHQ1",
        "colab": {
          "base_uri": "https://localhost:8080/"
        },
        "outputId": "8cc59a0c-4118-4dd0-cdb7-3a0a91c452d7"
      },
      "outputs": [
        {
          "output_type": "stream",
          "name": "stdout",
          "text": [
            "<bos>Write me a poem about Machine Learning.\n",
            "\n",
            "Machine learning, a field of AI,\n",
            "\n",
            "0:00:15.049458\n"
          ]
        }
      ],
      "source": [
        "input_text = \"Write me a poem about Machine Learning.\"\n",
        "input_ids = tokenizer(input_text, return_tensors=\"pt\")# .to(\"cuda\")\n",
        "\n",
        "from datetime import datetime\n",
        "start_time = datetime.now()\n",
        "\n",
        "outputs = model.generate(**input_ids, max_new_tokens=10)\n",
        "print(tokenizer.decode(outputs[0]))\n",
        "\n",
        "print(datetime.now() - start_time)"
      ]
    },
    {
      "cell_type": "markdown",
      "source": [
        "## Trying on RunPod machine:"
      ],
      "metadata": {
        "id": "DPFDSACkTtTm"
      }
    },
    {
      "cell_type": "code",
      "source": [
        "# See 'gemma2_is_relevant_passage.ipynb' in github.\n",
        "\n",
        "# Calculating final statistics:\n",
        "ratings_gemma_fs_df = pd.read_csv(f'{ATTR_QA_PATH}/{RATINGS_FILENAME}_relevant_gemma_merged_few-shot.csv')\n",
        "\n",
        "total = len(ratings_gemma_fs_df)\n",
        "\n",
        "human_yes_df = ratings_gemma_fs_df[ratings_gemma_fs_df['human_rating'] == 'Y']\n",
        "human_yes_model_yes_df = human_yes_df[human_yes_df['gemma2_rating'] == 'Y']\n",
        "human_yes_model_no_df = human_yes_df[human_yes_df['gemma2_rating'] == 'N']\n",
        "\n",
        "human_no_df = ratings_gemma_fs_df[ratings_gemma_fs_df['human_rating'] == 'N']\n",
        "human_no_model_yes_df = human_no_df[human_no_df['gemma2_rating'] == 'Y']\n",
        "human_no_model_no_df = human_no_df[human_no_df['gemma2_rating'] == 'N']\n",
        "\n",
        "print(f'human_yes_model_yes: {len(human_yes_model_yes_df)}, %: {round(len(human_yes_model_yes_df) / total * 100, 2)}')\n",
        "print(f'human_yes_model_no: {len(human_yes_model_no_df)}, %: {round(len(human_yes_model_no_df) / total * 100, 2)}')\n",
        "print(f'human_no_model_yes: {len(human_no_model_yes_df)}, %: {round(len(human_no_model_yes_df) / total * 100, 2)}')\n",
        "print(f'human_no_model_no: {len(human_no_model_no_df)}, %: {round(len(human_no_model_no_df) / total * 100, 2)}')"
      ],
      "metadata": {
        "colab": {
          "base_uri": "https://localhost:8080/"
        },
        "id": "qIOFViHJTmOS",
        "outputId": "b1be1313-fd0b-4608-83ca-510dfda596db"
      },
      "execution_count": null,
      "outputs": [
        {
          "output_type": "stream",
          "name": "stdout",
          "text": [
            "human_yes_model_yes: 467, %: 16.87\n",
            "human_yes_model_no: 676, %: 24.41\n",
            "human_no_model_yes: 279, %: 10.08\n",
            "human_no_model_no: 1342, %: 48.47\n"
          ]
        }
      ]
    },
    {
      "cell_type": "markdown",
      "metadata": {
        "id": "pMQHHTOTh0FX"
      },
      "source": [
        "# Trying Claude"
      ]
    },
    {
      "cell_type": "code",
      "execution_count": null,
      "metadata": {
        "collapsed": true,
        "id": "OMCJUhTdh550"
      },
      "outputs": [],
      "source": [
        "!pip install anthropic\n",
        "\n",
        "import anthropic\n",
        "from google.colab import userdata\n",
        "\n",
        "claude_api_key = userdata.get('claude')\n",
        "claude_client = anthropic.Anthropic(api_key=claude_api_key)"
      ]
    },
    {
      "cell_type": "code",
      "source": [
        "# Constants:\n",
        "TAG_YES = '<Answer>Yes</Answer>'\n",
        "TAG_NO = '<Answer>No</Answer>'"
      ],
      "metadata": {
        "id": "H0hE12iBJjuy"
      },
      "execution_count": null,
      "outputs": []
    },
    {
      "cell_type": "code",
      "execution_count": null,
      "metadata": {
        "id": "nhMK7rK5k2UN"
      },
      "outputs": [],
      "source": [
        "def claude_res_get_text(response):\n",
        "  return response.content[0].text\n",
        "\n",
        "def claude_get_response(client, prompt_raw, sys_prompt='', max_tokens=1000, temperature=0):\n",
        "  prompt = claude_create_user_prompt(prompt_raw)\n",
        "  return _claude_get_response(client, prompt, sys_prompt, max_tokens, temperature)\n",
        "\n",
        "def _claude_get_response(client, prompt, sys_prompt='', max_tokens=1000, temperature=0):\n",
        "  return client.messages.create(\n",
        "    model=\"claude-3-5-sonnet-20240620\",\n",
        "    max_tokens=max_tokens,\n",
        "    temperature=temperature,\n",
        "    system=sys_prompt,\n",
        "    messages=prompt\n",
        "  )\n",
        "\n",
        "def claude_create_user_prompt(text):\n",
        "  return [{\"role\": \"user\", \"content\": [{\"type\": \"text\", \"text\": text}]}]\n",
        "\n",
        "def create_prompt_is_relevant_passage(question, passage):\n",
        "  return f\"\"\"Decide if the following passage <Passage> is relevant for answering the following question <Question>.\n",
        "Explain your reasoning process, then write the final answer \"Yes\" or \"No\" between the tags <Answer> and </Answer>.\n",
        "Here is the question <Question>: <Question>{question}</Question>\n",
        "Here is the passage <Passage>: <Passage>{passage}</Passage>\\n\"\"\"\n",
        "\n",
        "def create_prompt_is_retrieve(question):\n",
        "  return f\"\"\"Decide if you would use Wikipedia to answer the following question <Question>.\n",
        "Write the final answer \"Yes\" or \"No\" between the tags <Answer> and </Answer>.\n",
        "Here is the question <Question>: <Question>{question}</Question>\"\"\"\n",
        "\n",
        "is_retrieve_sys_prompt = \"Pretend that you have access to all Wikipedia, so you can use Wikipedia to answer trivia questions\""
      ]
    },
    {
      "cell_type": "markdown",
      "source": [
        "## Imitating the behavior of 'Relevant' Tags"
      ],
      "metadata": {
        "id": "DduMtyQmAxlQ"
      }
    },
    {
      "cell_type": "code",
      "execution_count": null,
      "metadata": {
        "colab": {
          "base_uri": "https://localhost:8080/",
          "height": 49,
          "referenced_widgets": [
            "85437ce528c846d8964661974ffc94a1",
            "9a66a70607d243abab12bbf066189b35",
            "8958bd7738c146f7a14c8c171701cecc",
            "0d04f6109f804b788f51e8cba8c90781",
            "60c81720bea9450ab7a3dee5bc087293",
            "f04211c154784820bbe6e9a7ae695697",
            "fe29f2a40837475ebf60d4897c2a3760",
            "48acd750a6c54bc18c148481443d679e",
            "332314787d3242fa9deb8cc6571914ef",
            "7f611328eb924b17a8f028dbe15b402c",
            "d23aa1a546ff47c69a404093cc181396"
          ]
        },
        "id": "nzdmqOQD0sUl",
        "outputId": "c550f33f-cfed-4ad9-eb1f-96fc0ccb43cd"
      },
      "outputs": [
        {
          "output_type": "display_data",
          "data": {
            "text/plain": [
              "Querying Claude...:   0%|          | 0/821 [00:00<?, ?it/s]"
            ],
            "application/vnd.jupyter.widget-view+json": {
              "version_major": 2,
              "version_minor": 0,
              "model_id": "85437ce528c846d8964661974ffc94a1"
            }
          },
          "metadata": {}
        }
      ],
      "source": [
        "# Run \"Download and process...\" first\n",
        "\n",
        "from tqdm.notebook import tqdm\n",
        "\n",
        "ratings_df = pd.read_csv(f'{ATTR_QA_PATH}/{RATINGS_FILENAME}_filtered.csv')\n",
        "\n",
        "# Finish what's left, as previous session crashed due to token limit:\n",
        "ratings_df = ratings_df.tail(821)\n",
        "# -------------------------------------------------------------------\n",
        "\n",
        "total = len(ratings_df)\n",
        "claude_preds = []\n",
        "claude_ratings = []\n",
        "\n",
        "for i, row in  tqdm(ratings_df.iterrows(), desc=\"Querying Claude...\", total=total):\n",
        "  prompt_raw = create_prompt_is_relevant_passage(row.question, row.passage)\n",
        "  response = claude_get_response(claude_client, prompt_raw)\n",
        "  claude_preds.append(response)\n",
        "  response_txt = claude_res_get_text(response)\n",
        "  if TAG_YES in response_txt:\n",
        "    claude_ratings.append('Y')\n",
        "  elif TAG_NO in response_txt:\n",
        "    claude_ratings.append('N')\n",
        "  else:\n",
        "    claude_ratings.append('-')\n",
        "\n",
        "ratings_df['claude_rating'] = claude_ratings\n",
        "ratings_df['claude_pred'] = claude_preds\n",
        "ratings_df.to_csv(f'{ATTR_QA_PATH}/{RATINGS_FILENAME}_relevant_claude_tail.csv', index=False)  # _tail !"
      ]
    },
    {
      "cell_type": "code",
      "source": [
        "# Merge with results from previous run:\n",
        "ratings_cld_head_df = pd.read_csv(f'{ATTR_QA_PATH}/{RATINGS_FILENAME}_relevant_claude_head.csv')\n",
        "ratings_cld_tail_df = pd.read_csv(f'{ATTR_QA_PATH}/{RATINGS_FILENAME}_relevant_claude_tail.csv')\n",
        "ratings_cld_merged_df = pd.concat([ratings_cld_head_df, ratings_cld_tail_df])\n",
        "ratings_cld_merged_df.to_csv(f'{ATTR_QA_PATH}/{RATINGS_FILENAME}_relevant_claude_merged.csv', index=False)"
      ],
      "metadata": {
        "id": "_9DIXG8CcQxK"
      },
      "execution_count": null,
      "outputs": []
    },
    {
      "cell_type": "code",
      "source": [
        "# Final merged statistics:\n",
        "ratings_claude_df = pd.read_csv(f'{ATTR_QA_PATH}/{RATINGS_FILENAME}_relevant_claude_merged.csv')\n",
        "\n",
        "total = len(ratings_claude_df)\n",
        "yes = len(ratings_claude_df[ratings_claude_df['claude_rating'] == 'Y'])\n",
        "no =  len(ratings_claude_df[ratings_claude_df['claude_rating'] == 'N'])\n",
        "none = len(ratings_claude_df[ratings_claude_df['claude_rating'] == '-'])\n",
        "print(f'Total: {total}, #Yes: {yes}, #No: {no}, #-: {none}')\n",
        "\n",
        "same = len(ratings_claude_df[ratings_claude_df['claude_rating'] == ratings_claude_df['human_rating']])\n",
        "print(f'Same: {same}, Different: {total - same}, %Same: {round(same / total * 100, 2)}')"
      ],
      "metadata": {
        "colab": {
          "base_uri": "https://localhost:8080/"
        },
        "id": "6hP7QUsncmXK",
        "outputId": "8f2dd14c-635a-4fe3-b97f-9a56d0a6b60f"
      },
      "execution_count": null,
      "outputs": [
        {
          "output_type": "stream",
          "name": "stdout",
          "text": [
            "Total: 5785, #Yes: 3113, #No: 2672, #-: 0\n",
            "Same: 4418, Different: 1367, %Same: 76.37\n"
          ]
        }
      ]
    },
    {
      "cell_type": "markdown",
      "source": [
        "### Exploring wrong predictions:"
      ],
      "metadata": {
        "id": "9gmFtMsuQjzR"
      }
    },
    {
      "cell_type": "code",
      "source": [
        "# Let's take 100 questions+passages with Claude's WRONG predictions:\n",
        "ratings_cld_no_100_df = pd.read_csv(f'{ATTR_QA_PATH}/{RATINGS_FILENAME}_relevant_claude_merged.csv')\n",
        "ratings_cld_no_100_df = ratings_cld_no_100_df[ratings_cld_no_100_df['claude_rating'] != ratings_cld_no_100_df['human_rating']]\n",
        "ratings_cld_no_100_df = ratings_cld_no_100_df.head(100)\n",
        "\n",
        "\n",
        "total = len(ratings_cld_no_100_df)\n",
        "yes = len(ratings_cld_no_100_df[ratings_cld_no_100_df['claude_rating'] == 'Y'])\n",
        "no = len(ratings_cld_no_100_df[ratings_cld_no_100_df['claude_rating'] == 'N'])\n",
        "\n",
        "print(f'Total: {total}, #Yes: {yes}, #No: {no}')\n",
        "\n",
        "same = len(ratings_cld_no_100_df[ratings_cld_no_100_df['claude_rating'] == ratings_cld_no_100_df['human_rating']])\n",
        "print(f'Same: {same}, Different: {total - same}')"
      ],
      "metadata": {
        "colab": {
          "base_uri": "https://localhost:8080/"
        },
        "id": "s-jxJPXPQqsE",
        "outputId": "8a99e3be-24aa-4beb-a808-0f2b9b4b9b79"
      },
      "execution_count": null,
      "outputs": [
        {
          "output_type": "stream",
          "name": "stdout",
          "text": [
            "Total: 100, #Yes: 76, #No: 24\n",
            "Same: 0, Different: 100\n"
          ]
        }
      ]
    },
    {
      "cell_type": "code",
      "source": [
        "# Let's explore above WRONG predictions:\n",
        "for i in range(10):\n",
        "  row = ratings_cld_no_100_df.iloc[i]\n",
        "  passage = row.passage.replace('\\n', '\\n\\t\\t  ')\n",
        "  passage = passage.replace('.', '.\\n\\t\\t  ')\n",
        "  print(f'row {i + 1}:')\n",
        "  print(f'\\tclaude_rating: {row.claude_rating}\\n\\thuman_rating: {row.human_rating}')\n",
        "  print(f'\\tquestion: [{row.question}]\\n\\tpassage: [{passage}]\\n\\n')\n",
        "\n",
        "  # Rows we mostly agree with human rating:  1, 5, 6 , 9\n",
        "  # Rows we mostly agree with claude: 2, 3, 4, 7, 8, 10"
      ],
      "metadata": {
        "colab": {
          "base_uri": "https://localhost:8080/"
        },
        "collapsed": true,
        "id": "2sXaGsBaQrmD",
        "outputId": "f4dba0ba-1de7-43a4-d723-dfc897298477"
      },
      "execution_count": null,
      "outputs": [
        {
          "output_type": "stream",
          "name": "stdout",
          "text": [
            "row 1:\n",
            "\tclaude_rating: Y\n",
            "\thuman_rating: Y\n",
            "\tquestion: [who played hyde in league of extraordinary gentlemen]\n",
            "\tpassage: [Title: Jason Flemyng\n",
            "\t\t  Section: Television and film work\n",
            "\t\t  \n",
            "\t\t  In the early 2000s he featured in two big-budget Hollywood films which were adaptations of Alan Moore comic books; as John Netley in 2001's From Hell, with Johnny Depp, and 2003's The League of Extraordinary Gentlemen, with Sean Connery, in which Flemyng played Dr.\n",
            "\t\t   Henry Jekyll and Edward Hyde.\n",
            "\t\t   The latter film was a disappointment, but Flemyng commented that: \"It was a bit of a nightmare.\n",
            "\t\t  .\n",
            "\t\t  .\n",
            "\t\t   the film cost a fortune and didn't make back the money it was meant to.\n",
            "\t\t  .\n",
            "\t\t  .\n",
            "\t\t   But I still get a huge kick out of doing films like that and From Hell.\n",
            "\t\t   Any day you walk onto a set and Sean Connery or Johnny Depp or Brad Pitt is there has to be a good day.\n",
            "\t\t  \"]\n",
            "\n",
            "\n",
            "row 2:\n",
            "\tclaude_rating: Y\n",
            "\thuman_rating: Y\n",
            "\tquestion: [who signed the largest on the declaration of independence]\n",
            "\tpassage: [Title: United States Declaration of Independence\n",
            "\t\t  Section: Signing\n",
            "\t\t  \n",
            "\t\t  Two future U.\n",
            "\t\t  S.\n",
            "\t\t   presidents were among the signatories: Thomas Jefferson and John Adams.\n",
            "\t\t   The most famous signature on the engrossed copy is that of John Hancock, who presumably signed first as President of Congress.\n",
            "\t\t   Hancock's large, flamboyant signature became iconic, and the term John Hancock emerged in the United States as an informal synonym for \"signature\".\n",
            "\t\t   A commonly circulated but apocryphal account claims that, after Hancock signed, the delegate from Massachusetts commented, \"The British ministry can read that name without spectacles.\n",
            "\t\t  \" Another apocryphal report indicates that Hancock proudly declared, \"There! I guess King George will be able to read that!\"]\n",
            "\n",
            "\n",
            "row 3:\n",
            "\tclaude_rating: Y\n",
            "\thuman_rating: Y\n",
            "\tquestion: [when was the last time the carolina hurricanes made the playoffs]\n",
            "\tpassage: [Title: 2009 Stanley Cup playoffs\n",
            "\t\t  Section: Conference Quarterfinals, Eastern Conference Quarterfinals, (3) New Jersey Devils vs.\n",
            "\t\t   (6) Carolina Hurricanes\n",
            "\t\t  \n",
            "\t\t  The New Jersey Devils entered the playoffs as the third seed in the Eastern Conference after winning the Atlantic Division with 106 points.\n",
            "\t\t   The Carolina Hurricanes earned the sixth seed with 97 points.\n",
            "\t\t   These teams met three times previously in the playoffs, with the Hurricanes winning two series.\n",
            "\t\t   They last met in the 2006 Eastern Conference Semifinals, with the Hurricanes winning in five games.\n",
            "\t\t  ]\n",
            "\n",
            "\n",
            "row 4:\n",
            "\tclaude_rating: Y\n",
            "\thuman_rating: Y\n",
            "\tquestion: [where was 2017 beauty and the beast filmed]\n",
            "\tpassage: [Title: Beauty and the Beast (2017 film)\n",
            "\t\t  \n",
            "\t\t  A live-action Beauty and the Beast remake was first announced in April 2014, with Condon hired to direct it; Watson, Stevens, Evans, and the rest of the cast signed on between January and April 2015.\n",
            "\t\t   Principal photography lasted from May to August 2015, taking place primarily at Shepperton Studios in England.\n",
            "\t\t   With an estimated budget of around $255 million, it is one of the most expensive films ever made.\n",
            "\t\t  ]\n",
            "\n",
            "\n",
            "row 5:\n",
            "\tclaude_rating: N\n",
            "\thuman_rating: N\n",
            "\tquestion: [when does the next warrior book come out]\n",
            "\tpassage: [Title: Adonal Foyle\n",
            "\t\t  \n",
            "\t\t  Adonal David Foyle (born March 9, 1975) is a Vincentian-American former professional basketball center.\n",
            "\t\t   He was selected by the Golden State Warriors with the eighth overall selection of the 1997 NBA draft.\n",
            "\t\t   Foyle played ten seasons with the Warriors until the team bought out his contract on August 13, 2007.\n",
            "\t\t   At the time, he had been Golden State's longest-tenured player.\n",
            "\t\t   He then played two seasons with the Orlando Magic and part of the 2008–09 season with the Memphis Grizzlies, sat out the next season due to knee surgery, and retired.\n",
            "\t\t   As of 2018, Foyle does Warriors post-game commentary for ABC 7 in San Francisco.\n",
            "\t\t  ]\n",
            "\n",
            "\n",
            "row 6:\n",
            "\tclaude_rating: N\n",
            "\thuman_rating: Y\n",
            "\tquestion: [where is the suez canal located on a map]\n",
            "\tpassage: [Title: Suez Canal\n",
            "\t\t  Section: Precursors, Napoleon's discovery of an ancient canal\n",
            "\t\t  \n",
            "\t\t  During the French campaign in Egypt and Syria in late 1798, Napoleon expressed interest in finding the remnants of an ancient waterway passage.\n",
            "\t\t   This culminated in a cadre of archaeologists, scientists, cartographers and engineers scouring northern Egypt.\n",
            "\t\t   Their findings, recorded in the Description de l'Égypte, include detailed maps that depict the discovery of an ancient canal extending northward from the Red Sea and then westward toward the Nile.\n",
            "\t\t  ]\n",
            "\n",
            "\n",
            "row 7:\n",
            "\tclaude_rating: Y\n",
            "\thuman_rating: Y\n",
            "\tquestion: [where was the original planet of the apes filmed at]\n",
            "\tpassage: [Title: Planet of the Apes (1968 film)\n",
            "\t\t  \n",
            "\t\t  The outline of Planet of the Apes originated in script, originally written by Serling, underwent many rewrites before filming eventually began.\n",
            "\t\t   Directors J.\n",
            "\t\t   Lee Thompson and Blake Edwards were approached, but the film's producer Arthur P.\n",
            "\t\t   Jacobs, upon the recommendation of Charlton Heston, chose Franklin J.\n",
            "\t\t   Schaffner to direct the film.\n",
            "\t\t   Schaffner's changes included an ape society less advanced—and therefore less expensive to depict—than that of the original novel.\n",
            "\t\t   Filming took place between May 21 and August 10, 1967, in California, Utah and Arizona, with desert sequences shot in and around Lake Powell, Glen Canyon National Recreation Area.\n",
            "\t\t   The film's final \"closed\" cost was $5.\n",
            "\t\t  8 million.\n",
            "\t\t  ]\n",
            "\n",
            "\n",
            "row 8:\n",
            "\tclaude_rating: Y\n",
            "\thuman_rating: Y\n",
            "\tquestion: [when does like cage season 2 come out]\n",
            "\tpassage: [Title: Luke Cage (season 2)\n",
            "\t\t  Section: Release\n",
            "\t\t  \n",
            "\t\t  The second season of Luke Cage was released on June 22, 2018, on the streaming service Netflix worldwide, in Ultra HD 4K and high dynamic range.\n",
            "\t\t  ]\n",
            "\n",
            "\n",
            "row 9:\n",
            "\tclaude_rating: Y\n",
            "\thuman_rating: Y\n",
            "\tquestion: [who is the largest supermarket chain in the uk]\n",
            "\tpassage: [Title: Tesco\n",
            "\t\t  Section: UK operations, Tesco, Loyalty card\n",
            "\t\t  \n",
            "\t\t  Tesco launched its customer loyalty scheme, the Tesco Clubcard, in 1995.\n",
            "\t\t   It has been cited as a pivotal development in Tesco's progress towards becoming the UK's largest supermarket chain and one that fundamentally changed the country's supermarket business.\n",
            "\t\t   Tesco itself was cited in a Wall Street Journal article as using the intelligence from the Clubcard to thwart Wal-Mart's initiatives in the UK.\n",
            "\t\t  ]\n",
            "\n",
            "\n",
            "row 10:\n",
            "\tclaude_rating: Y\n",
            "\thuman_rating: N\n",
            "\tquestion: [the victim was asking for it is an example of a]\n",
            "\tpassage: [Title: Rape myth\n",
            "\t\t  Section: Rape myth acceptance, Measures\n",
            "\t\t  \n",
            "\t\t  In 1980, Martha R.\n",
            "\t\t   Burt introduced the Rape Myth Acceptance Scale (RMA, or RMAS).\n",
            "\t\t   The scale was the first method for measuring an individual's level of belief in rape myths, and became the most widely used.\n",
            "\t\t   Using Burt's method, rape myth acceptance is measured by asking subjects 19 questions.\n",
            "\t\t   The first 10 questions each consist of a statement which suggests that rape victims are responsible for their own rape, and ask the subject to assess its truthfulness, rating each statement on a seven-point scale from \"strongly agree\" to \"strongly disagree.\n",
            "\t\t  \" The 11th statement tests for the inverse of this idea, asking whether or not it is true that any woman can be raped.\n",
            "\t\t   The remaining questions ask test subjects to guess the proportion of reported rapes that are false, and assess whether they are more or less likely to believe a rape victim based on the victim's personal characteristics (for example, their gender, their race or ethnicity, their age, or their relationship to the test subject).\n",
            "\t\t  ]\n",
            "\n",
            "\n"
          ]
        }
      ]
    },
    {
      "cell_type": "markdown",
      "source": [
        "### More prompting experiments:"
      ],
      "metadata": {
        "id": "pKGK0VV9WCWp"
      }
    },
    {
      "cell_type": "code",
      "source": [
        "# Let's take 100 questions+passages with Claude's relevant/irrelevant predictions:\n",
        "ratings_cld_100_df = pd.read_csv(f'{ATTR_QA_PATH}/{RATINGS_FILENAME}_relevant_claude_merged.csv')\n",
        "ratings_cld_100_df = ratings_cld_100_df.head(100)\n",
        "\n",
        "total = len(ratings_cld_100_df)\n",
        "yes = len(ratings_cld_100_df[ratings_cld_100_df['claude_rating'] == 'Y'])\n",
        "no = len(ratings_cld_100_df[ratings_cld_100_df['claude_rating'] == 'N'])\n",
        "\n",
        "print(f'Total: {total}, #Yes: {yes}, #No: {no}')\n",
        "\n",
        "same = len(ratings_cld_100_df[ratings_cld_100_df['claude_rating'] == ratings_cld_100_df['human_rating']])\n",
        "print(f'Same: {same}, Different: {total - same}')"
      ],
      "metadata": {
        "colab": {
          "base_uri": "https://localhost:8080/"
        },
        "id": "rfutxXTaVEvA",
        "outputId": "fd5e796f-da3a-4628-de22-e64ebef2a24d"
      },
      "execution_count": null,
      "outputs": [
        {
          "output_type": "stream",
          "name": "stdout",
          "text": [
            "Total: 100, #Yes: 53, #No: 47\n",
            "Same: 82, Different: 18\n"
          ]
        }
      ]
    },
    {
      "cell_type": "code",
      "source": [
        "# Let's try Claude again on above 100 questions+passages, WITHOUT CoT:\n",
        "def create_prompt_is_relevant_passage_no_cot(question, passage):\n",
        "  return f\"\"\"Decide if the following passage <Passage> is relevant for answering the following question <Question>.\n",
        "Write the final answer \"Yes\" or \"No\" between the tags <Answer> and </Answer>.\n",
        "Here is the question <Question>: <Question>{question}</Question>\n",
        "Here is the passage <Passage>: <Passage>{passage}</Passage>\\n\"\"\"\n",
        "\n",
        "total = len(ratings_cld_100_df)\n",
        "claude_preds = []\n",
        "claude_ratings = []\n",
        "\n",
        "for i, row in  tqdm(ratings_cld_100_df.iterrows(), desc=\"Querying Claude...\", total=total):\n",
        "  prompt_raw = create_prompt_is_relevant_passage_no_cot(row.question, row.passage) # <-- !!\n",
        "  response = claude_get_response(claude_client, prompt_raw)\n",
        "  claude_preds.append(response)\n",
        "  response_txt = claude_res_get_text(response)\n",
        "  if TAG_YES in response_txt:\n",
        "    claude_ratings.append('Y')\n",
        "  elif TAG_NO in response_txt:\n",
        "    claude_ratings.append('N')\n",
        "  else:\n",
        "    claude_ratings.append('-')\n",
        "\n",
        "ratings_cld_100_df['claude_rating'] = claude_ratings\n",
        "ratings_cld_100_df['claude_pred'] = claude_preds\n",
        "ratings_cld_100_df.to_csv(f'{ATTR_QA_PATH}/{RATINGS_FILENAME}_relevant_claude_100_no_cot.csv', index=False)  # _tail !"
      ],
      "metadata": {
        "colab": {
          "base_uri": "https://localhost:8080/",
          "height": 49,
          "referenced_widgets": [
            "38f70868d505451196bbb9680edf6c27",
            "fd64272c51c94dc3ad04ab1467bad2e3",
            "854f1e430b2d4f129b565d4c1e2978da",
            "2a772688409e4d6cbde50649c7414c77",
            "89c6dfba7be14ad9be690fa7bc29150f",
            "ecc8915391874c6581af16e777f8a3a0",
            "5a65622925c3472f929cfbbc87c2c158",
            "e6b39ef4b26d4338bc9ad98b4cee9ef4",
            "253495e5247c4d61a604323511c8f899",
            "6bbc6cb5ca8f48ae96fe0efa3a04744a",
            "d3ad4801b2dd4c0da0bc0798c27675c2"
          ]
        },
        "id": "V1NioqWzXvcl",
        "outputId": "dfb6c171-e7ec-4770-f928-cc473989d066"
      },
      "execution_count": null,
      "outputs": [
        {
          "output_type": "display_data",
          "data": {
            "text/plain": [
              "Querying Claude...:   0%|          | 0/100 [00:00<?, ?it/s]"
            ],
            "application/vnd.jupyter.widget-view+json": {
              "version_major": 2,
              "version_minor": 0,
              "model_id": "38f70868d505451196bbb9680edf6c27"
            }
          },
          "metadata": {}
        }
      ]
    },
    {
      "cell_type": "code",
      "source": [
        "# Statistics (WITHOUT CoT):\n",
        "ratings_cld_100_nocot_df = pd.read_csv(f'{ATTR_QA_PATH}/{RATINGS_FILENAME}_relevant_claude_100_no_cot.csv')\n",
        "\n",
        "total = len(ratings_cld_100_nocot_df)\n",
        "yes = len(ratings_cld_100_nocot_df[ratings_cld_100_nocot_df['claude_rating'] == 'Y'])\n",
        "no = len(ratings_cld_100_nocot_df[ratings_cld_100_nocot_df['claude_rating'] == 'N'])\n",
        "\n",
        "print(f'Total: {total}, #Yes: {yes}, #No: {no}')\n",
        "\n",
        "same = len(ratings_cld_100_nocot_df[ratings_cld_100_nocot_df['claude_rating'] == ratings_cld_100_nocot_df['human_rating']])\n",
        "print(f'Same: {same}, Different: {total - same}')"
      ],
      "metadata": {
        "colab": {
          "base_uri": "https://localhost:8080/"
        },
        "id": "5re8aU1DZl-A",
        "outputId": "97363eb5-2354-4c10-8afe-d72c9065241e"
      },
      "execution_count": null,
      "outputs": [
        {
          "output_type": "stream",
          "name": "stdout",
          "text": [
            "Total: 100, #Yes: 55, #No: 45\n",
            "Same: 80, Different: 20\n"
          ]
        }
      ]
    },
    {
      "cell_type": "markdown",
      "source": [
        "## Imitating the behavior of 'Retrieve' Tags"
      ],
      "metadata": {
        "id": "Teb7GJ3HAWui"
      }
    },
    {
      "cell_type": "code",
      "source": [
        "# Let's take 100 questions with self-rag's [Retrieval]/[No Retrieval] predictions:\n",
        "ret_df = pd.read_csv(f'{SELF_RAG_PATH}/retrieval_rating.csv')\n",
        "ret_df_head = ret_df.head(100)\n",
        "\n",
        "total = len(ret_df_head)\n",
        "yes = len(ret_df_head[ret_df_head['self_rag_rating'] == 'Y'])\n",
        "no = len(ret_df_head[ret_df_head['self_rag_rating'] == 'N'])\n",
        "none = len(ret_df_head[ret_df_head['self_rag_rating'] == '-'])\n",
        "\n",
        "print(f'Total: {total}, #Yes: {yes}, #No: {no}, #-: {none}')"
      ],
      "metadata": {
        "id": "kLf-oSr_AdN1",
        "colab": {
          "base_uri": "https://localhost:8080/"
        },
        "outputId": "c171b999-7051-48ab-ddbf-8a7b8eadc666"
      },
      "execution_count": null,
      "outputs": [
        {
          "output_type": "stream",
          "name": "stdout",
          "text": [
            "Total: 100, #Yes: 5, #No: 0, #-: 95\n"
          ]
        }
      ]
    },
    {
      "cell_type": "code",
      "source": [
        "# Let's try Claude on above 100 questions:\n",
        "claude_preds = []\n",
        "claude_ratings = []\n",
        "\n",
        "for i, row in  tqdm(ret_df_head.iterrows(), desc=\"Querying Claude...\", total=total):\n",
        "  prompt_raw = create_prompt_is_retrieve(row.question)\n",
        "  response = claude_get_response(claude_client, prompt_raw, is_retrieve_sys_prompt) # <-- !!\n",
        "  claude_preds.append(response)\n",
        "  response_txt = claude_res_get_text(response)\n",
        "  if TAG_YES in response_txt:\n",
        "    claude_ratings.append('Y')\n",
        "  elif TAG_NO in response_txt:\n",
        "    claude_ratings.append('N')\n",
        "  else:\n",
        "    claude_ratings.append('-')\n",
        "\n",
        "ret_df_head['claude_rating'] = claude_ratings\n",
        "ret_df_head['claude_pred'] = claude_preds\n",
        "ret_df_head.to_csv(f'{ATTR_QA_PATH}/{RATINGS_FILENAME}_retrieve_claude_100.csv', index=False)\n",
        "\n",
        "\n",
        "# Statistics:\n",
        "ret_100_df = pd.read_csv(f'{ATTR_QA_PATH}/{RATINGS_FILENAME}_retrieve_claude_100.csv')\n",
        "\n",
        "total = len(ret_100_df)\n",
        "yes = len(ret_100_df[ret_100_df['claude_rating'] == 'Y'])\n",
        "no = len(ret_100_df[ret_100_df['claude_rating'] == 'N'])\n",
        "none = len(ret_100_df[ret_100_df['claude_rating'] == '-'])\n",
        "\n",
        "print(f'Total: {total}, #Yes: {yes}, #No: {no}, #-: {none}')\n",
        "print(f' %Yes: {round(yes / total * 100, 2)}')"
      ],
      "metadata": {
        "colab": {
          "base_uri": "https://localhost:8080/",
          "height": 312,
          "referenced_widgets": [
            "e43c7b1023ec47b7b7ecdf235a4cc3f1",
            "510e0121292b4d6ba58be773ef1b825c",
            "5c11dc295d6241aa9e67345ae404b91f",
            "83654577084e490882210652248c204b",
            "369cd3b06bc54ed4a499abab5a20bd0f",
            "b11a55414aca4e02bbe1a15b7d4c8321",
            "7fc13c2dc0d343889f746c9329659231",
            "3ad87aabbf4c497eb54f21b3faa5cdf8",
            "e98d6886b7124f23be17db48e9f89647",
            "c1b1e297c02348d4a21215a28f34f163",
            "3d9a31dc073944fd84b5e2c393d60239"
          ]
        },
        "id": "Bsjcrbd4K9VP",
        "outputId": "d83f020d-a996-498d-a158-d4f59c8074c5"
      },
      "execution_count": null,
      "outputs": [
        {
          "output_type": "display_data",
          "data": {
            "text/plain": [
              "Querying Claude...:   0%|          | 0/100 [00:00<?, ?it/s]"
            ],
            "application/vnd.jupyter.widget-view+json": {
              "version_major": 2,
              "version_minor": 0,
              "model_id": "e43c7b1023ec47b7b7ecdf235a4cc3f1"
            }
          },
          "metadata": {}
        },
        {
          "output_type": "stream",
          "name": "stdout",
          "text": [
            "Total: 100, #Yes: 93, #No: 7, #-: 0\n",
            " %Yes: 93.0\n"
          ]
        },
        {
          "output_type": "stream",
          "name": "stderr",
          "text": [
            "<ipython-input-54-95a362ee6c4d>:17: SettingWithCopyWarning: \n",
            "A value is trying to be set on a copy of a slice from a DataFrame.\n",
            "Try using .loc[row_indexer,col_indexer] = value instead\n",
            "\n",
            "See the caveats in the documentation: https://pandas.pydata.org/pandas-docs/stable/user_guide/indexing.html#returning-a-view-versus-a-copy\n",
            "  ret_df_head['claude_rating'] = claude_ratings\n",
            "<ipython-input-54-95a362ee6c4d>:18: SettingWithCopyWarning: \n",
            "A value is trying to be set on a copy of a slice from a DataFrame.\n",
            "Try using .loc[row_indexer,col_indexer] = value instead\n",
            "\n",
            "See the caveats in the documentation: https://pandas.pydata.org/pandas-docs/stable/user_guide/indexing.html#returning-a-view-versus-a-copy\n",
            "  ret_df_head['claude_pred'] = claude_preds\n"
          ]
        }
      ]
    }
  ],
  "metadata": {
    "colab": {
      "collapsed_sections": [
        "nEFiacg7qpBd",
        "QabW6Ylur4_U",
        "IaCkYExoosq8",
        "rQv4zCURF6Eo",
        "cThdEMCfJF0L",
        "b-BlSnoPuNfT",
        "CNLsrQMGGho6",
        "lSb15OStT1bp",
        "DPFDSACkTtTm",
        "pMQHHTOTh0FX",
        "DduMtyQmAxlQ",
        "9gmFtMsuQjzR",
        "pKGK0VV9WCWp",
        "Teb7GJ3HAWui"
      ],
      "provenance": [],
      "machine_shape": "hm",
      "include_colab_link": true
    },
    "kernelspec": {
      "display_name": "Python 3",
      "name": "python3"
    },
    "language_info": {
      "name": "python"
    },
    "widgets": {
      "application/vnd.jupyter.widget-state+json": {
        "85437ce528c846d8964661974ffc94a1": {
          "model_module": "@jupyter-widgets/controls",
          "model_name": "HBoxModel",
          "model_module_version": "1.5.0",
          "state": {
            "_dom_classes": [],
            "_model_module": "@jupyter-widgets/controls",
            "_model_module_version": "1.5.0",
            "_model_name": "HBoxModel",
            "_view_count": null,
            "_view_module": "@jupyter-widgets/controls",
            "_view_module_version": "1.5.0",
            "_view_name": "HBoxView",
            "box_style": "",
            "children": [
              "IPY_MODEL_9a66a70607d243abab12bbf066189b35",
              "IPY_MODEL_8958bd7738c146f7a14c8c171701cecc",
              "IPY_MODEL_0d04f6109f804b788f51e8cba8c90781"
            ],
            "layout": "IPY_MODEL_60c81720bea9450ab7a3dee5bc087293"
          }
        },
        "9a66a70607d243abab12bbf066189b35": {
          "model_module": "@jupyter-widgets/controls",
          "model_name": "HTMLModel",
          "model_module_version": "1.5.0",
          "state": {
            "_dom_classes": [],
            "_model_module": "@jupyter-widgets/controls",
            "_model_module_version": "1.5.0",
            "_model_name": "HTMLModel",
            "_view_count": null,
            "_view_module": "@jupyter-widgets/controls",
            "_view_module_version": "1.5.0",
            "_view_name": "HTMLView",
            "description": "",
            "description_tooltip": null,
            "layout": "IPY_MODEL_f04211c154784820bbe6e9a7ae695697",
            "placeholder": "​",
            "style": "IPY_MODEL_fe29f2a40837475ebf60d4897c2a3760",
            "value": "Querying Claude...: 100%"
          }
        },
        "8958bd7738c146f7a14c8c171701cecc": {
          "model_module": "@jupyter-widgets/controls",
          "model_name": "FloatProgressModel",
          "model_module_version": "1.5.0",
          "state": {
            "_dom_classes": [],
            "_model_module": "@jupyter-widgets/controls",
            "_model_module_version": "1.5.0",
            "_model_name": "FloatProgressModel",
            "_view_count": null,
            "_view_module": "@jupyter-widgets/controls",
            "_view_module_version": "1.5.0",
            "_view_name": "ProgressView",
            "bar_style": "success",
            "description": "",
            "description_tooltip": null,
            "layout": "IPY_MODEL_48acd750a6c54bc18c148481443d679e",
            "max": 821,
            "min": 0,
            "orientation": "horizontal",
            "style": "IPY_MODEL_332314787d3242fa9deb8cc6571914ef",
            "value": 821
          }
        },
        "0d04f6109f804b788f51e8cba8c90781": {
          "model_module": "@jupyter-widgets/controls",
          "model_name": "HTMLModel",
          "model_module_version": "1.5.0",
          "state": {
            "_dom_classes": [],
            "_model_module": "@jupyter-widgets/controls",
            "_model_module_version": "1.5.0",
            "_model_name": "HTMLModel",
            "_view_count": null,
            "_view_module": "@jupyter-widgets/controls",
            "_view_module_version": "1.5.0",
            "_view_name": "HTMLView",
            "description": "",
            "description_tooltip": null,
            "layout": "IPY_MODEL_7f611328eb924b17a8f028dbe15b402c",
            "placeholder": "​",
            "style": "IPY_MODEL_d23aa1a546ff47c69a404093cc181396",
            "value": " 821/821 [59:45&lt;00:00,  4.22s/it]"
          }
        },
        "60c81720bea9450ab7a3dee5bc087293": {
          "model_module": "@jupyter-widgets/base",
          "model_name": "LayoutModel",
          "model_module_version": "1.2.0",
          "state": {
            "_model_module": "@jupyter-widgets/base",
            "_model_module_version": "1.2.0",
            "_model_name": "LayoutModel",
            "_view_count": null,
            "_view_module": "@jupyter-widgets/base",
            "_view_module_version": "1.2.0",
            "_view_name": "LayoutView",
            "align_content": null,
            "align_items": null,
            "align_self": null,
            "border": null,
            "bottom": null,
            "display": null,
            "flex": null,
            "flex_flow": null,
            "grid_area": null,
            "grid_auto_columns": null,
            "grid_auto_flow": null,
            "grid_auto_rows": null,
            "grid_column": null,
            "grid_gap": null,
            "grid_row": null,
            "grid_template_areas": null,
            "grid_template_columns": null,
            "grid_template_rows": null,
            "height": null,
            "justify_content": null,
            "justify_items": null,
            "left": null,
            "margin": null,
            "max_height": null,
            "max_width": null,
            "min_height": null,
            "min_width": null,
            "object_fit": null,
            "object_position": null,
            "order": null,
            "overflow": null,
            "overflow_x": null,
            "overflow_y": null,
            "padding": null,
            "right": null,
            "top": null,
            "visibility": null,
            "width": null
          }
        },
        "f04211c154784820bbe6e9a7ae695697": {
          "model_module": "@jupyter-widgets/base",
          "model_name": "LayoutModel",
          "model_module_version": "1.2.0",
          "state": {
            "_model_module": "@jupyter-widgets/base",
            "_model_module_version": "1.2.0",
            "_model_name": "LayoutModel",
            "_view_count": null,
            "_view_module": "@jupyter-widgets/base",
            "_view_module_version": "1.2.0",
            "_view_name": "LayoutView",
            "align_content": null,
            "align_items": null,
            "align_self": null,
            "border": null,
            "bottom": null,
            "display": null,
            "flex": null,
            "flex_flow": null,
            "grid_area": null,
            "grid_auto_columns": null,
            "grid_auto_flow": null,
            "grid_auto_rows": null,
            "grid_column": null,
            "grid_gap": null,
            "grid_row": null,
            "grid_template_areas": null,
            "grid_template_columns": null,
            "grid_template_rows": null,
            "height": null,
            "justify_content": null,
            "justify_items": null,
            "left": null,
            "margin": null,
            "max_height": null,
            "max_width": null,
            "min_height": null,
            "min_width": null,
            "object_fit": null,
            "object_position": null,
            "order": null,
            "overflow": null,
            "overflow_x": null,
            "overflow_y": null,
            "padding": null,
            "right": null,
            "top": null,
            "visibility": null,
            "width": null
          }
        },
        "fe29f2a40837475ebf60d4897c2a3760": {
          "model_module": "@jupyter-widgets/controls",
          "model_name": "DescriptionStyleModel",
          "model_module_version": "1.5.0",
          "state": {
            "_model_module": "@jupyter-widgets/controls",
            "_model_module_version": "1.5.0",
            "_model_name": "DescriptionStyleModel",
            "_view_count": null,
            "_view_module": "@jupyter-widgets/base",
            "_view_module_version": "1.2.0",
            "_view_name": "StyleView",
            "description_width": ""
          }
        },
        "48acd750a6c54bc18c148481443d679e": {
          "model_module": "@jupyter-widgets/base",
          "model_name": "LayoutModel",
          "model_module_version": "1.2.0",
          "state": {
            "_model_module": "@jupyter-widgets/base",
            "_model_module_version": "1.2.0",
            "_model_name": "LayoutModel",
            "_view_count": null,
            "_view_module": "@jupyter-widgets/base",
            "_view_module_version": "1.2.0",
            "_view_name": "LayoutView",
            "align_content": null,
            "align_items": null,
            "align_self": null,
            "border": null,
            "bottom": null,
            "display": null,
            "flex": null,
            "flex_flow": null,
            "grid_area": null,
            "grid_auto_columns": null,
            "grid_auto_flow": null,
            "grid_auto_rows": null,
            "grid_column": null,
            "grid_gap": null,
            "grid_row": null,
            "grid_template_areas": null,
            "grid_template_columns": null,
            "grid_template_rows": null,
            "height": null,
            "justify_content": null,
            "justify_items": null,
            "left": null,
            "margin": null,
            "max_height": null,
            "max_width": null,
            "min_height": null,
            "min_width": null,
            "object_fit": null,
            "object_position": null,
            "order": null,
            "overflow": null,
            "overflow_x": null,
            "overflow_y": null,
            "padding": null,
            "right": null,
            "top": null,
            "visibility": null,
            "width": null
          }
        },
        "332314787d3242fa9deb8cc6571914ef": {
          "model_module": "@jupyter-widgets/controls",
          "model_name": "ProgressStyleModel",
          "model_module_version": "1.5.0",
          "state": {
            "_model_module": "@jupyter-widgets/controls",
            "_model_module_version": "1.5.0",
            "_model_name": "ProgressStyleModel",
            "_view_count": null,
            "_view_module": "@jupyter-widgets/base",
            "_view_module_version": "1.2.0",
            "_view_name": "StyleView",
            "bar_color": null,
            "description_width": ""
          }
        },
        "7f611328eb924b17a8f028dbe15b402c": {
          "model_module": "@jupyter-widgets/base",
          "model_name": "LayoutModel",
          "model_module_version": "1.2.0",
          "state": {
            "_model_module": "@jupyter-widgets/base",
            "_model_module_version": "1.2.0",
            "_model_name": "LayoutModel",
            "_view_count": null,
            "_view_module": "@jupyter-widgets/base",
            "_view_module_version": "1.2.0",
            "_view_name": "LayoutView",
            "align_content": null,
            "align_items": null,
            "align_self": null,
            "border": null,
            "bottom": null,
            "display": null,
            "flex": null,
            "flex_flow": null,
            "grid_area": null,
            "grid_auto_columns": null,
            "grid_auto_flow": null,
            "grid_auto_rows": null,
            "grid_column": null,
            "grid_gap": null,
            "grid_row": null,
            "grid_template_areas": null,
            "grid_template_columns": null,
            "grid_template_rows": null,
            "height": null,
            "justify_content": null,
            "justify_items": null,
            "left": null,
            "margin": null,
            "max_height": null,
            "max_width": null,
            "min_height": null,
            "min_width": null,
            "object_fit": null,
            "object_position": null,
            "order": null,
            "overflow": null,
            "overflow_x": null,
            "overflow_y": null,
            "padding": null,
            "right": null,
            "top": null,
            "visibility": null,
            "width": null
          }
        },
        "d23aa1a546ff47c69a404093cc181396": {
          "model_module": "@jupyter-widgets/controls",
          "model_name": "DescriptionStyleModel",
          "model_module_version": "1.5.0",
          "state": {
            "_model_module": "@jupyter-widgets/controls",
            "_model_module_version": "1.5.0",
            "_model_name": "DescriptionStyleModel",
            "_view_count": null,
            "_view_module": "@jupyter-widgets/base",
            "_view_module_version": "1.2.0",
            "_view_name": "StyleView",
            "description_width": ""
          }
        },
        "38f70868d505451196bbb9680edf6c27": {
          "model_module": "@jupyter-widgets/controls",
          "model_name": "HBoxModel",
          "model_module_version": "1.5.0",
          "state": {
            "_dom_classes": [],
            "_model_module": "@jupyter-widgets/controls",
            "_model_module_version": "1.5.0",
            "_model_name": "HBoxModel",
            "_view_count": null,
            "_view_module": "@jupyter-widgets/controls",
            "_view_module_version": "1.5.0",
            "_view_name": "HBoxView",
            "box_style": "",
            "children": [
              "IPY_MODEL_fd64272c51c94dc3ad04ab1467bad2e3",
              "IPY_MODEL_854f1e430b2d4f129b565d4c1e2978da",
              "IPY_MODEL_2a772688409e4d6cbde50649c7414c77"
            ],
            "layout": "IPY_MODEL_89c6dfba7be14ad9be690fa7bc29150f"
          }
        },
        "fd64272c51c94dc3ad04ab1467bad2e3": {
          "model_module": "@jupyter-widgets/controls",
          "model_name": "HTMLModel",
          "model_module_version": "1.5.0",
          "state": {
            "_dom_classes": [],
            "_model_module": "@jupyter-widgets/controls",
            "_model_module_version": "1.5.0",
            "_model_name": "HTMLModel",
            "_view_count": null,
            "_view_module": "@jupyter-widgets/controls",
            "_view_module_version": "1.5.0",
            "_view_name": "HTMLView",
            "description": "",
            "description_tooltip": null,
            "layout": "IPY_MODEL_ecc8915391874c6581af16e777f8a3a0",
            "placeholder": "​",
            "style": "IPY_MODEL_5a65622925c3472f929cfbbc87c2c158",
            "value": "Querying Claude...: 100%"
          }
        },
        "854f1e430b2d4f129b565d4c1e2978da": {
          "model_module": "@jupyter-widgets/controls",
          "model_name": "FloatProgressModel",
          "model_module_version": "1.5.0",
          "state": {
            "_dom_classes": [],
            "_model_module": "@jupyter-widgets/controls",
            "_model_module_version": "1.5.0",
            "_model_name": "FloatProgressModel",
            "_view_count": null,
            "_view_module": "@jupyter-widgets/controls",
            "_view_module_version": "1.5.0",
            "_view_name": "ProgressView",
            "bar_style": "success",
            "description": "",
            "description_tooltip": null,
            "layout": "IPY_MODEL_e6b39ef4b26d4338bc9ad98b4cee9ef4",
            "max": 100,
            "min": 0,
            "orientation": "horizontal",
            "style": "IPY_MODEL_253495e5247c4d61a604323511c8f899",
            "value": 100
          }
        },
        "2a772688409e4d6cbde50649c7414c77": {
          "model_module": "@jupyter-widgets/controls",
          "model_name": "HTMLModel",
          "model_module_version": "1.5.0",
          "state": {
            "_dom_classes": [],
            "_model_module": "@jupyter-widgets/controls",
            "_model_module_version": "1.5.0",
            "_model_name": "HTMLModel",
            "_view_count": null,
            "_view_module": "@jupyter-widgets/controls",
            "_view_module_version": "1.5.0",
            "_view_name": "HTMLView",
            "description": "",
            "description_tooltip": null,
            "layout": "IPY_MODEL_6bbc6cb5ca8f48ae96fe0efa3a04744a",
            "placeholder": "​",
            "style": "IPY_MODEL_d3ad4801b2dd4c0da0bc0798c27675c2",
            "value": " 100/100 [02:19&lt;00:00,  1.31s/it]"
          }
        },
        "89c6dfba7be14ad9be690fa7bc29150f": {
          "model_module": "@jupyter-widgets/base",
          "model_name": "LayoutModel",
          "model_module_version": "1.2.0",
          "state": {
            "_model_module": "@jupyter-widgets/base",
            "_model_module_version": "1.2.0",
            "_model_name": "LayoutModel",
            "_view_count": null,
            "_view_module": "@jupyter-widgets/base",
            "_view_module_version": "1.2.0",
            "_view_name": "LayoutView",
            "align_content": null,
            "align_items": null,
            "align_self": null,
            "border": null,
            "bottom": null,
            "display": null,
            "flex": null,
            "flex_flow": null,
            "grid_area": null,
            "grid_auto_columns": null,
            "grid_auto_flow": null,
            "grid_auto_rows": null,
            "grid_column": null,
            "grid_gap": null,
            "grid_row": null,
            "grid_template_areas": null,
            "grid_template_columns": null,
            "grid_template_rows": null,
            "height": null,
            "justify_content": null,
            "justify_items": null,
            "left": null,
            "margin": null,
            "max_height": null,
            "max_width": null,
            "min_height": null,
            "min_width": null,
            "object_fit": null,
            "object_position": null,
            "order": null,
            "overflow": null,
            "overflow_x": null,
            "overflow_y": null,
            "padding": null,
            "right": null,
            "top": null,
            "visibility": null,
            "width": null
          }
        },
        "ecc8915391874c6581af16e777f8a3a0": {
          "model_module": "@jupyter-widgets/base",
          "model_name": "LayoutModel",
          "model_module_version": "1.2.0",
          "state": {
            "_model_module": "@jupyter-widgets/base",
            "_model_module_version": "1.2.0",
            "_model_name": "LayoutModel",
            "_view_count": null,
            "_view_module": "@jupyter-widgets/base",
            "_view_module_version": "1.2.0",
            "_view_name": "LayoutView",
            "align_content": null,
            "align_items": null,
            "align_self": null,
            "border": null,
            "bottom": null,
            "display": null,
            "flex": null,
            "flex_flow": null,
            "grid_area": null,
            "grid_auto_columns": null,
            "grid_auto_flow": null,
            "grid_auto_rows": null,
            "grid_column": null,
            "grid_gap": null,
            "grid_row": null,
            "grid_template_areas": null,
            "grid_template_columns": null,
            "grid_template_rows": null,
            "height": null,
            "justify_content": null,
            "justify_items": null,
            "left": null,
            "margin": null,
            "max_height": null,
            "max_width": null,
            "min_height": null,
            "min_width": null,
            "object_fit": null,
            "object_position": null,
            "order": null,
            "overflow": null,
            "overflow_x": null,
            "overflow_y": null,
            "padding": null,
            "right": null,
            "top": null,
            "visibility": null,
            "width": null
          }
        },
        "5a65622925c3472f929cfbbc87c2c158": {
          "model_module": "@jupyter-widgets/controls",
          "model_name": "DescriptionStyleModel",
          "model_module_version": "1.5.0",
          "state": {
            "_model_module": "@jupyter-widgets/controls",
            "_model_module_version": "1.5.0",
            "_model_name": "DescriptionStyleModel",
            "_view_count": null,
            "_view_module": "@jupyter-widgets/base",
            "_view_module_version": "1.2.0",
            "_view_name": "StyleView",
            "description_width": ""
          }
        },
        "e6b39ef4b26d4338bc9ad98b4cee9ef4": {
          "model_module": "@jupyter-widgets/base",
          "model_name": "LayoutModel",
          "model_module_version": "1.2.0",
          "state": {
            "_model_module": "@jupyter-widgets/base",
            "_model_module_version": "1.2.0",
            "_model_name": "LayoutModel",
            "_view_count": null,
            "_view_module": "@jupyter-widgets/base",
            "_view_module_version": "1.2.0",
            "_view_name": "LayoutView",
            "align_content": null,
            "align_items": null,
            "align_self": null,
            "border": null,
            "bottom": null,
            "display": null,
            "flex": null,
            "flex_flow": null,
            "grid_area": null,
            "grid_auto_columns": null,
            "grid_auto_flow": null,
            "grid_auto_rows": null,
            "grid_column": null,
            "grid_gap": null,
            "grid_row": null,
            "grid_template_areas": null,
            "grid_template_columns": null,
            "grid_template_rows": null,
            "height": null,
            "justify_content": null,
            "justify_items": null,
            "left": null,
            "margin": null,
            "max_height": null,
            "max_width": null,
            "min_height": null,
            "min_width": null,
            "object_fit": null,
            "object_position": null,
            "order": null,
            "overflow": null,
            "overflow_x": null,
            "overflow_y": null,
            "padding": null,
            "right": null,
            "top": null,
            "visibility": null,
            "width": null
          }
        },
        "253495e5247c4d61a604323511c8f899": {
          "model_module": "@jupyter-widgets/controls",
          "model_name": "ProgressStyleModel",
          "model_module_version": "1.5.0",
          "state": {
            "_model_module": "@jupyter-widgets/controls",
            "_model_module_version": "1.5.0",
            "_model_name": "ProgressStyleModel",
            "_view_count": null,
            "_view_module": "@jupyter-widgets/base",
            "_view_module_version": "1.2.0",
            "_view_name": "StyleView",
            "bar_color": null,
            "description_width": ""
          }
        },
        "6bbc6cb5ca8f48ae96fe0efa3a04744a": {
          "model_module": "@jupyter-widgets/base",
          "model_name": "LayoutModel",
          "model_module_version": "1.2.0",
          "state": {
            "_model_module": "@jupyter-widgets/base",
            "_model_module_version": "1.2.0",
            "_model_name": "LayoutModel",
            "_view_count": null,
            "_view_module": "@jupyter-widgets/base",
            "_view_module_version": "1.2.0",
            "_view_name": "LayoutView",
            "align_content": null,
            "align_items": null,
            "align_self": null,
            "border": null,
            "bottom": null,
            "display": null,
            "flex": null,
            "flex_flow": null,
            "grid_area": null,
            "grid_auto_columns": null,
            "grid_auto_flow": null,
            "grid_auto_rows": null,
            "grid_column": null,
            "grid_gap": null,
            "grid_row": null,
            "grid_template_areas": null,
            "grid_template_columns": null,
            "grid_template_rows": null,
            "height": null,
            "justify_content": null,
            "justify_items": null,
            "left": null,
            "margin": null,
            "max_height": null,
            "max_width": null,
            "min_height": null,
            "min_width": null,
            "object_fit": null,
            "object_position": null,
            "order": null,
            "overflow": null,
            "overflow_x": null,
            "overflow_y": null,
            "padding": null,
            "right": null,
            "top": null,
            "visibility": null,
            "width": null
          }
        },
        "d3ad4801b2dd4c0da0bc0798c27675c2": {
          "model_module": "@jupyter-widgets/controls",
          "model_name": "DescriptionStyleModel",
          "model_module_version": "1.5.0",
          "state": {
            "_model_module": "@jupyter-widgets/controls",
            "_model_module_version": "1.5.0",
            "_model_name": "DescriptionStyleModel",
            "_view_count": null,
            "_view_module": "@jupyter-widgets/base",
            "_view_module_version": "1.2.0",
            "_view_name": "StyleView",
            "description_width": ""
          }
        },
        "e43c7b1023ec47b7b7ecdf235a4cc3f1": {
          "model_module": "@jupyter-widgets/controls",
          "model_name": "HBoxModel",
          "model_module_version": "1.5.0",
          "state": {
            "_dom_classes": [],
            "_model_module": "@jupyter-widgets/controls",
            "_model_module_version": "1.5.0",
            "_model_name": "HBoxModel",
            "_view_count": null,
            "_view_module": "@jupyter-widgets/controls",
            "_view_module_version": "1.5.0",
            "_view_name": "HBoxView",
            "box_style": "",
            "children": [
              "IPY_MODEL_510e0121292b4d6ba58be773ef1b825c",
              "IPY_MODEL_5c11dc295d6241aa9e67345ae404b91f",
              "IPY_MODEL_83654577084e490882210652248c204b"
            ],
            "layout": "IPY_MODEL_369cd3b06bc54ed4a499abab5a20bd0f"
          }
        },
        "510e0121292b4d6ba58be773ef1b825c": {
          "model_module": "@jupyter-widgets/controls",
          "model_name": "HTMLModel",
          "model_module_version": "1.5.0",
          "state": {
            "_dom_classes": [],
            "_model_module": "@jupyter-widgets/controls",
            "_model_module_version": "1.5.0",
            "_model_name": "HTMLModel",
            "_view_count": null,
            "_view_module": "@jupyter-widgets/controls",
            "_view_module_version": "1.5.0",
            "_view_name": "HTMLView",
            "description": "",
            "description_tooltip": null,
            "layout": "IPY_MODEL_b11a55414aca4e02bbe1a15b7d4c8321",
            "placeholder": "​",
            "style": "IPY_MODEL_7fc13c2dc0d343889f746c9329659231",
            "value": "Querying Claude...: 100%"
          }
        },
        "5c11dc295d6241aa9e67345ae404b91f": {
          "model_module": "@jupyter-widgets/controls",
          "model_name": "FloatProgressModel",
          "model_module_version": "1.5.0",
          "state": {
            "_dom_classes": [],
            "_model_module": "@jupyter-widgets/controls",
            "_model_module_version": "1.5.0",
            "_model_name": "FloatProgressModel",
            "_view_count": null,
            "_view_module": "@jupyter-widgets/controls",
            "_view_module_version": "1.5.0",
            "_view_name": "ProgressView",
            "bar_style": "success",
            "description": "",
            "description_tooltip": null,
            "layout": "IPY_MODEL_3ad87aabbf4c497eb54f21b3faa5cdf8",
            "max": 100,
            "min": 0,
            "orientation": "horizontal",
            "style": "IPY_MODEL_e98d6886b7124f23be17db48e9f89647",
            "value": 100
          }
        },
        "83654577084e490882210652248c204b": {
          "model_module": "@jupyter-widgets/controls",
          "model_name": "HTMLModel",
          "model_module_version": "1.5.0",
          "state": {
            "_dom_classes": [],
            "_model_module": "@jupyter-widgets/controls",
            "_model_module_version": "1.5.0",
            "_model_name": "HTMLModel",
            "_view_count": null,
            "_view_module": "@jupyter-widgets/controls",
            "_view_module_version": "1.5.0",
            "_view_name": "HTMLView",
            "description": "",
            "description_tooltip": null,
            "layout": "IPY_MODEL_c1b1e297c02348d4a21215a28f34f163",
            "placeholder": "​",
            "style": "IPY_MODEL_3d9a31dc073944fd84b5e2c393d60239",
            "value": " 100/100 [01:42&lt;00:00,  1.19s/it]"
          }
        },
        "369cd3b06bc54ed4a499abab5a20bd0f": {
          "model_module": "@jupyter-widgets/base",
          "model_name": "LayoutModel",
          "model_module_version": "1.2.0",
          "state": {
            "_model_module": "@jupyter-widgets/base",
            "_model_module_version": "1.2.0",
            "_model_name": "LayoutModel",
            "_view_count": null,
            "_view_module": "@jupyter-widgets/base",
            "_view_module_version": "1.2.0",
            "_view_name": "LayoutView",
            "align_content": null,
            "align_items": null,
            "align_self": null,
            "border": null,
            "bottom": null,
            "display": null,
            "flex": null,
            "flex_flow": null,
            "grid_area": null,
            "grid_auto_columns": null,
            "grid_auto_flow": null,
            "grid_auto_rows": null,
            "grid_column": null,
            "grid_gap": null,
            "grid_row": null,
            "grid_template_areas": null,
            "grid_template_columns": null,
            "grid_template_rows": null,
            "height": null,
            "justify_content": null,
            "justify_items": null,
            "left": null,
            "margin": null,
            "max_height": null,
            "max_width": null,
            "min_height": null,
            "min_width": null,
            "object_fit": null,
            "object_position": null,
            "order": null,
            "overflow": null,
            "overflow_x": null,
            "overflow_y": null,
            "padding": null,
            "right": null,
            "top": null,
            "visibility": null,
            "width": null
          }
        },
        "b11a55414aca4e02bbe1a15b7d4c8321": {
          "model_module": "@jupyter-widgets/base",
          "model_name": "LayoutModel",
          "model_module_version": "1.2.0",
          "state": {
            "_model_module": "@jupyter-widgets/base",
            "_model_module_version": "1.2.0",
            "_model_name": "LayoutModel",
            "_view_count": null,
            "_view_module": "@jupyter-widgets/base",
            "_view_module_version": "1.2.0",
            "_view_name": "LayoutView",
            "align_content": null,
            "align_items": null,
            "align_self": null,
            "border": null,
            "bottom": null,
            "display": null,
            "flex": null,
            "flex_flow": null,
            "grid_area": null,
            "grid_auto_columns": null,
            "grid_auto_flow": null,
            "grid_auto_rows": null,
            "grid_column": null,
            "grid_gap": null,
            "grid_row": null,
            "grid_template_areas": null,
            "grid_template_columns": null,
            "grid_template_rows": null,
            "height": null,
            "justify_content": null,
            "justify_items": null,
            "left": null,
            "margin": null,
            "max_height": null,
            "max_width": null,
            "min_height": null,
            "min_width": null,
            "object_fit": null,
            "object_position": null,
            "order": null,
            "overflow": null,
            "overflow_x": null,
            "overflow_y": null,
            "padding": null,
            "right": null,
            "top": null,
            "visibility": null,
            "width": null
          }
        },
        "7fc13c2dc0d343889f746c9329659231": {
          "model_module": "@jupyter-widgets/controls",
          "model_name": "DescriptionStyleModel",
          "model_module_version": "1.5.0",
          "state": {
            "_model_module": "@jupyter-widgets/controls",
            "_model_module_version": "1.5.0",
            "_model_name": "DescriptionStyleModel",
            "_view_count": null,
            "_view_module": "@jupyter-widgets/base",
            "_view_module_version": "1.2.0",
            "_view_name": "StyleView",
            "description_width": ""
          }
        },
        "3ad87aabbf4c497eb54f21b3faa5cdf8": {
          "model_module": "@jupyter-widgets/base",
          "model_name": "LayoutModel",
          "model_module_version": "1.2.0",
          "state": {
            "_model_module": "@jupyter-widgets/base",
            "_model_module_version": "1.2.0",
            "_model_name": "LayoutModel",
            "_view_count": null,
            "_view_module": "@jupyter-widgets/base",
            "_view_module_version": "1.2.0",
            "_view_name": "LayoutView",
            "align_content": null,
            "align_items": null,
            "align_self": null,
            "border": null,
            "bottom": null,
            "display": null,
            "flex": null,
            "flex_flow": null,
            "grid_area": null,
            "grid_auto_columns": null,
            "grid_auto_flow": null,
            "grid_auto_rows": null,
            "grid_column": null,
            "grid_gap": null,
            "grid_row": null,
            "grid_template_areas": null,
            "grid_template_columns": null,
            "grid_template_rows": null,
            "height": null,
            "justify_content": null,
            "justify_items": null,
            "left": null,
            "margin": null,
            "max_height": null,
            "max_width": null,
            "min_height": null,
            "min_width": null,
            "object_fit": null,
            "object_position": null,
            "order": null,
            "overflow": null,
            "overflow_x": null,
            "overflow_y": null,
            "padding": null,
            "right": null,
            "top": null,
            "visibility": null,
            "width": null
          }
        },
        "e98d6886b7124f23be17db48e9f89647": {
          "model_module": "@jupyter-widgets/controls",
          "model_name": "ProgressStyleModel",
          "model_module_version": "1.5.0",
          "state": {
            "_model_module": "@jupyter-widgets/controls",
            "_model_module_version": "1.5.0",
            "_model_name": "ProgressStyleModel",
            "_view_count": null,
            "_view_module": "@jupyter-widgets/base",
            "_view_module_version": "1.2.0",
            "_view_name": "StyleView",
            "bar_color": null,
            "description_width": ""
          }
        },
        "c1b1e297c02348d4a21215a28f34f163": {
          "model_module": "@jupyter-widgets/base",
          "model_name": "LayoutModel",
          "model_module_version": "1.2.0",
          "state": {
            "_model_module": "@jupyter-widgets/base",
            "_model_module_version": "1.2.0",
            "_model_name": "LayoutModel",
            "_view_count": null,
            "_view_module": "@jupyter-widgets/base",
            "_view_module_version": "1.2.0",
            "_view_name": "LayoutView",
            "align_content": null,
            "align_items": null,
            "align_self": null,
            "border": null,
            "bottom": null,
            "display": null,
            "flex": null,
            "flex_flow": null,
            "grid_area": null,
            "grid_auto_columns": null,
            "grid_auto_flow": null,
            "grid_auto_rows": null,
            "grid_column": null,
            "grid_gap": null,
            "grid_row": null,
            "grid_template_areas": null,
            "grid_template_columns": null,
            "grid_template_rows": null,
            "height": null,
            "justify_content": null,
            "justify_items": null,
            "left": null,
            "margin": null,
            "max_height": null,
            "max_width": null,
            "min_height": null,
            "min_width": null,
            "object_fit": null,
            "object_position": null,
            "order": null,
            "overflow": null,
            "overflow_x": null,
            "overflow_y": null,
            "padding": null,
            "right": null,
            "top": null,
            "visibility": null,
            "width": null
          }
        },
        "3d9a31dc073944fd84b5e2c393d60239": {
          "model_module": "@jupyter-widgets/controls",
          "model_name": "DescriptionStyleModel",
          "model_module_version": "1.5.0",
          "state": {
            "_model_module": "@jupyter-widgets/controls",
            "_model_module_version": "1.5.0",
            "_model_name": "DescriptionStyleModel",
            "_view_count": null,
            "_view_module": "@jupyter-widgets/base",
            "_view_module_version": "1.2.0",
            "_view_name": "StyleView",
            "description_width": ""
          }
        }
      }
    }
  },
  "nbformat": 4,
  "nbformat_minor": 0
}