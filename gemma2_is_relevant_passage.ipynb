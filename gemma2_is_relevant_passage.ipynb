{
  "cells": [
    {
      "cell_type": "markdown",
      "metadata": {
        "id": "view-in-github",
        "colab_type": "text"
      },
      "source": [
        "<a href=\"https://colab.research.google.com/github/stasrodov/self-rag-eval/blob/main/gemma2_is_relevant_passage.ipynb\" target=\"_parent\"><img src=\"https://colab.research.google.com/assets/colab-badge.svg\" alt=\"Open In Colab\"/></a>"
      ]
    },
    {
      "cell_type": "markdown",
      "source": [
        "## This is part of Self-RAG evaluation final project\n",
        "### See main section in 'self_rag_eval_project.ipynb' in github\n",
        "\n"
      ],
      "metadata": {
        "id": "7QOIyU0vdECb"
      },
      "id": "7QOIyU0vdECb"
    },
    {
      "cell_type": "markdown",
      "id": "7fb3754f-677b-489e-95c9-1365531e01cc",
      "metadata": {
        "id": "7fb3754f-677b-489e-95c9-1365531e01cc"
      },
      "source": [
        "### Loading the Attribute-QA dataset and Gemma-2 model"
      ]
    },
    {
      "cell_type": "code",
      "execution_count": null,
      "id": "80babde3-c82d-4e1d-9b50-145d9f006ca9",
      "metadata": {
        "scrolled": true,
        "id": "80babde3-c82d-4e1d-9b50-145d9f006ca9"
      },
      "outputs": [],
      "source": [
        "!pip install -U transformers\n",
        "!pip install accelerate\n",
        "!pip install pandas"
      ]
    },
    {
      "cell_type": "code",
      "execution_count": null,
      "id": "6e28d75f-6d3a-4a5c-8d78-8b81ea708e31",
      "metadata": {
        "id": "6e28d75f-6d3a-4a5c-8d78-8b81ea708e31"
      },
      "outputs": [],
      "source": [
        "# Constants:\n",
        "ATTR_QA_PATH = 'Attributed-QA'\n",
        "RATINGS_FILENAME = 'ratings'\n",
        "SELF_RAG_PATH = 'self-rag'"
      ]
    },
    {
      "cell_type": "code",
      "execution_count": null,
      "id": "389cc3af-e2b7-4199-be6a-a4b6c69a352f",
      "metadata": {
        "scrolled": true,
        "collapsed": true,
        "id": "389cc3af-e2b7-4199-be6a-a4b6c69a352f",
        "outputId": "a85cf460-ff98-4090-9cc4-6c234cf673b0"
      },
      "outputs": [
        {
          "name": "stdout",
          "output_type": "stream",
          "text": [
            "fatal: destination path 'Attributed-QA' already exists and is not an empty directory.\n"
          ]
        },
        {
          "name": "stderr",
          "output_type": "stream",
          "text": [
            "huggingface/tokenizers: The current process just got forked, after parallelism has already been used. Disabling parallelism to avoid deadlocks...\n",
            "To disable this warning, you can either:\n",
            "\t- Avoid using `tokenizers` before the fork if possible\n",
            "\t- Explicitly set the environment variable TOKENIZERS_PARALLELISM=(true | false)\n"
          ]
        },
        {
          "data": {
            "text/html": [
              "<div>\n",
              "<style scoped>\n",
              "    .dataframe tbody tr th:only-of-type {\n",
              "        vertical-align: middle;\n",
              "    }\n",
              "\n",
              "    .dataframe tbody tr th {\n",
              "        vertical-align: top;\n",
              "    }\n",
              "\n",
              "    .dataframe thead th {\n",
              "        text-align: right;\n",
              "    }\n",
              "</style>\n",
              "<table border=\"1\" class=\"dataframe\">\n",
              "  <thead>\n",
              "    <tr style=\"text-align: right;\">\n",
              "      <th></th>\n",
              "      <th>question</th>\n",
              "      <th>passage</th>\n",
              "      <th>human_rating</th>\n",
              "      <th>attribution</th>\n",
              "    </tr>\n",
              "  </thead>\n",
              "  <tbody>\n",
              "    <tr>\n",
              "      <th>0</th>\n",
              "      <td>who played hyde in league of extraordinary gen...</td>\n",
              "      <td>Title: Jason Flemyng\\nSection: Television and ...</td>\n",
              "      <td>Y</td>\n",
              "      <td>http://en.wikipedia.org/wiki/Jason_Flemyng#Jas...</td>\n",
              "    </tr>\n",
              "    <tr>\n",
              "      <th>7</th>\n",
              "      <td>who signed the largest on the declaration of i...</td>\n",
              "      <td>Title: United States Declaration of Independen...</td>\n",
              "      <td>Y</td>\n",
              "      <td>http://en.wikipedia.org/wiki/United_States_Dec...</td>\n",
              "    </tr>\n",
              "    <tr>\n",
              "      <th>16</th>\n",
              "      <td>when was the last time the carolina hurricanes...</td>\n",
              "      <td>Title: 2009 Stanley Cup playoffs\\nSection: Con...</td>\n",
              "      <td>Y</td>\n",
              "      <td>http://en.wikipedia.org/wiki/2009_Stanley_Cup_...</td>\n",
              "    </tr>\n",
              "    <tr>\n",
              "      <th>21</th>\n",
              "      <td>where was 2017 beauty and the beast filmed</td>\n",
              "      <td>Title: Beauty and the Beast (2017 film)\\n\\nA l...</td>\n",
              "      <td>Y</td>\n",
              "      <td>http://en.wikipedia.org/wiki/Beauty_and_the_Be...</td>\n",
              "    </tr>\n",
              "    <tr>\n",
              "      <th>23</th>\n",
              "      <td>when does the next warrior book come out</td>\n",
              "      <td>Title: Adonal Foyle\\n\\nAdonal David Foyle (bor...</td>\n",
              "      <td>N</td>\n",
              "      <td>http://en.wikipedia.org/wiki/Adonal_Foyle#Adon...</td>\n",
              "    </tr>\n",
              "    <tr>\n",
              "      <th>...</th>\n",
              "      <td>...</td>\n",
              "      <td>...</td>\n",
              "      <td>...</td>\n",
              "      <td>...</td>\n",
              "    </tr>\n",
              "    <tr>\n",
              "      <th>81842</th>\n",
              "      <td>the road that connects the tombs is called</td>\n",
              "      <td>Title: Valley of the Kings (Tibet)\\n\\nThe Vall...</td>\n",
              "      <td>N</td>\n",
              "      <td>http://en.wikipedia.org/wiki/Valley_of_the_Kin...</td>\n",
              "    </tr>\n",
              "    <tr>\n",
              "      <th>81843</th>\n",
              "      <td>when was the miraculous journey of edward tula...</td>\n",
              "      <td>Title: The Miraculous Journey of Edward Tulane...</td>\n",
              "      <td>N</td>\n",
              "      <td>http://en.wikipedia.org/wiki/The_Miraculous_Jo...</td>\n",
              "    </tr>\n",
              "    <tr>\n",
              "      <th>81844</th>\n",
              "      <td>where was the remake of dirty dancing filmed</td>\n",
              "      <td>Title: Asheville, North Carolina\\nSection: In ...</td>\n",
              "      <td>N</td>\n",
              "      <td>http://en.wikipedia.org/wiki/Asheville,_North_...</td>\n",
              "    </tr>\n",
              "    <tr>\n",
              "      <th>81845</th>\n",
              "      <td>how long is a whale shark in meters</td>\n",
              "      <td>Title: List of largest fish\\nSection: Cartilag...</td>\n",
              "      <td>N</td>\n",
              "      <td>http://en.wikipedia.org/wiki/List_of_largest_f...</td>\n",
              "    </tr>\n",
              "    <tr>\n",
              "      <th>81846</th>\n",
              "      <td>how many levels are there on the eiffel tower</td>\n",
              "      <td>Title: Eiffel Tower\\nSection: History, Inaugur...</td>\n",
              "      <td>N</td>\n",
              "      <td>http://en.wikipedia.org/wiki/Eiffel_Tower#Eiff...</td>\n",
              "    </tr>\n",
              "  </tbody>\n",
              "</table>\n",
              "<p>5785 rows × 4 columns</p>\n",
              "</div>"
            ],
            "text/plain": [
              "                                                question  \\\n",
              "0      who played hyde in league of extraordinary gen...   \n",
              "7      who signed the largest on the declaration of i...   \n",
              "16     when was the last time the carolina hurricanes...   \n",
              "21            where was 2017 beauty and the beast filmed   \n",
              "23              when does the next warrior book come out   \n",
              "...                                                  ...   \n",
              "81842         the road that connects the tombs is called   \n",
              "81843  when was the miraculous journey of edward tula...   \n",
              "81844       where was the remake of dirty dancing filmed   \n",
              "81845                how long is a whale shark in meters   \n",
              "81846      how many levels are there on the eiffel tower   \n",
              "\n",
              "                                                 passage human_rating  \\\n",
              "0      Title: Jason Flemyng\\nSection: Television and ...            Y   \n",
              "7      Title: United States Declaration of Independen...            Y   \n",
              "16     Title: 2009 Stanley Cup playoffs\\nSection: Con...            Y   \n",
              "21     Title: Beauty and the Beast (2017 film)\\n\\nA l...            Y   \n",
              "23     Title: Adonal Foyle\\n\\nAdonal David Foyle (bor...            N   \n",
              "...                                                  ...          ...   \n",
              "81842  Title: Valley of the Kings (Tibet)\\n\\nThe Vall...            N   \n",
              "81843  Title: The Miraculous Journey of Edward Tulane...            N   \n",
              "81844  Title: Asheville, North Carolina\\nSection: In ...            N   \n",
              "81845  Title: List of largest fish\\nSection: Cartilag...            N   \n",
              "81846  Title: Eiffel Tower\\nSection: History, Inaugur...            N   \n",
              "\n",
              "                                             attribution  \n",
              "0      http://en.wikipedia.org/wiki/Jason_Flemyng#Jas...  \n",
              "7      http://en.wikipedia.org/wiki/United_States_Dec...  \n",
              "16     http://en.wikipedia.org/wiki/2009_Stanley_Cup_...  \n",
              "21     http://en.wikipedia.org/wiki/Beauty_and_the_Be...  \n",
              "23     http://en.wikipedia.org/wiki/Adonal_Foyle#Adon...  \n",
              "...                                                  ...  \n",
              "81842  http://en.wikipedia.org/wiki/Valley_of_the_Kin...  \n",
              "81843  http://en.wikipedia.org/wiki/The_Miraculous_Jo...  \n",
              "81844  http://en.wikipedia.org/wiki/Asheville,_North_...  \n",
              "81845  http://en.wikipedia.org/wiki/List_of_largest_f...  \n",
              "81846  http://en.wikipedia.org/wiki/Eiffel_Tower#Eiff...  \n",
              "\n",
              "[5785 rows x 4 columns]"
            ]
          },
          "execution_count": 27,
          "metadata": {},
          "output_type": "execute_result"
        }
      ],
      "source": [
        "from zipfile import ZipFile\n",
        "import pandas as pd\n",
        "\n",
        "!git clone https://github.com/google-research-datasets/Attributed-QA.git\n",
        "\n",
        "with ZipFile(f'{ATTR_QA_PATH}/{RATINGS_FILENAME}.zip') as ratings_zip:\n",
        "  ratings_zip.extract(f'{RATINGS_FILENAME}.csv', ATTR_QA_PATH)\n",
        "\n",
        "ratings_df = pd.read_csv(f'{ATTR_QA_PATH}/{RATINGS_FILENAME}.csv')\n",
        "\n",
        "# Filter rows without human rating:\n",
        "ratings_df = ratings_df[ratings_df['human_rating'] != '-']\n",
        "\n",
        "# Filter unneeded columns:\n",
        "columns_all = ratings_df.columns.values\n",
        "columns_needed = ['question', 'passage', 'human_rating', 'attribution'] # 'answer' !!\n",
        "columns_unneeded = set(columns_all) - set(columns_needed)\n",
        "ratings_df = ratings_df.drop(columns=columns_unneeded)\n",
        "\n",
        "# Filter duplicate rows:\n",
        "ratings_df = ratings_df.drop_duplicates()\n",
        "# ratings_df # 7121 rows\n",
        "\n",
        "# Filter rows with different 'human_rating' values while the rest is the same:\n",
        "columns_no_hr = [c for c in columns_needed if c != 'human_rating']\n",
        "ratings_df = ratings_df.drop_duplicates(subset=columns_no_hr, keep=False)\n",
        "\n",
        "ratings_df.to_csv(f'{ATTR_QA_PATH}/{RATINGS_FILENAME}_filtered.csv', index=False)\n",
        "ratings_df # 5785 rows"
      ]
    },
    {
      "cell_type": "code",
      "execution_count": null,
      "id": "98b59cbd-0498-49e8-96a6-2e5af92be451",
      "metadata": {
        "scrolled": true,
        "colab": {
          "referenced_widgets": [
            "4af601d7e47c41d3809aa88e00d3f042",
            "e685160ed18e433b846b38f7e89419ee",
            "d44947a1adea4fefb0e614db3da4d14b",
            "f303a11d5e244f86b2357a4ec6e11f9a",
            "456f7c729b4e4a63b7b5e09388eaf4fb",
            "ce56dcdd1a5e46c5884497ab83d164c9",
            "62eddee1b5ad42fda0bbfd82a1c90fcf",
            "45cc47b801364bd9be38c8481a50edd8",
            "a5501119bbea47b7b00dad598e135aff",
            "edcb8b3ded9c45b984a99b3b4aa12642",
            "4c0e93c4196d4778b9b18c44790f712f",
            "f2c37cf5b48d4fa383eacc2da47df20f",
            "9c675a8a435c432e968be1aeb8328340",
            "5130692738c54718bcb2cfbedc67188f",
            "c400363063cb425eae98fdd8ca0a50ad",
            "bf6b09dfd21e43f7a2e2665978ba22ac",
            "540c52564c83433dbe1e6e223b7d355c",
            "2a256d2aaa35422ea85994d4ef468fd9",
            "a73fc43b3e4d45c09a3c31c34da73b94",
            "b0bafb4e5f144ac89b00c155e1c12e4e",
            "1231b3061432418080c222207493e068",
            "4913e795cb014f21b9b16fc914c4da7d",
            "f9e5e4544fc943308356a3a657b05a9e",
            "1d40f513b34c4c13b5340b221732e9dc",
            "fd25fdfac3cf42868fe0805b2aa303d7",
            "50a6b81b5ab24e808c84b8c11f902d8c",
            "4226696801794728ac4ba694f294ae38",
            "c9641c11d3724f56811f11b34fb7ab64",
            "7fd77d1299ae4c248215e87ca2c378bf",
            "91ee6be079594952b1be96561d0cf721",
            "d1f707a9e1d54996a96726607aef0e82",
            "706fdfd648464d5fba38e582aa256df7",
            "b2377c1a3a18477a9077699db2c01f09"
          ]
        },
        "collapsed": true,
        "id": "98b59cbd-0498-49e8-96a6-2e5af92be451",
        "outputId": "10593256-4630-49fb-a347-88d6d9ce4ab3"
      },
      "outputs": [
        {
          "data": {
            "application/vnd.jupyter.widget-view+json": {
              "model_id": "4af601d7e47c41d3809aa88e00d3f042",
              "version_major": 2,
              "version_minor": 0
            },
            "text/plain": [
              "tokenizer_config.json:   0%|          | 0.00/40.0k [00:00<?, ?B/s]"
            ]
          },
          "metadata": {},
          "output_type": "display_data"
        },
        {
          "data": {
            "application/vnd.jupyter.widget-view+json": {
              "model_id": "e685160ed18e433b846b38f7e89419ee",
              "version_major": 2,
              "version_minor": 0
            },
            "text/plain": [
              "tokenizer.model:   0%|          | 0.00/4.24M [00:00<?, ?B/s]"
            ]
          },
          "metadata": {},
          "output_type": "display_data"
        },
        {
          "data": {
            "application/vnd.jupyter.widget-view+json": {
              "model_id": "d44947a1adea4fefb0e614db3da4d14b",
              "version_major": 2,
              "version_minor": 0
            },
            "text/plain": [
              "tokenizer.json:   0%|          | 0.00/17.5M [00:00<?, ?B/s]"
            ]
          },
          "metadata": {},
          "output_type": "display_data"
        },
        {
          "data": {
            "application/vnd.jupyter.widget-view+json": {
              "model_id": "f303a11d5e244f86b2357a4ec6e11f9a",
              "version_major": 2,
              "version_minor": 0
            },
            "text/plain": [
              "special_tokens_map.json:   0%|          | 0.00/636 [00:00<?, ?B/s]"
            ]
          },
          "metadata": {},
          "output_type": "display_data"
        },
        {
          "data": {
            "application/vnd.jupyter.widget-view+json": {
              "model_id": "456f7c729b4e4a63b7b5e09388eaf4fb",
              "version_major": 2,
              "version_minor": 0
            },
            "text/plain": [
              "config.json:   0%|          | 0.00/892 [00:00<?, ?B/s]"
            ]
          },
          "metadata": {},
          "output_type": "display_data"
        },
        {
          "data": {
            "application/vnd.jupyter.widget-view+json": {
              "model_id": "ce56dcdd1a5e46c5884497ab83d164c9",
              "version_major": 2,
              "version_minor": 0
            },
            "text/plain": [
              "model.safetensors.index.json:   0%|          | 0.00/42.8k [00:00<?, ?B/s]"
            ]
          },
          "metadata": {},
          "output_type": "display_data"
        },
        {
          "data": {
            "application/vnd.jupyter.widget-view+json": {
              "model_id": "62eddee1b5ad42fda0bbfd82a1c90fcf",
              "version_major": 2,
              "version_minor": 0
            },
            "text/plain": [
              "Downloading shards:   0%|          | 0/24 [00:00<?, ?it/s]"
            ]
          },
          "metadata": {},
          "output_type": "display_data"
        },
        {
          "data": {
            "application/vnd.jupyter.widget-view+json": {
              "model_id": "45cc47b801364bd9be38c8481a50edd8",
              "version_major": 2,
              "version_minor": 0
            },
            "text/plain": [
              "model-00001-of-00024.safetensors:   0%|          | 0.00/4.95G [00:00<?, ?B/s]"
            ]
          },
          "metadata": {},
          "output_type": "display_data"
        },
        {
          "data": {
            "application/vnd.jupyter.widget-view+json": {
              "model_id": "a5501119bbea47b7b00dad598e135aff",
              "version_major": 2,
              "version_minor": 0
            },
            "text/plain": [
              "model-00002-of-00024.safetensors:   0%|          | 0.00/4.53G [00:00<?, ?B/s]"
            ]
          },
          "metadata": {},
          "output_type": "display_data"
        },
        {
          "data": {
            "application/vnd.jupyter.widget-view+json": {
              "model_id": "edcb8b3ded9c45b984a99b3b4aa12642",
              "version_major": 2,
              "version_minor": 0
            },
            "text/plain": [
              "model-00003-of-00024.safetensors:   0%|          | 0.00/4.53G [00:00<?, ?B/s]"
            ]
          },
          "metadata": {},
          "output_type": "display_data"
        },
        {
          "data": {
            "application/vnd.jupyter.widget-view+json": {
              "model_id": "4c0e93c4196d4778b9b18c44790f712f",
              "version_major": 2,
              "version_minor": 0
            },
            "text/plain": [
              "model-00004-of-00024.safetensors:   0%|          | 0.00/4.53G [00:00<?, ?B/s]"
            ]
          },
          "metadata": {},
          "output_type": "display_data"
        },
        {
          "data": {
            "application/vnd.jupyter.widget-view+json": {
              "model_id": "f2c37cf5b48d4fa383eacc2da47df20f",
              "version_major": 2,
              "version_minor": 0
            },
            "text/plain": [
              "model-00005-of-00024.safetensors:   0%|          | 0.00/4.53G [00:00<?, ?B/s]"
            ]
          },
          "metadata": {},
          "output_type": "display_data"
        },
        {
          "data": {
            "application/vnd.jupyter.widget-view+json": {
              "model_id": "9c675a8a435c432e968be1aeb8328340",
              "version_major": 2,
              "version_minor": 0
            },
            "text/plain": [
              "model-00006-of-00024.safetensors:   0%|          | 0.00/4.53G [00:00<?, ?B/s]"
            ]
          },
          "metadata": {},
          "output_type": "display_data"
        },
        {
          "data": {
            "application/vnd.jupyter.widget-view+json": {
              "model_id": "5130692738c54718bcb2cfbedc67188f",
              "version_major": 2,
              "version_minor": 0
            },
            "text/plain": [
              "model-00007-of-00024.safetensors:   0%|          | 0.00/4.53G [00:00<?, ?B/s]"
            ]
          },
          "metadata": {},
          "output_type": "display_data"
        },
        {
          "data": {
            "application/vnd.jupyter.widget-view+json": {
              "model_id": "c400363063cb425eae98fdd8ca0a50ad",
              "version_major": 2,
              "version_minor": 0
            },
            "text/plain": [
              "model-00008-of-00024.safetensors:   0%|          | 0.00/4.53G [00:00<?, ?B/s]"
            ]
          },
          "metadata": {},
          "output_type": "display_data"
        },
        {
          "data": {
            "application/vnd.jupyter.widget-view+json": {
              "model_id": "bf6b09dfd21e43f7a2e2665978ba22ac",
              "version_major": 2,
              "version_minor": 0
            },
            "text/plain": [
              "model-00009-of-00024.safetensors:   0%|          | 0.00/4.53G [00:00<?, ?B/s]"
            ]
          },
          "metadata": {},
          "output_type": "display_data"
        },
        {
          "data": {
            "application/vnd.jupyter.widget-view+json": {
              "model_id": "540c52564c83433dbe1e6e223b7d355c",
              "version_major": 2,
              "version_minor": 0
            },
            "text/plain": [
              "model-00010-of-00024.safetensors:   0%|          | 0.00/4.53G [00:00<?, ?B/s]"
            ]
          },
          "metadata": {},
          "output_type": "display_data"
        },
        {
          "data": {
            "application/vnd.jupyter.widget-view+json": {
              "model_id": "2a256d2aaa35422ea85994d4ef468fd9",
              "version_major": 2,
              "version_minor": 0
            },
            "text/plain": [
              "model-00011-of-00024.safetensors:   0%|          | 0.00/4.53G [00:00<?, ?B/s]"
            ]
          },
          "metadata": {},
          "output_type": "display_data"
        },
        {
          "data": {
            "application/vnd.jupyter.widget-view+json": {
              "model_id": "a73fc43b3e4d45c09a3c31c34da73b94",
              "version_major": 2,
              "version_minor": 0
            },
            "text/plain": [
              "model-00012-of-00024.safetensors:   0%|          | 0.00/4.53G [00:00<?, ?B/s]"
            ]
          },
          "metadata": {},
          "output_type": "display_data"
        },
        {
          "data": {
            "application/vnd.jupyter.widget-view+json": {
              "model_id": "b0bafb4e5f144ac89b00c155e1c12e4e",
              "version_major": 2,
              "version_minor": 0
            },
            "text/plain": [
              "model-00013-of-00024.safetensors:   0%|          | 0.00/4.53G [00:00<?, ?B/s]"
            ]
          },
          "metadata": {},
          "output_type": "display_data"
        },
        {
          "data": {
            "application/vnd.jupyter.widget-view+json": {
              "model_id": "1231b3061432418080c222207493e068",
              "version_major": 2,
              "version_minor": 0
            },
            "text/plain": [
              "model-00014-of-00024.safetensors:   0%|          | 0.00/4.53G [00:00<?, ?B/s]"
            ]
          },
          "metadata": {},
          "output_type": "display_data"
        },
        {
          "data": {
            "application/vnd.jupyter.widget-view+json": {
              "model_id": "4913e795cb014f21b9b16fc914c4da7d",
              "version_major": 2,
              "version_minor": 0
            },
            "text/plain": [
              "model-00015-of-00024.safetensors:   0%|          | 0.00/4.53G [00:00<?, ?B/s]"
            ]
          },
          "metadata": {},
          "output_type": "display_data"
        },
        {
          "data": {
            "application/vnd.jupyter.widget-view+json": {
              "model_id": "f9e5e4544fc943308356a3a657b05a9e",
              "version_major": 2,
              "version_minor": 0
            },
            "text/plain": [
              "model-00016-of-00024.safetensors:   0%|          | 0.00/4.53G [00:00<?, ?B/s]"
            ]
          },
          "metadata": {},
          "output_type": "display_data"
        },
        {
          "data": {
            "application/vnd.jupyter.widget-view+json": {
              "model_id": "1d40f513b34c4c13b5340b221732e9dc",
              "version_major": 2,
              "version_minor": 0
            },
            "text/plain": [
              "model-00017-of-00024.safetensors:   0%|          | 0.00/4.53G [00:00<?, ?B/s]"
            ]
          },
          "metadata": {},
          "output_type": "display_data"
        },
        {
          "data": {
            "application/vnd.jupyter.widget-view+json": {
              "model_id": "fd25fdfac3cf42868fe0805b2aa303d7",
              "version_major": 2,
              "version_minor": 0
            },
            "text/plain": [
              "model-00018-of-00024.safetensors:   0%|          | 0.00/4.53G [00:00<?, ?B/s]"
            ]
          },
          "metadata": {},
          "output_type": "display_data"
        },
        {
          "data": {
            "application/vnd.jupyter.widget-view+json": {
              "model_id": "50a6b81b5ab24e808c84b8c11f902d8c",
              "version_major": 2,
              "version_minor": 0
            },
            "text/plain": [
              "model-00019-of-00024.safetensors:   0%|          | 0.00/4.53G [00:00<?, ?B/s]"
            ]
          },
          "metadata": {},
          "output_type": "display_data"
        },
        {
          "data": {
            "application/vnd.jupyter.widget-view+json": {
              "model_id": "4226696801794728ac4ba694f294ae38",
              "version_major": 2,
              "version_minor": 0
            },
            "text/plain": [
              "model-00020-of-00024.safetensors:   0%|          | 0.00/4.53G [00:00<?, ?B/s]"
            ]
          },
          "metadata": {},
          "output_type": "display_data"
        },
        {
          "data": {
            "application/vnd.jupyter.widget-view+json": {
              "model_id": "c9641c11d3724f56811f11b34fb7ab64",
              "version_major": 2,
              "version_minor": 0
            },
            "text/plain": [
              "model-00021-of-00024.safetensors:   0%|          | 0.00/4.53G [00:00<?, ?B/s]"
            ]
          },
          "metadata": {},
          "output_type": "display_data"
        },
        {
          "data": {
            "application/vnd.jupyter.widget-view+json": {
              "model_id": "7fd77d1299ae4c248215e87ca2c378bf",
              "version_major": 2,
              "version_minor": 0
            },
            "text/plain": [
              "model-00022-of-00024.safetensors:   0%|          | 0.00/4.53G [00:00<?, ?B/s]"
            ]
          },
          "metadata": {},
          "output_type": "display_data"
        },
        {
          "data": {
            "application/vnd.jupyter.widget-view+json": {
              "model_id": "91ee6be079594952b1be96561d0cf721",
              "version_major": 2,
              "version_minor": 0
            },
            "text/plain": [
              "model-00023-of-00024.safetensors:   0%|          | 0.00/4.53G [00:00<?, ?B/s]"
            ]
          },
          "metadata": {},
          "output_type": "display_data"
        },
        {
          "data": {
            "application/vnd.jupyter.widget-view+json": {
              "model_id": "d1f707a9e1d54996a96726607aef0e82",
              "version_major": 2,
              "version_minor": 0
            },
            "text/plain": [
              "model-00024-of-00024.safetensors:   0%|          | 0.00/4.30G [00:00<?, ?B/s]"
            ]
          },
          "metadata": {},
          "output_type": "display_data"
        },
        {
          "data": {
            "application/vnd.jupyter.widget-view+json": {
              "model_id": "706fdfd648464d5fba38e582aa256df7",
              "version_major": 2,
              "version_minor": 0
            },
            "text/plain": [
              "Loading checkpoint shards:   0%|          | 0/24 [00:00<?, ?it/s]"
            ]
          },
          "metadata": {},
          "output_type": "display_data"
        },
        {
          "data": {
            "application/vnd.jupyter.widget-view+json": {
              "model_id": "b2377c1a3a18477a9077699db2c01f09",
              "version_major": 2,
              "version_minor": 0
            },
            "text/plain": [
              "generation_config.json:   0%|          | 0.00/173 [00:00<?, ?B/s]"
            ]
          },
          "metadata": {},
          "output_type": "display_data"
        }
      ],
      "source": [
        "from transformers import AutoTokenizer, AutoModelForCausalLM\n",
        "import torch\n",
        "import os\n",
        "\n",
        "access_token = os.getenv('RUNPOD_SECRET_huggingface')\n",
        "tokenizer = AutoTokenizer.from_pretrained(\"google/gemma-2-27b\", token=access_token)\n",
        "model = AutoModelForCausalLM.from_pretrained(\n",
        "    \"google/gemma-2-27b\",\n",
        "    device_map=\"auto\",\n",
        "    torch_dtype=torch.bfloat16,\n",
        "    token=access_token)"
      ]
    },
    {
      "cell_type": "code",
      "execution_count": null,
      "id": "4b580d10-a33d-45b4-9cb2-5d4a7632fd64",
      "metadata": {
        "id": "4b580d10-a33d-45b4-9cb2-5d4a7632fd64"
      },
      "outputs": [],
      "source": [
        "def gemma_get_response(model, tokenizer, prompt, max_new_tokens=1024):\n",
        "    input_ids = tokenizer(prompt, return_tensors=\"pt\").to(\"cuda\")\n",
        "    outputs = model.generate(**input_ids, max_new_tokens=max_new_tokens)\n",
        "    return tokenizer.decode(outputs[0])"
      ]
    },
    {
      "cell_type": "code",
      "execution_count": null,
      "id": "953df1bc-9035-4e82-8c66-02d7477a3bd9",
      "metadata": {
        "scrolled": true,
        "id": "953df1bc-9035-4e82-8c66-02d7477a3bd9",
        "outputId": "ef892f64-18ba-4b5c-9238-699e8320e366"
      },
      "outputs": [
        {
          "name": "stdout",
          "output_type": "stream",
          "text": [
            "<bos>write poem about machine learning\n",
            "\n",
            "Machine learning is a field of artificial intelligence that uses statistical techniques to give computer systems the ability to \"learn\" (i.e., progressively improve performance on a specific task) from data, without being explicitly programmed.\n",
            "\n",
            "Machine learning algorithms build a mathematical model based on sample data, known as \"training data\", in order to make predictions or decisions without being explicitly programmed to perform the task. These algorithms are used in a wide variety of applications, such as email filtering, computer vision, speech recognition, natural language processing, and medical diagnosis.\n",
            "\n",
            "Machine learning is closely related to and often overlaps with computational statistics, which also focuses on prediction-making using computers. The study of mathematical optimization delivers methods, theory and application domains to the field of machine learning. Data mining is a related field of study, focusing on exploratory data analysis through unsupervised learning.\n",
            "\n",
            "Some machine learning methods do not require human supervision, such as unsupervised learning and reinforcement learning; however, many methods (supervised learning) require human supervision\n"
          ]
        }
      ],
      "source": [
        "prompt = 'write poem about machine learning'\n",
        "response_txt = gemma_get_response(model, tokenizer, prompt, max_new_tokens=200)\n",
        "print(response_txt)"
      ]
    },
    {
      "cell_type": "markdown",
      "id": "f91c33d7-26f9-4ec2-9349-c403ed45530b",
      "metadata": {
        "id": "f91c33d7-26f9-4ec2-9349-c403ed45530b"
      },
      "source": [
        "### Trying Gemma-2 to imitate the behavior of self-rag's 'Relevant' Tags"
      ]
    },
    {
      "cell_type": "markdown",
      "id": "8c17eb44-0183-4895-829c-df7e9883d053",
      "metadata": {
        "jp-MarkdownHeadingCollapsed": true,
        "id": "8c17eb44-0183-4895-829c-df7e9883d053"
      },
      "source": [
        "#### Zero-shot, with/without CoT:\n",
        "---\n",
        "CoT didn't really work.  \n",
        "Zero-shot (withot CoT) led to poor results."
      ]
    },
    {
      "cell_type": "code",
      "execution_count": null,
      "id": "86a888ea-ecc7-4265-a2d0-8f8eb3f74be8",
      "metadata": {
        "id": "86a888ea-ecc7-4265-a2d0-8f8eb3f74be8"
      },
      "outputs": [],
      "source": [
        "TAG_YES = '<Answer>Yes</Answer>'\n",
        "TAG_NO = '<Answer>No</Answer>'\n",
        "\n",
        "def create_prompt_is_relevant_passage(question, passage):\n",
        "  return f\"\"\"You are an expert in trivia questions. Decide if the following passage <Passage> is relevant for answering the following question <Question>.\n",
        "Explain your reasoning process, then write the final answer \"Yes\" or \"No\" between the tags <Answer> and </Answer>.\n",
        "Here is the question <Question>: <Question>{question}</Question>\n",
        "Here is the passage <Passage>: <Passage>{passage}</Passage>\\n\"\"\"\n",
        "\n",
        "def create_prompt_is_relevant_passage_no_cot(question, passage):\n",
        "  return f\"\"\"You are an expert in trivia questions. Decide if the following passage <Passage> is relevant for answering the following question <Question>.\n",
        "Write only \"Yes\" or \"No\" between the tags <Answer> and </Answer> AND NOTHING MORE.\n",
        "Here is the question <Question>: <Question>{question}</Question>\n",
        "Here is the passage <Passage>: <Passage>{passage}</Passage>\\n\"\"\""
      ]
    },
    {
      "cell_type": "code",
      "execution_count": null,
      "id": "89db4f35-2610-419c-97ce-30c3576ca37e",
      "metadata": {
        "scrolled": true,
        "id": "89db4f35-2610-419c-97ce-30c3576ca37e"
      },
      "outputs": [],
      "source": [
        "from tqdm.notebook import tqdm\n",
        "\n",
        "ratings_df = pd.read_csv(f'{ATTR_QA_PATH}/{RATINGS_FILENAME}_filtered.csv')\n",
        "\n",
        "total = len(ratings_df)\n",
        "gemma2_preds = []\n",
        "gemma2_ratings = []\n",
        "\n",
        "for i, row in  tqdm(ratings_df.iterrows(), desc=\"Querying Claude...\", total=total):\n",
        "  prompt = create_prompt_is_relevant_passage_no_cot(row.question, row.passage)\n",
        "  response_txt = gemma_get_response(model, tokenizer, prompt, max_new_tokens=200)\n",
        "  gemma2_preds.append(response_txt)\n",
        "  if TAG_YES in response_txt:\n",
        "    gemma2_ratings.append('Y')\n",
        "  elif TAG_NO in response_txt:\n",
        "    gemma2_ratings.append('N')\n",
        "  else:\n",
        "    gemma2_ratings.append('-')"
      ]
    },
    {
      "cell_type": "code",
      "execution_count": null,
      "id": "c823cf84-8c04-4c7c-969b-23da4e9a5c9e",
      "metadata": {
        "id": "c823cf84-8c04-4c7c-969b-23da4e9a5c9e"
      },
      "outputs": [],
      "source": [
        "ratings_2769_df = ratings_df.head(2769)\n",
        "ratings_2769_df['gemma2_rating'] = gemma2_ratings\n",
        "ratings_2769_df['gemma2_pred'] = gemma2_preds\n",
        "ratings_2769_df.to_csv(f'{ATTR_QA_PATH}/{RATINGS_FILENAME}_relevant_gemma_2769.csv', index=False)"
      ]
    },
    {
      "cell_type": "code",
      "execution_count": null,
      "id": "1c45a911-a2de-4acb-861f-7ba77407ba47",
      "metadata": {
        "id": "1c45a911-a2de-4acb-861f-7ba77407ba47",
        "outputId": "3046b257-55c4-4d12-fc75-fc2e5278b0a1"
      },
      "outputs": [
        {
          "name": "stdout",
          "output_type": "stream",
          "text": [
            "Total: 2769, #Yes: 2155, #No: 68, #-: 546\n",
            "Same: 950, Different: 1819, %Same: 34.31\n"
          ]
        }
      ],
      "source": [
        "# Statistics:\n",
        "ratings_gemma_df = pd.read_csv(f'{ATTR_QA_PATH}/{RATINGS_FILENAME}_relevant_gemma_2769.csv')\n",
        "\n",
        "total = len(ratings_gemma_df)\n",
        "yes = len(ratings_gemma_df[ratings_gemma_df['gemma2_rating'] == 'Y'])\n",
        "no =  len(ratings_gemma_df[ratings_gemma_df['gemma2_rating'] == 'N'])\n",
        "none = len(ratings_gemma_df[ratings_gemma_df['gemma2_rating'] == '-'])\n",
        "print(f'Total: {total}, #Yes: {yes}, #No: {no}, #-: {none}')\n",
        "\n",
        "same = len(ratings_gemma_df[ratings_gemma_df['gemma2_rating'] == ratings_gemma_df['human_rating']])\n",
        "print(f'Same: {same}, Different: {total - same}, %Same: {round(same / total * 100, 2)}')"
      ]
    },
    {
      "cell_type": "markdown",
      "id": "e16c4b7c-d4e2-4941-85e2-1e24a6850f6a",
      "metadata": {
        "id": "e16c4b7c-d4e2-4941-85e2-1e24a6850f6a"
      },
      "source": [
        "#### Few-shot:\n",
        "---\n",
        "Reasonable results, better than zero-shot with/without CoT."
      ]
    },
    {
      "cell_type": "code",
      "execution_count": null,
      "id": "c627dac3-bb70-41b6-a792-05eecb5390e7",
      "metadata": {
        "scrolled": true,
        "id": "c627dac3-bb70-41b6-a792-05eecb5390e7"
      },
      "outputs": [],
      "source": [
        "# Creating few-shot prompts:\n",
        "ratings_df_tail = pd.read_csv(f'{ATTR_QA_PATH}/{RATINGS_FILENAME}_filtered.csv').tail(2000)\n",
        "ratings_yes_df = ratings_df_tail[ratings_df_tail['human_rating'] == 'Y']\n",
        "ratings_no_df = ratings_df_tail[ratings_df_tail['human_rating'] == 'N']\n",
        "ratings_yes_no_df =  pd.concat([ratings_yes_df.head(2), ratings_no_df.head(2)])\n",
        "\n",
        "dem_len = len(ratings_yes_no_df)\n",
        "TAG_YES = f'<A{dem_len + 1}>Yes</A{dem_len + 1}>'\n",
        "TAG_NO = f'<A{dem_len + 1}>No</A{dem_len + 1}>'\n",
        "\n",
        "few_shot_prompt_prefix = ''\n",
        "for i in range(dem_len):\n",
        "    n = i + 1\n",
        "    row = ratings_yes_no_df.iloc[i]\n",
        "    ans = 'Yes' if row.human_rating == 'Y' else 'No'\n",
        "    few_shot_prompt_prefix += f'<Q{n}>{row.question}</Q{n}><P{n}>{row.passage}</P{n}><A{n}>{ans}</A{n}>\\n'\n",
        "\n",
        "def create_prompt_is_relevant_passage_few_shot(question, passage, demos=few_shot_prompt_prefix, dem_len=dem_len):\n",
        "    n = dem_len + 1\n",
        "    return demos + f'<Q{n}>{question}</Q{n}><P{n}>{passage}</P{n}><A{n}>'"
      ]
    },
    {
      "cell_type": "code",
      "execution_count": null,
      "id": "7a8f59bb-bf26-487a-baa2-e8fb806bacce",
      "metadata": {
        "scrolled": true,
        "collapsed": true,
        "id": "7a8f59bb-bf26-487a-baa2-e8fb806bacce",
        "outputId": "5114fd1a-f032-40b8-ff22-4fa69bd8bc4d"
      },
      "outputs": [
        {
          "name": "stdout",
          "output_type": "stream",
          "text": [
            "<Q1>which approach to psychology focuses on the body especially the brain and nervous system</Q1><P1>Title: Psychology of learning\n",
            "Section: Psychology of learning theories, Neuroscience\n",
            "\n",
            "The neuroscience of learning focuses on the relationships among the central nervous system, learning, and behavior. This central nervous system (CNS) is composed of the brain and spinal cord which are responsible for controlling behavior. This differs from the autonomic nervous system which relates with more autonomous functions such as respiration and digestion. Within the CNS, there are neurons, which send messages within and from the brain to the rest of body through electrical and chemical signals. The CNS also has glial cells which assist neurons in the communication process. These neurons communicate and form connections, also called consolidation, to form a person's cognition. Hence, learning, from a neuroscience perspective, focuses on how the organization of this neural network changes through the use and reception of information.</P1><A1>Yes</A1>\n",
            "<Q2>who sang the song if loving you is wrong i don't want to be right</Q2><P2>Title: (If Loving You Is Wrong) I Don't Want to Be Right\n",
            "Section: Content\n",
            "\n",
            "Millie Jackson, however, took a somewhat different approach. On both studio and live recordings, her version is typically divided into three parts: \"(If Loving You Is Wrong) I Don't Want to Be Right\", \"The Rap\", and \"(If Loving You Is Wrong) I Don't Want to Be Right (Reprise)\", which together have a running time of over 11 minutes. The first and third parts include the song more or less as originally written, while the second part was written by Jackson herself. Titled \"The Rap\", the middle segment is a monologue in which an unrepentant Jackson discusses her status as the \"other woman\" and why she loves it.</P2><A2>Yes</A2>\n",
            "<Q3>where will be the next olympics be held</Q3><P3>Title: Cycling at the 2010 Summer Youth Olympics – Boys' BMX\n",
            "\n",
            "Boys' BMX was part of the cycling at the 2010 Summer Youth Olympics program. The event consisted of a seeding round, then elimination rounds where after three races the top 4 would progress to the next round until the final where only a single race was held. It was held on 19 August 2010 at Tampines Bike Park. This was not an official individual event and therefore medals were not given. However the performance of the athletes provided points towards the Combined Mixed Team event for cycling.</P3><A3>No</A3>\n",
            "<Q4>who won the 2018 women's royal rumble match</Q4><P4>Title: Royal Rumble (2018)\n",
            "Section: Production, Background\n",
            "\n",
            "The Royal Rumble is an annual gimmick pay-per-view, produced every January by WWE since 1988. It is one of the promotion's original four pay-per-views, along with WrestleMania, SummerSlam, and Survivor Series, dubbed the \"Big Four\". It is named after the Royal Rumble match, a modified battle royal in which the participants enter at timed intervals instead of all beginning in the ring at the same time. The match generally features 30 wrestlers. Up until 2018, only one Royal Rumble match occurred at the event, which was for men. 2018 was the first Royal Rumble event to feature a women's version of the match, which also had 30 participants. This subsequently made the 2018 event the first to have two Royal Rumble matches, which is now standard. Traditionally, the winner of the match earns a world championship match at that year's WrestleMania. For 2018, the men and women could choose to challenge for either brand's top championship at WrestleMania 34: the men had their choice between Raw's Universal Championship or SmackDown's WWE Championship, while the women could choose either the Raw Women's Championship or SmackDown Women's Championship. 2018 was the thirty-first event in the Royal Rumble chronology and featured wrestlers from the Raw and SmackDown brands, with some NXT wrestlers and WWE veterans appearing in both the men's and women's Royal Rumble matches.</P4><A4>No</A4>\n",
            "<Q5>who played hyde in league of extraordinary gentlemen</Q5><P5>Title: Jason Flemyng\n",
            "Section: Television and film work\n",
            "\n",
            "In the early 2000s he featured in two big-budget Hollywood films which were adaptations of Alan Moore comic books; as John Netley in 2001's From Hell, with Johnny Depp, and 2003's The League of Extraordinary Gentlemen, with Sean Connery, in which Flemyng played Dr. Henry Jekyll and Edward Hyde. The latter film was a disappointment, but Flemyng commented that: \"It was a bit of a nightmare... the film cost a fortune and didn't make back the money it was meant to... But I still get a huge kick out of doing films like that and From Hell. Any day you walk onto a set and Sean Connery or Johnny Depp or Brad Pitt is there has to be a good day.\"</P5><A5>\n"
          ]
        }
      ],
      "source": [
        "# Some exploration with the prompt:\n",
        "ratings_gemma_df = pd.read_csv(f'{ATTR_QA_PATH}/{RATINGS_FILENAME}_relevant_gemma_2769.csv')\n",
        "row = ratings_gemma_df.iloc[0]\n",
        "prompt = create_prompt_is_relevant_passage_few_shot(row.question, row.passage)\n",
        "print(prompt)"
      ]
    },
    {
      "cell_type": "code",
      "execution_count": null,
      "id": "a11f6b88-43a3-4125-b783-3d2a87d51743",
      "metadata": {
        "scrolled": true,
        "collapsed": true,
        "id": "a11f6b88-43a3-4125-b783-3d2a87d51743",
        "outputId": "125fb569-7005-4536-c313-aad3722e9316"
      },
      "outputs": [
        {
          "name": "stdout",
          "output_type": "stream",
          "text": [
            "<bos><Q1>which approach to psychology focuses on the body especially the brain and nervous system</Q1><P1>Title: Psychology of learning\n",
            "Section: Psychology of learning theories, Neuroscience\n",
            "\n",
            "The neuroscience of learning focuses on the relationships among the central nervous system, learning, and behavior. This central nervous system (CNS) is composed of the brain and spinal cord which are responsible for controlling behavior. This differs from the autonomic nervous system which relates with more autonomous functions such as respiration and digestion. Within the CNS, there are neurons, which send messages within and from the brain to the rest of body through electrical and chemical signals. The CNS also has glial cells which assist neurons in the communication process. These neurons communicate and form connections, also called consolidation, to form a person's cognition. Hence, learning, from a neuroscience perspective, focuses on how the organization of this neural network changes through the use and reception of information.</P1><A1>Yes</A1>\n",
            "<Q2>who sang the song if loving you is wrong i don't want to be right</Q2><P2>Title: (If Loving You Is Wrong) I Don't Want to Be Right\n",
            "Section: Content\n",
            "\n",
            "Millie Jackson, however, took a somewhat different approach. On both studio and live recordings, her version is typically divided into three parts: \"(If Loving You Is Wrong) I Don't Want to Be Right\", \"The Rap\", and \"(If Loving You Is Wrong) I Don't Want to Be Right (Reprise)\", which together have a running time of over 11 minutes. The first and third parts include the song more or less as originally written, while the second part was written by Jackson herself. Titled \"The Rap\", the middle segment is a monologue in which an unrepentant Jackson discusses her status as the \"other woman\" and why she loves it.</P2><A2>Yes</A2>\n",
            "<Q3>where will be the next olympics be held</Q3><P3>Title: Cycling at the 2010 Summer Youth Olympics – Boys' BMX\n",
            "\n",
            "Boys' BMX was part of the cycling at the 2010 Summer Youth Olympics program. The event consisted of a seeding round, then elimination rounds where after three races the top 4 would progress to the next round until the final where only a single race was held. It was held on 19 August 2010 at Tampines Bike Park. This was not an official individual event and therefore medals were not given. However the performance of the athletes provided points towards the Combined Mixed Team event for cycling.</P3><A3>No</A3>\n",
            "<Q4>who won the 2018 women's royal rumble match</Q4><P4>Title: Royal Rumble (2018)\n",
            "Section: Production, Background\n",
            "\n",
            "The Royal Rumble is an annual gimmick pay-per-view, produced every January by WWE since 1988. It is one of the promotion's original four pay-per-views, along with WrestleMania, SummerSlam, and Survivor Series, dubbed the \"Big Four\". It is named after the Royal Rumble match, a modified battle royal in which the participants enter at timed intervals instead of all beginning in the ring at the same time. The match generally features 30 wrestlers. Up until 2018, only one Royal Rumble match occurred at the event, which was for men. 2018 was the first Royal Rumble event to feature a women's version of the match, which also had 30 participants. This subsequently made the 2018 event the first to have two Royal Rumble matches, which is now standard. Traditionally, the winner of the match earns a world championship match at that year's WrestleMania. For 2018, the men and women could choose to challenge for either brand's top championship at WrestleMania 34: the men had their choice between Raw's Universal Championship or SmackDown's WWE Championship, while the women could choose either the Raw Women's Championship or SmackDown Women's Championship. 2018 was the thirty-first event in the Royal Rumble chronology and featured wrestlers from the Raw and SmackDown brands, with some NXT wrestlers and WWE veterans appearing in both the men's and women's Royal Rumble matches.</P4><A4>No</A4>\n",
            "<Q5>who played hyde in league of extraordinary gentlemen</Q5><P5>Title: Jason Flemyng\n",
            "Section: Television and film work\n",
            "\n",
            "In the early 2000s he featured in two big-budget Hollywood films which were adaptations of Alan Moore comic books; as John Netley in 2001's From Hell, with Johnny Depp, and 2003's The League of Extraordinary Gentlemen, with Sean Connery, in which Flemyng played Dr. Henry Jekyll and Edward Hyde. The latter film was a disappointment, but Flemyng commented that: \"It was a bit of a nightmare... the film cost a fortune and didn't make back the money it was meant to... But I still get a huge kick out of doing films like that and From Hell. Any day you walk onto a set and Sean Connery or Johnny Depp or Brad Pitt is there has to be a good day.\"</P5><A5>Yes</A5>\n",
            "<Q6>what is the name of the first episode of the office</Q6><P6>Title: The Office (U.S. TV series)\n",
            "Section: Series overview\n",
            "\n",
            "The Office is an American television mockumentary sitcom that depicts the everyday lives of office employees in the Scranton, Pennsylvania, branch of the fictional Dunder Mifflin Paper Company. It aired on NBC from March 24, 2005, to May 16, 2013, for a total of nine seasons. The series was adapted by Greg Daniels, a veteran writer for Saturday Night Live, King of the Hill, and The Simpsons, for the American cable television network NBC. It is an adaptation of the British series of the same name, written and directed by Ricky Gervais and Stephen Merchant. The Office was produced by Deedle-Dee Productions, Reveille Productions, and Shine America in association with Universal Television. The series was executive\n",
            "True\n",
            "False\n"
          ]
        }
      ],
      "source": [
        "response_txt = gemma_get_response(model, tokenizer, prompt, max_new_tokens=200)\n",
        "print(response_txt)\n",
        "print(TAG_YES in response_txt)\n",
        "print(TAG_NO in response_txt)"
      ]
    },
    {
      "cell_type": "code",
      "execution_count": null,
      "id": "8488115f-883c-4409-8947-f9a17913e56f",
      "metadata": {
        "id": "8488115f-883c-4409-8947-f9a17913e56f",
        "outputId": "e9148eb4-9c04-480a-9227-ebc2592d9525"
      },
      "outputs": [
        {
          "data": {
            "text/html": [
              "<div>\n",
              "<style scoped>\n",
              "    .dataframe tbody tr th:only-of-type {\n",
              "        vertical-align: middle;\n",
              "    }\n",
              "\n",
              "    .dataframe tbody tr th {\n",
              "        vertical-align: top;\n",
              "    }\n",
              "\n",
              "    .dataframe thead th {\n",
              "        text-align: right;\n",
              "    }\n",
              "</style>\n",
              "<table border=\"1\" class=\"dataframe\">\n",
              "  <thead>\n",
              "    <tr style=\"text-align: right;\">\n",
              "      <th></th>\n",
              "      <th>question</th>\n",
              "      <th>passage</th>\n",
              "      <th>human_rating</th>\n",
              "      <th>attribution</th>\n",
              "    </tr>\n",
              "  </thead>\n",
              "  <tbody>\n",
              "  </tbody>\n",
              "</table>\n",
              "</div>"
            ],
            "text/plain": [
              "Empty DataFrame\n",
              "Columns: [question, passage, human_rating, attribution]\n",
              "Index: []"
            ]
          },
          "execution_count": 37,
          "metadata": {},
          "output_type": "execute_result"
        }
      ],
      "source": [
        "# Let's try to find the generated question 'what is the name of the first episode of the office' in our dataset:\n",
        "ratings_df[ratings_df['question'] == 'what is the name of the first episode of the office']"
      ]
    },
    {
      "cell_type": "code",
      "execution_count": null,
      "id": "b4af7e6e-01ac-4f0c-9221-5838bd6572e5",
      "metadata": {
        "collapsed": true,
        "id": "b4af7e6e-01ac-4f0c-9221-5838bd6572e5",
        "outputId": "d4fb7ccc-86b4-49ff-b757-2ea74e16dccb"
      },
      "outputs": [
        {
          "data": {
            "text/html": [
              "<div>\n",
              "<style scoped>\n",
              "    .dataframe tbody tr th:only-of-type {\n",
              "        vertical-align: middle;\n",
              "    }\n",
              "\n",
              "    .dataframe tbody tr th {\n",
              "        vertical-align: top;\n",
              "    }\n",
              "\n",
              "    .dataframe thead th {\n",
              "        text-align: right;\n",
              "    }\n",
              "</style>\n",
              "<table border=\"1\" class=\"dataframe\">\n",
              "  <thead>\n",
              "    <tr style=\"text-align: right;\">\n",
              "      <th></th>\n",
              "      <th>question</th>\n",
              "      <th>passage</th>\n",
              "      <th>human_rating</th>\n",
              "      <th>attribution</th>\n",
              "    </tr>\n",
              "  </thead>\n",
              "  <tbody>\n",
              "    <tr>\n",
              "      <th>15691</th>\n",
              "      <td>how long prime minister stay in office canada</td>\n",
              "      <td>Title: List of prime ministers of Canada by ti...</td>\n",
              "      <td>N</td>\n",
              "      <td>http://en.wikipedia.org/wiki/List_of_prime_min...</td>\n",
              "    </tr>\n",
              "    <tr>\n",
              "      <th>17841</th>\n",
              "      <td>how long prime minister stay in office canada</td>\n",
              "      <td>Title: At Her Majesty's pleasure\\nSection: Ser...</td>\n",
              "      <td>Y</td>\n",
              "      <td>http://en.wikipedia.org/wiki/At_Her_Majesty's_...</td>\n",
              "    </tr>\n",
              "    <tr>\n",
              "      <th>25614</th>\n",
              "      <td>how long prime minister stay in office canada</td>\n",
              "      <td>Title: Prime Minister of Canada\\nSection: Term...</td>\n",
              "      <td>N</td>\n",
              "      <td>http://en.wikipedia.org/wiki/Prime_Minister_of...</td>\n",
              "    </tr>\n",
              "    <tr>\n",
              "      <th>33854</th>\n",
              "      <td>how long prime minister stay in office canada</td>\n",
              "      <td>Title: Term of office\\nSection: Canada, House ...</td>\n",
              "      <td>N</td>\n",
              "      <td>http://en.wikipedia.org/wiki/Term_of_office#Te...</td>\n",
              "    </tr>\n",
              "    <tr>\n",
              "      <th>35284</th>\n",
              "      <td>how long prime minister stay in office canada</td>\n",
              "      <td>Title: Prime Minister of Canada\\nSection: Term...</td>\n",
              "      <td>Y</td>\n",
              "      <td>http://en.wikipedia.org/wiki/Prime_Minister_of...</td>\n",
              "    </tr>\n",
              "    <tr>\n",
              "      <th>55720</th>\n",
              "      <td>how long prime minister stay in office canada</td>\n",
              "      <td>Title: List of prime ministers of Canada by ti...</td>\n",
              "      <td>N</td>\n",
              "      <td>http://en.wikipedia.org/wiki/List_of_prime_min...</td>\n",
              "    </tr>\n",
              "  </tbody>\n",
              "</table>\n",
              "</div>"
            ],
            "text/plain": [
              "                                            question  \\\n",
              "15691  how long prime minister stay in office canada   \n",
              "17841  how long prime minister stay in office canada   \n",
              "25614  how long prime minister stay in office canada   \n",
              "33854  how long prime minister stay in office canada   \n",
              "35284  how long prime minister stay in office canada   \n",
              "55720  how long prime minister stay in office canada   \n",
              "\n",
              "                                                 passage human_rating  \\\n",
              "15691  Title: List of prime ministers of Canada by ti...            N   \n",
              "17841  Title: At Her Majesty's pleasure\\nSection: Ser...            Y   \n",
              "25614  Title: Prime Minister of Canada\\nSection: Term...            N   \n",
              "33854  Title: Term of office\\nSection: Canada, House ...            N   \n",
              "35284  Title: Prime Minister of Canada\\nSection: Term...            Y   \n",
              "55720  Title: List of prime ministers of Canada by ti...            N   \n",
              "\n",
              "                                             attribution  \n",
              "15691  http://en.wikipedia.org/wiki/List_of_prime_min...  \n",
              "17841  http://en.wikipedia.org/wiki/At_Her_Majesty's_...  \n",
              "25614  http://en.wikipedia.org/wiki/Prime_Minister_of...  \n",
              "33854  http://en.wikipedia.org/wiki/Term_of_office#Te...  \n",
              "35284  http://en.wikipedia.org/wiki/Prime_Minister_of...  \n",
              "55720  http://en.wikipedia.org/wiki/List_of_prime_min...  "
            ]
          },
          "execution_count": 36,
          "metadata": {},
          "output_type": "execute_result"
        }
      ],
      "source": [
        "ratings_df[ratings_df['question'].str.contains('office')]\n",
        "\n",
        "# Checked also is the unfiltered CSV (not in this code).\n",
        "# Seems that the question does not appear in our dataset, but in might appear in googl's NQ dataset, which the CSV is derived from."
      ]
    },
    {
      "cell_type": "code",
      "execution_count": null,
      "id": "f730ae80-4297-42b7-b60c-06888197c17c",
      "metadata": {
        "jupyter": {
          "outputs_hidden": true
        },
        "scrolled": true,
        "id": "f730ae80-4297-42b7-b60c-06888197c17c"
      },
      "outputs": [],
      "source": [
        "from tqdm.notebook import tqdm\n",
        "\n",
        "ratings_gemma_df = pd.read_csv(f'{ATTR_QA_PATH}/{RATINGS_FILENAME}_relevant_gemma_2769.csv')\n",
        "\n",
        "# Finish what's left:\n",
        "ratings_gemma_df = ratings_df.tail(2119)\n",
        "# -------------------------------------------------------------------\n",
        "\n",
        "total = len(ratings_gemma_df)\n",
        "gemma2_preds = []\n",
        "gemma2_ratings = []\n",
        "\n",
        "for i, row in  tqdm(ratings_gemma_df.iterrows(), desc=\"Querying Claude...\", total=total):\n",
        "  prompt = create_prompt_is_relevant_passage_few_shot(row.question, row.passage)\n",
        "  response_txt = gemma_get_response(model, tokenizer, prompt, max_new_tokens=5)\n",
        "  gemma2_preds.append(response_txt)\n",
        "  if TAG_YES in response_txt:\n",
        "    gemma2_ratings.append('Y')\n",
        "  elif TAG_NO in response_txt:\n",
        "    gemma2_ratings.append('N')\n",
        "  else:\n",
        "    gemma2_ratings.append('-')\n"
      ]
    },
    {
      "cell_type": "code",
      "execution_count": null,
      "id": "36e6b6a2-0e41-4516-a5e6-284968f499c3",
      "metadata": {
        "jupyter": {
          "outputs_hidden": true
        },
        "id": "36e6b6a2-0e41-4516-a5e6-284968f499c3"
      },
      "outputs": [],
      "source": [
        "ratings_gemma_df['gemma2_rating'] = gemma2_ratings\n",
        "ratings_gemma_df['gemma2_pred'] = gemma2_preds\n",
        "ratings_gemma_df.to_csv(f'{ATTR_QA_PATH}/{RATINGS_FILENAME}_relevant_gemma_2119_few-shot.csv', index=False)"
      ]
    },
    {
      "cell_type": "code",
      "execution_count": null,
      "id": "9d5d3f79-de13-4ac3-b8e4-06209a8c1b17",
      "metadata": {
        "id": "9d5d3f79-de13-4ac3-b8e4-06209a8c1b17"
      },
      "outputs": [],
      "source": [
        "# Merge with results from previous run:\n",
        "ratings_head_df = pd.read_csv(f'{ATTR_QA_PATH}/{RATINGS_FILENAME}_relevant_gemma_650_few-shot.csv')\n",
        "ratings_tail_df = pd.read_csv(f'{ATTR_QA_PATH}/{RATINGS_FILENAME}_relevant_gemma_2119_few-shot.csv')\n",
        "ratings_gemma_merged_df = pd.concat([ratings_head_df, ratings_tail_df])\n",
        "ratings_gemma_merged_df.to_csv(f'{ATTR_QA_PATH}/{RATINGS_FILENAME}_relevant_gemma_merged_few-shot.csv', index=False)"
      ]
    },
    {
      "cell_type": "code",
      "execution_count": null,
      "id": "1c5e53c0-466f-48cd-be4a-ef465124a35e",
      "metadata": {
        "id": "1c5e53c0-466f-48cd-be4a-ef465124a35e",
        "outputId": "08657796-f1c1-4855-bf5e-eb969b824a6d"
      },
      "outputs": [
        {
          "name": "stdout",
          "output_type": "stream",
          "text": [
            "Total: 2769, #Yes: 746, #No: 2018, #-: 5\n",
            "Same: 1809, Different: 960, %Same: 65.33\n"
          ]
        }
      ],
      "source": [
        "# Final merged statistics:\n",
        "ratings_gemma_fs_df = pd.read_csv(f'{ATTR_QA_PATH}/{RATINGS_FILENAME}_relevant_gemma_merged_few-shot.csv')\n",
        "\n",
        "total = len(ratings_gemma_fs_df)\n",
        "yes = len(ratings_gemma_fs_df[ratings_gemma_fs_df['gemma2_rating'] == 'Y'])\n",
        "no =  len(ratings_gemma_fs_df[ratings_gemma_fs_df['gemma2_rating'] == 'N'])\n",
        "none = len(ratings_gemma_fs_df[ratings_gemma_fs_df['gemma2_rating'] == '-'])\n",
        "print(f'Total: {total}, #Yes: {yes}, #No: {no}, #-: {none}')\n",
        "\n",
        "same = len(ratings_gemma_fs_df[ratings_gemma_fs_df['gemma2_rating'] == ratings_gemma_fs_df['human_rating']])\n",
        "print(f'Same: {same}, Different: {total - same}, %Same: {round(same / total * 100, 2)}')"
      ]
    }
  ],
  "metadata": {
    "kernelspec": {
      "display_name": "Python 3 (ipykernel)",
      "language": "python",
      "name": "python3"
    },
    "language_info": {
      "codemirror_mode": {
        "name": "ipython",
        "version": 3
      },
      "file_extension": ".py",
      "mimetype": "text/x-python",
      "name": "python",
      "nbconvert_exporter": "python",
      "pygments_lexer": "ipython3",
      "version": "3.10.12"
    },
    "colab": {
      "provenance": [],
      "collapsed_sections": [
        "7fb3754f-677b-489e-95c9-1365531e01cc",
        "f91c33d7-26f9-4ec2-9349-c403ed45530b",
        "8c17eb44-0183-4895-829c-df7e9883d053",
        "e16c4b7c-d4e2-4941-85e2-1e24a6850f6a"
      ],
      "include_colab_link": true
    }
  },
  "nbformat": 4,
  "nbformat_minor": 5
}